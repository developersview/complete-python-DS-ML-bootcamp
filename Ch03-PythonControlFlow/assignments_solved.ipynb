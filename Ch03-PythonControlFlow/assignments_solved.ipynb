{
 "cells": [
  {
   "cell_type": "markdown",
   "metadata": {},
   "source": [
    "# Module 2: Control Flow Assignments\n",
    "## Lesson 2.1: Conditional Statements\n",
    "### Assignment 1: Simple if Statement\n",
    "\n",
    "Write a program that asks the user to input a number and prints whether the number is positive.\n",
    "\n",
    "### Assignment 2: if-else Statement\n",
    "\n",
    "Write a program that asks the user to input a number and prints whether the number is positive or negative.\n",
    "\n",
    "### Assignment 3: if-elif-else Statement\n",
    "\n",
    "Write a program that asks the user to input a number and prints whether the number is positive, negative, or zero.\n",
    "\n",
    "### Assignment 4: Nested if Statement\n",
    "\n",
    "Write a program that asks the user to input a number and prints whether the number is positive and even, positive and odd, or negative.\n",
    "\n",
    "## Lesson 2.2: Loops\n",
    "### Assignment 5: for Loop\n",
    "\n",
    "Write a program that prints all the numbers from 1 to 10 using a for loop.\n",
    "\n",
    "### Assignment 6: while Loop\n",
    "\n",
    "Write a program that prints all the numbers from 1 to 10 using a while loop.\n",
    "\n",
    "### Assignment 7: Nested Loops\n",
    "\n",
    "Write a program that prints a 5x5 grid of asterisks (*) using nested loops.\n",
    "\n",
    "### Assignment 8: break Statement\n",
    "\n",
    "Write a program that asks the user to input numbers until they input 0. The program should print the sum of all the input numbers.\n",
    "\n",
    "### Assignment 9: continue Statement\n",
    "\n",
    "Write a program that prints all the numbers from 1 to 10 except 5 using a for loop and continue statement.\n",
    "\n",
    "### Assignment 10: pass Statement\n",
    "\n",
    "Write a program that defines an empty function using the pass statement.\n",
    "\n",
    "### Assignment 11: Combining Loops and Conditionals\n",
    "\n",
    "Write a program that asks the user to input a number and prints all the even numbers from 1 to that number using a for loop.\n",
    "\n",
    "### Assignment 12: Factorial Calculation\n",
    "\n",
    "Write a program that calculates the factorial of a number input by the user using a while loop.\n",
    "\n",
    "### Assignment 13: Sum of Digits\n",
    "\n",
    "Write a program that calculates the sum of the digits of a number input by the user using a while loop.\n",
    "\n",
    "### Assignment 14: Prime Number Check\n",
    "\n",
    "Write a program that checks if a number input by the user is a prime number using a for loop.\n",
    "\n",
    "### Assignment 15: Fibonacci Sequence\n",
    "\n",
    "Write a program that prints the first n Fibonacci numbers, where n is input by the user."
   ]
  },
  {
   "cell_type": "markdown",
   "id": "7b483c7e",
   "metadata": {},
   "source": [
    "### Conditional Assignments"
   ]
  },
  {
   "cell_type": "code",
   "execution_count": 1,
   "id": "9189c25b",
   "metadata": {},
   "outputs": [
    {
     "name": "stdout",
     "output_type": "stream",
     "text": [
      "-5.0 is negative\n"
     ]
    }
   ],
   "source": [
    "'''\n",
    "Assignment 1: Simple if Statement\n",
    "Write a program that asks the user to input a number and prints whether the number is positive.\n",
    "\n",
    "Assignment 2: if-else Statement\n",
    "Write a program that asks the user to input a number and prints whether the number is positive or negative\n",
    "\n",
    "Assignment 3: if-elif-else Statement\n",
    "Write a program that asks the user to input a number and prints whether the number is positive, negative, or zero.\n",
    "'''\n",
    "num = float(input(\"Enter a number\"))\n",
    "\n",
    "if num > 0:\n",
    "    print(f\"{num} is positive\")\n",
    "elif num < 0:\n",
    "    print(f\"{num} is negative\")\n",
    "else:\n",
    "    print(\"You have entered zero\")"
   ]
  },
  {
   "cell_type": "code",
   "execution_count": 5,
   "id": "47a53fee",
   "metadata": {},
   "outputs": [
    {
     "name": "stdout",
     "output_type": "stream",
     "text": [
      "You have entered zero, which is because it is an integral multiple of 2. When 0 is divided by 2, the resulting quotient is also 0, which is an integer. This makes it an even number.\n"
     ]
    }
   ],
   "source": [
    "'''\n",
    "Assignment 4: Nested if Statement\n",
    "Write a program that asks the user to input a number and prints whether the number is positive and even, positive and odd, or negative. \n",
    "'''\n",
    "num = float(input(\"Enter a number\"))\n",
    "\n",
    "if num > 0:\n",
    "    if num % 2 == 0:\n",
    "        print(f\"{num} is positive even\")\n",
    "    else:\n",
    "        print(f\"{num} is positive odd\")\n",
    "elif num < 0:\n",
    "    if num % 2 == 0:\n",
    "        print(f\"{num} is negative even\")\n",
    "    else:\n",
    "        print(f\"{num} is negative odd\")\n",
    "else:\n",
    "    print(\"You have entered zero, which is because it is an integral multiple of 2. When 0 is divided by 2, the resulting quotient is also 0, which is an integer. This makes it an even number.\")"
   ]
  },
  {
   "cell_type": "markdown",
   "id": "d8ff2117",
   "metadata": {},
   "source": [
    "### Loops Assignments"
   ]
  },
  {
   "cell_type": "code",
   "execution_count": 8,
   "id": "d2b036b2",
   "metadata": {},
   "outputs": [
    {
     "name": "stdout",
     "output_type": "stream",
     "text": [
      "1 2 3 4 5 6 7 8 9 10 "
     ]
    }
   ],
   "source": [
    "''' \n",
    "Assignment 5: for Loop\n",
    "Write a program that prints all the numbers from 1 to 10 using a for loop.\n",
    "'''\n",
    "for i in range(1, 11):\n",
    "    print(i, end = \" \")"
   ]
  },
  {
   "cell_type": "code",
   "execution_count": 10,
   "id": "0bfa2ef0",
   "metadata": {},
   "outputs": [
    {
     "name": "stdout",
     "output_type": "stream",
     "text": [
      "1 2 3 4 5 6 7 8 9 10 "
     ]
    }
   ],
   "source": [
    "'''\n",
    "Assignment 6: while Loop\n",
    "Write a program that prints all the numbers from 1 to 10 using a while loop.\n",
    "'''\n",
    "i = 1\n",
    "while i < 11:\n",
    "    print(i, end = \" \")\n",
    "    i += 1"
   ]
  },
  {
   "cell_type": "code",
   "execution_count": 12,
   "id": "05f268fc",
   "metadata": {},
   "outputs": [
    {
     "name": "stdout",
     "output_type": "stream",
     "text": [
      "* * * * * \n",
      "* * * * * \n",
      "* * * * * \n",
      "* * * * * \n",
      "* * * * * \n"
     ]
    }
   ],
   "source": [
    "''' \n",
    "Assignment 7: Nested Loops\n",
    "Write a program that prints a 5x5 grid of asterisks (*) using nested loops.\n",
    "'''\n",
    "for i in range(5):\n",
    "    for j in range(5):\n",
    "        print(\"*\", end = \" \")\n",
    "    print()"
   ]
  },
  {
   "cell_type": "code",
   "execution_count": 17,
   "id": "1af5af8b",
   "metadata": {},
   "outputs": [
    {
     "name": "stdout",
     "output_type": "stream",
     "text": [
      "8.0\n",
      "8.0\n",
      "8.0\n",
      "-24.0\n",
      "0.0\n",
      "Sum:  0.0\n"
     ]
    }
   ],
   "source": [
    "''' \n",
    "Assignment 8: break Statement\n",
    "Write a program that asks the user to input numbers until they input 0. The program should print the sum of all the input numbers.\n",
    "'''\n",
    "sum = 0\n",
    "\n",
    "while True:\n",
    "    num = float(input(\"Enter a number\"))\n",
    "    print(num)\n",
    "    if num == 0:\n",
    "        break\n",
    "    sum += num\n",
    "\n",
    "print(\"Sum: \", sum)\n"
   ]
  },
  {
   "cell_type": "code",
   "execution_count": 18,
   "id": "01f6941b",
   "metadata": {},
   "outputs": [
    {
     "name": "stdout",
     "output_type": "stream",
     "text": [
      "1 2 3 4 6 7 8 9 10 "
     ]
    }
   ],
   "source": [
    "''' \n",
    "Assignment 9: continue Statement\n",
    "Write a program that prints all the numbers from 1 to 10 except 5 using a for loop and continue statement.\n",
    "'''\n",
    "for i in range(1, 11):\n",
    "    if i == 5:\n",
    "        continue\n",
    "    print(i, end = \" \")"
   ]
  },
  {
   "cell_type": "code",
   "execution_count": 20,
   "id": "d074b488",
   "metadata": {},
   "outputs": [],
   "source": [
    "'''\n",
    "Assignment 10: pass Statement\n",
    "Write a program that defines an empty function using the pass statement. \n",
    "'''\n",
    "def empty_func():\n",
    "    pass\n",
    "\n",
    "# Calling the empty function\n",
    "empty_func()"
   ]
  },
  {
   "cell_type": "code",
   "execution_count": 22,
   "id": "2256088d",
   "metadata": {},
   "outputs": [
    {
     "name": "stdout",
     "output_type": "stream",
     "text": [
      "2 4 6 8 10 12 14 "
     ]
    }
   ],
   "source": [
    "''' \n",
    "Assignment 11: Combining Loops and Conditionals\n",
    "Write a program that asks the user to input a number and prints all the even numbers from 1 to that number using a for loop.\n",
    "'''\n",
    "num = int(input(\"Enter an integer\"))\n",
    "\n",
    "for i in range(1, num + 1):\n",
    "    if i % 2 != 0:\n",
    "        continue\n",
    "    print(i, end = \" \")"
   ]
  },
  {
   "cell_type": "code",
   "execution_count": 24,
   "id": "de63f491",
   "metadata": {},
   "outputs": [
    {
     "name": "stdout",
     "output_type": "stream",
     "text": [
      "The factorial of 6 is 720\n"
     ]
    }
   ],
   "source": [
    "'''\n",
    "Assignment 12: Factorial Calculation\n",
    "Write a program that calculates the factorial of a number input by the user using a while loop. \n",
    "'''\n",
    "num = int(input(\"Enter an integer\"))\n",
    "\n",
    "fact = 1\n",
    "i = 1\n",
    "while i <= num:\n",
    "    fact *= i\n",
    "    i += 1\n",
    "\n",
    "print(f\"The factorial of {num} is {fact}\")"
   ]
  },
  {
   "cell_type": "code",
   "execution_count": 33,
   "id": "72ae071c",
   "metadata": {},
   "outputs": [
    {
     "name": "stdout",
     "output_type": "stream",
     "text": [
      "The sum of all digits of 1729 is 19\n"
     ]
    }
   ],
   "source": [
    "'''\n",
    "Assignment 13: Sum of Digits\n",
    "Write a program that calculates the sum of the digits of a number input by the user using a while loop.\n",
    "'''\n",
    "num = int(input(\"Enter an integer\"))\n",
    "future_use = num\n",
    "sum_of_digits = 0\n",
    "\n",
    "while num > 0:\n",
    "    digit = num % 10\n",
    "    sum_of_digits += digit\n",
    "    num //= 10\n",
    "\n",
    "print(f\"The sum of all digits of {future_use} is {sum_of_digits}\")\n"
   ]
  },
  {
   "cell_type": "code",
   "execution_count": 40,
   "id": "4b11298c",
   "metadata": {},
   "outputs": [
    {
     "name": "stdout",
     "output_type": "stream",
     "text": [
      "54 is not a prime number\n"
     ]
    }
   ],
   "source": [
    "'''\n",
    "Assignment 14: Prime Number Check\n",
    "Write a program that checks if a number input by the user is a prime number using a for loop. \n",
    "'''\n",
    "num = int(input(\"Enter an integer\"))\n",
    "is_prime = True\n",
    "\n",
    "if num <= 1:\n",
    "    is_prime = False\n",
    "\n",
    "for i in range(2, int(num ** 0.5) + 1):\n",
    "    if num % i == 0:\n",
    "        is_prime = False\n",
    "        break\n",
    "\n",
    "if is_prime:\n",
    "    print(f\"{num} is a prime number\")\n",
    "else:\n",
    "    print(f\"{num} is not a prime number\")"
   ]
  },
  {
   "cell_type": "code",
   "execution_count": 43,
   "id": "40ef781d",
   "metadata": {},
   "outputs": [
    {
     "name": "stdout",
     "output_type": "stream",
     "text": [
      "0 1 1 2 3 5 8 13 21 34 55 89 144 233 377 610 987 1597 2584 4181 "
     ]
    }
   ],
   "source": [
    "'''\n",
    "Assignment 15: Fibonacci Sequence\n",
    "Write a program that prints the first n Fibonacci numbers, where n is input by the user.\n",
    "'''\n",
    "n = int(input(\"Enter the number of Fibonacci numbers to print: \"))\n",
    "\n",
    "count = 0\n",
    "a, b = 0, 1\n",
    "\n",
    "while count < n:\n",
    "    print(a, end = \" \")\n",
    "    a, b = b, a + b\n",
    "    count += 1\n"
   ]
  }
 ],
 "metadata": {
  "kernelspec": {
   "display_name": "venv",
   "language": "python",
   "name": "python3"
  },
  "language_info": {
   "codemirror_mode": {
    "name": "ipython",
    "version": 3
   },
   "file_extension": ".py",
   "mimetype": "text/x-python",
   "name": "python",
   "nbconvert_exporter": "python",
   "pygments_lexer": "ipython3",
   "version": "3.12.8"
  }
 },
 "nbformat": 4,
 "nbformat_minor": 5
}
