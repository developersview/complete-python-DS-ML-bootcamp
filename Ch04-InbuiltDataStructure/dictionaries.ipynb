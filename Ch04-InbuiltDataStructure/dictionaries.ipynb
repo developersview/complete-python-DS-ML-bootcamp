{
 "cells": [
  {
   "cell_type": "markdown",
   "metadata": {},
   "source": [
    "# Dictionaries\n",
    "\n",
    "- Introduction to Dictionaries\n",
    "- Creating Dictionaries\n",
    "- Accessing Dictionary Elements\n",
    "- Modifying Dictionary Elements\n",
    "- Dictionary Methods\n",
    "- Iterating Over Dictionaries\n",
    "- Nested Dictionaries\n",
    "- Dictionary Comprehensions\n",
    "- Practical Examples and Common Errors\n",
    "\n",
    "## Introduction to Dictionaries\n",
    "Dictionaries are unordered collections of items. They store data in key-value pairs. Keys must be unique and immutable (e.g., strings, numbers, or tuples), while values can be of any type."
   ]
  },
  {
   "cell_type": "code",
   "execution_count": 2,
   "metadata": {},
   "outputs": [
    {
     "name": "stdout",
     "output_type": "stream",
     "text": [
      "{} <class 'dict'>\n"
     ]
    }
   ],
   "source": [
    "# crating dictionaries\n",
    "empty_dict = {}\n",
    "print(empty_dict, type(empty_dict))"
   ]
  },
  {
   "cell_type": "code",
   "execution_count": 3,
   "metadata": {},
   "outputs": [
    {
     "name": "stdout",
     "output_type": "stream",
     "text": [
      "{} <class 'dict'>\n"
     ]
    }
   ],
   "source": [
    "empty_dict = dict()\n",
    "print(empty_dict, type(empty_dict))"
   ]
  },
  {
   "cell_type": "code",
   "execution_count": 26,
   "metadata": {},
   "outputs": [
    {
     "name": "stdout",
     "output_type": "stream",
     "text": [
      "{'name': 'Pranoy', 'age': 26, 'grade': 9}\n",
      "<class 'dict'>\n"
     ]
    }
   ],
   "source": [
    "student = {\"name\": \"Pranoy\", \"age\": 26, \"grade\": 9}\n",
    "print(student)\n",
    "print(type(student))"
   ]
  },
  {
   "cell_type": "code",
   "execution_count": 27,
   "metadata": {},
   "outputs": [
    {
     "name": "stdout",
     "output_type": "stream",
     "text": [
      "{'name': 9, 'age': 26}\n"
     ]
    }
   ],
   "source": [
    "# this is wronh way, key should be unique, in such cases the value will be replaced\n",
    "student = {\"name\": \"Pranoy\", \"age\": 26, \"name\": 9}\n",
    "print(student)"
   ]
  },
  {
   "cell_type": "code",
   "execution_count": 28,
   "metadata": {},
   "outputs": [
    {
     "name": "stdout",
     "output_type": "stream",
     "text": [
      "{'name': 'Pranoy', 'age': 26, 'grade': 'A+'}\n",
      "A+\n",
      "26\n",
      "Pranoy\n"
     ]
    }
   ],
   "source": [
    "# accessing dictionary elements\n",
    "student = {\"name\": \"Pranoy\", \"age\": 26, \"grade\": 'A+'}\n",
    "print(student)\n",
    "print(student[\"grade\"])\n",
    "print(student[\"age\"])\n",
    "print(student[\"name\"])"
   ]
  },
  {
   "cell_type": "code",
   "execution_count": 29,
   "metadata": {},
   "outputs": [
    {
     "name": "stdout",
     "output_type": "stream",
     "text": [
      "A+\n",
      "None\n",
      "Not Available\n"
     ]
    }
   ],
   "source": [
    "# access using default get method\n",
    "print(student.get('grade'))\n",
    "print(student.get('last_name'))\n",
    "print(student.get('last_name', \"Not Available\"))"
   ]
  },
  {
   "cell_type": "code",
   "execution_count": 30,
   "metadata": {},
   "outputs": [
    {
     "name": "stdout",
     "output_type": "stream",
     "text": [
      "{'name': 'Pranoy', 'age': 26, 'grade': 'A+'}\n",
      "{'name': 'Pranoy', 'age': 27, 'grade': 'A+'}\n",
      "{'name': 'Pranoy', 'age': 27, 'grade': 'A+', 'address': 'Siliguri, West Bengal, India'}\n",
      "{'name': 'Pranoy', 'age': 27, 'grade': 'A+'}\n"
     ]
    }
   ],
   "source": [
    "# modifying dictionary elements\n",
    "## dictionaries are mutable, so we can add, update or delete elements\n",
    "print(student)\n",
    "student[\"age\"] = 27 # updated a value\n",
    "print(student)\n",
    "student[\"address\"] = \"Siliguri, West Bengal, India\" # added a new key and value\n",
    "print(student)\n",
    "del student['address']\n",
    "print(student)"
   ]
  },
  {
   "cell_type": "code",
   "execution_count": 35,
   "metadata": {},
   "outputs": [
    {
     "name": "stdout",
     "output_type": "stream",
     "text": [
      "dict_keys(['name', 'age', 'grade'])\n",
      "dict_values(['Pranoy', 27, 'A+'])\n",
      "dict_items([('name', 'Pranoy'), ('age', 27), ('grade', 'A+')])\n",
      "('name', 'Pranoy')\n",
      "('age', 27)\n",
      "('grade', 'A+')\n"
     ]
    }
   ],
   "source": [
    "# dictionary methods\n",
    "keys = student.keys()\n",
    "print(keys)\n",
    "\n",
    "values = student.values()\n",
    "print(values)\n",
    "\n",
    "items = student.items()\n",
    "print(items)\n",
    "\n",
    "for item in items:\n",
    "    print(item)"
   ]
  },
  {
   "cell_type": "code",
   "execution_count": 37,
   "metadata": {},
   "outputs": [
    {
     "name": "stdout",
     "output_type": "stream",
     "text": [
      "{'name': 'Pranoy', 'age': 27, 'grade': 'A+'}\n",
      "{'name': 'Pranoy', 'age': 27, 'grade': 'A+'}\n"
     ]
    }
   ],
   "source": [
    "\n",
    "student_copy = student\n",
    "print(student)\n",
    "print(student_copy)"
   ]
  },
  {
   "cell_type": "code",
   "execution_count": 38,
   "metadata": {},
   "outputs": [
    {
     "name": "stdout",
     "output_type": "stream",
     "text": [
      "{'name': 'Peter', 'age': 27, 'grade': 'A+'}\n",
      "{'name': 'Peter', 'age': 27, 'grade': 'A+'}\n"
     ]
    }
   ],
   "source": [
    "student[\"name\"] = \"Peter\"\n",
    "print(student)\n",
    "print(student_copy)"
   ]
  },
  {
   "cell_type": "code",
   "execution_count": 39,
   "metadata": {},
   "outputs": [
    {
     "name": "stdout",
     "output_type": "stream",
     "text": [
      "{'name': 'Peter', 'age': 27, 'grade': 'A+'}\n",
      "{'name': 'Peter', 'age': 27, 'grade': 'A+'}\n"
     ]
    }
   ],
   "source": [
    "# shallow copy\n",
    "student_copy1 = student.copy()\n",
    "print(student)\n",
    "print(student_copy1)"
   ]
  },
  {
   "cell_type": "code",
   "execution_count": 41,
   "metadata": {},
   "outputs": [
    {
     "name": "stdout",
     "output_type": "stream",
     "text": [
      "{'name': 'Pranoyc', 'age': 27, 'grade': 'A+'}\n",
      "{'name': 'Peter', 'age': 27, 'grade': 'A+'}\n"
     ]
    }
   ],
   "source": [
    "student[\"name\"] = \"Pranoyc\"\n",
    "print(student)\n",
    "print(student_copy1)"
   ]
  },
  {
   "cell_type": "code",
   "execution_count": 42,
   "metadata": {},
   "outputs": [
    {
     "name": "stdout",
     "output_type": "stream",
     "text": [
      "name\n",
      "age\n",
      "grade\n"
     ]
    }
   ],
   "source": [
    "# iterating over dictionaries\n",
    "# use loops to iterate \n",
    "\n",
    "# iterating over keys\n",
    "for key in student.keys():\n",
    "    print(key)"
   ]
  },
  {
   "cell_type": "code",
   "execution_count": 44,
   "metadata": {},
   "outputs": [
    {
     "name": "stdout",
     "output_type": "stream",
     "text": [
      "Pranoyc\n",
      "27\n",
      "A+\n"
     ]
    }
   ],
   "source": [
    "# iterate over values\n",
    "for value in student.values():\n",
    "    print(value)"
   ]
  },
  {
   "cell_type": "code",
   "execution_count": 46,
   "metadata": {},
   "outputs": [
    {
     "name": "stdout",
     "output_type": "stream",
     "text": [
      "Key: name, Value: Pranoyc\n",
      "Key: age, Value: 27\n",
      "Key: grade, Value: A+\n"
     ]
    }
   ],
   "source": [
    "# iterate over key-value pairs\n",
    "for key, value in student.items():\n",
    "    print(f\"Key: {key}, Value: {value}\")"
   ]
  },
  {
   "cell_type": "code",
   "execution_count": 57,
   "metadata": {},
   "outputs": [
    {
     "name": "stdout",
     "output_type": "stream",
     "text": [
      "{'student1': {'name': 'Pranoy', 'age': 26, 'grade': 'A+'}, 'student2': {'name': 'Peter', 'age': 23, 'grade': 'A+'}, 'student3': {'name': 'David', 'age': 33, 'grade': 'B+'}}\n"
     ]
    }
   ],
   "source": [
    "## nested dictionaries\n",
    "students = {\n",
    "    \"student1\" : {\"name\":\"Pranoy\", \"age\": 26, \"grade\": 'A+'},\n",
    "    \"student2\" : {\"name\":\"Peter\", \"age\": 23, \"grade\": 'A+'},\n",
    "    \"student3\" : {\"name\":\"David\", \"age\": 33, \"grade\": 'B+'},\n",
    "}\n",
    "\n",
    "print(students)"
   ]
  },
  {
   "cell_type": "code",
   "execution_count": 58,
   "metadata": {},
   "outputs": [
    {
     "name": "stdout",
     "output_type": "stream",
     "text": [
      "Peter\n"
     ]
    }
   ],
   "source": [
    "# access nested dictionaries elements\n",
    "print(students[\"student2\"][\"name\"])"
   ]
  },
  {
   "cell_type": "code",
   "execution_count": 67,
   "metadata": {},
   "outputs": [
    {
     "name": "stdout",
     "output_type": "stream",
     "text": [
      "Student ID : 1, Student Info: {'name': 'Pranoy', 'age': 26, 'grade': 'A+'}\n",
      "name : Pranoy\n",
      "age : 26\n",
      "grade : A+\n",
      "\n",
      "Student ID : 2, Student Info: {'name': 'Peter', 'age': 23, 'grade': 'A+'}\n",
      "name : Peter\n",
      "age : 23\n",
      "grade : A+\n",
      "\n",
      "Student ID : 3, Student Info: {'name': 'David', 'age': 33, 'grade': 'B+'}\n",
      "name : David\n",
      "age : 33\n",
      "grade : B+\n",
      "\n"
     ]
    }
   ],
   "source": [
    "# iterating over nested dictionaries\n",
    "for student_id, student_info in students.items():\n",
    "    print(f\"Student ID : {student_id[len(student_id) - 1:]}, Student Info: {student_info}\")\n",
    "    for key, value in student_info.items():\n",
    "        print(f\"{key} : {value}\")\n",
    "    print()"
   ]
  },
  {
   "cell_type": "code",
   "execution_count": 70,
   "metadata": {},
   "outputs": [
    {
     "name": "stdout",
     "output_type": "stream",
     "text": [
      "{1: 1, 2: 4, 3: 9, 4: 16, 5: 25}\n"
     ]
    }
   ],
   "source": [
    "# dictionary comprehensions\n",
    "sqaures = {x: x**2 for x in range(1, 6)}\n",
    "print(sqaures)"
   ]
  },
  {
   "cell_type": "code",
   "execution_count": 71,
   "metadata": {},
   "outputs": [
    {
     "name": "stdout",
     "output_type": "stream",
     "text": [
      "{0: 0, 2: 4, 4: 16, 6: 36, 8: 64, 10: 100, 12: 144, 14: 196}\n"
     ]
    }
   ],
   "source": [
    "# conditionals comprehensions\n",
    "evens = {x : x**2 for x in range(15) if x % 2 == 0}\n",
    "print(evens)"
   ]
  },
  {
   "cell_type": "code",
   "execution_count": 72,
   "metadata": {},
   "outputs": [
    {
     "name": "stdout",
     "output_type": "stream",
     "text": [
      "{1: 4, 2: 2, 3: 3, 4: 4, 5: 6, 6: 3, 7: 2, 8: 12, 9: 1}\n"
     ]
    }
   ],
   "source": [
    "# Practical Examples\n",
    "## USe a dictionary to count he frequency of elements in list\n",
    "numbers = [1,2,2,3,3,3,4,4,4,4,5,5,5,5,5,5,6,6,6,7,7,8,8,8,8,8,8,8,8,8,8,8,8,1,1,1,9]\n",
    "frequency = {}\n",
    "\n",
    "for number in numbers:\n",
    "    if(number in frequency):\n",
    "        frequency[number] += 1\n",
    "    else:\n",
    "        frequency[number] = 1\n",
    "\n",
    "print(frequency)\n",
    "\n"
   ]
  },
  {
   "cell_type": "code",
   "execution_count": 73,
   "metadata": {},
   "outputs": [
    {
     "name": "stdout",
     "output_type": "stream",
     "text": [
      "{'a': 1, 'b': 3, 'c': 4}\n"
     ]
    }
   ],
   "source": [
    "## Merge 2 dictionaries into one\n",
    "dict1 = {\"a\" : 1, \"b\" : 2}\n",
    "dict2 = {\"b\" : 3, \"c\": 4}\n",
    "merged_dict = {**dict1, **dict2}\n",
    "print(merged_dict)\n"
   ]
  },
  {
   "cell_type": "markdown",
   "metadata": {},
   "source": [
    "## Conclusion\n",
    "Dictionaries are powerful tools in Python for managing key-value pairs. They are used in a variety of real-world scenarios, such as counting word frequency, grouping data, storing configuration settings, managing phonebooks, tracking inventory, and caching results. Understanding how to leverage dictionaries effectively can greatly enhance the efficiency and readability of your code."
   ]
  }
 ],
 "metadata": {
  "kernelspec": {
   "display_name": "venv",
   "language": "python",
   "name": "python3"
  },
  "language_info": {
   "codemirror_mode": {
    "name": "ipython",
    "version": 3
   },
   "file_extension": ".py",
   "mimetype": "text/x-python",
   "name": "python",
   "nbconvert_exporter": "python",
   "pygments_lexer": "ipython3",
   "version": "3.12.8"
  }
 },
 "nbformat": 4,
 "nbformat_minor": 2
}
