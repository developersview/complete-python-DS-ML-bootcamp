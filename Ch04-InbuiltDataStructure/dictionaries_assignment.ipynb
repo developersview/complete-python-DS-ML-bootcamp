{
 "cells": [
  {
   "cell_type": "markdown",
   "metadata": {},
   "source": [
    "# Module 3: Data Structures Assignments\n",
    "## Lesson 3.4: Dictionaries\n",
    "### Assignment 1: Creating and Accessing Dictionaries\n",
    "\n",
    "Create a dictionary with the first 10 positive integers as keys and their squares as values. Print the dictionary.\n",
    "\n",
    "### Assignment 2: Accessing Dictionary Elements\n",
    "\n",
    "Print the value of the key 5 and the keys of the dictionary created in Assignment 1.\n",
    "\n",
    "### Assignment 3: Dictionary Methods\n",
    "\n",
    "Add a new key-value pair (11, 121) to the dictionary created in Assignment 1 and then remove the key-value pair with key 1. Print the modified dictionary.\n",
    "\n",
    "### Assignment 4: Iterating Over Dictionaries\n",
    "\n",
    "Iterate over the dictionary created in Assignment 1 and print each key-value pair.\n",
    "\n",
    "### Assignment 5: Dictionary Comprehensions\n",
    "\n",
    "Create a new dictionary containing the cubes of the first 10 positive integers using a dictionary comprehension. Print the new dictionary.\n",
    "\n",
    "### Assignment 6: Merging Dictionaries\n",
    "\n",
    "Create two dictionaries: one with keys as the first 5 positive integers and values as their squares, and another with keys as the next 5 positive integers and values as their squares. Merge these dictionaries into a single dictionary and print it.\n",
    "\n",
    "### Assignment 7: Nested Dictionaries\n",
    "\n",
    "Create a nested dictionary representing a student with keys 'name', 'age', 'grades', where 'grades' is another dictionary with keys 'math', 'science', and 'english'. Print the nested dictionary.\n",
    "\n",
    "### Assignment 8: Dictionary of Lists\n",
    "\n",
    "Create a dictionary where the keys are the first 5 positive integers and the values are lists containing the first 5 multiples of the key. Print the dictionary.\n",
    "\n",
    "### Assignment 9: Dictionary of Tuples\n",
    "\n",
    "Create a dictionary where the keys are the first 5 positive integers and the values are tuples containing the key and its square. Print the dictionary.\n",
    "\n",
    "### Assignment 10: Dictionary and List Conversion\n",
    "\n",
    "Create a dictionary with the first 5 positive integers as keys and their squares as values. Convert the dictionary to a list of tuples and print it.\n",
    "\n",
    "### Assignment 11: Dictionary Filtering\n",
    "\n",
    "Create a dictionary with the first 10 positive integers as keys and their squares as values. Create a new dictionary containing only the key-value pairs where the key is even. Print the new dictionary.\n",
    "\n",
    "### Assignment 12: Dictionary Key and Value Transformation\n",
    "\n",
    "Create a dictionary with the first 5 positive integers as keys and their squares as values. Create a new dictionary with keys and values swapped. Print the new dictionary.\n",
    "\n",
    "### Assignment 13: Default Dictionary\n",
    "\n",
    "Create a default dictionary where each key has a default value of an empty list. Add some elements to the lists and print the dictionary.\n",
    "\n",
    "### Assignment 14: Counting with Dictionaries\n",
    "\n",
    "Write a function that takes a string and returns a dictionary with the count of each character in the string. Print the dictionary.\n",
    "\n",
    "### Assignment 15: Dictionary and JSON\n",
    "\n",
    "Create a dictionary representing a book with keys 'title', 'author', 'year', and 'genre'. Convert the dictionary to a JSON string and print it."
   ]
  },
  {
   "cell_type": "code",
   "execution_count": 1,
   "metadata": {},
   "outputs": [
    {
     "name": "stdout",
     "output_type": "stream",
     "text": [
      "{1: 1, 2: 4, 3: 9, 4: 16, 5: 25, 6: 36, 7: 49, 8: 64, 9: 81, 10: 100}\n"
     ]
    }
   ],
   "source": [
    "''' \n",
    "Assignment 1: Creating and Accessing Dictionaries\n",
    "Create a dictionary with the first 10 positive integers as keys and their squares as values. Print the dictionary.\n",
    "'''\n",
    "positive_integers = {x : x**2 for x in range(1, 11)}\n",
    "print(positive_integers)"
   ]
  },
  {
   "cell_type": "code",
   "execution_count": 2,
   "id": "3c9ffd36",
   "metadata": {},
   "outputs": [
    {
     "name": "stdout",
     "output_type": "stream",
     "text": [
      "Value of Key 5: 25\n",
      "Keys: [1, 2, 3, 4, 5, 6, 7, 8, 9, 10]\n"
     ]
    }
   ],
   "source": [
    "''' \n",
    "Assignment 2: Accessing Dictionary Elements\n",
    "Print the value of the key 5 and the keys of the dictionary created in Assignment 1.\n",
    "'''\n",
    "print(f\"Value of Key 5: {positive_integers[5]}\")\n",
    "print(f\"Keys: {list(positive_integers.keys())}\")"
   ]
  },
  {
   "cell_type": "code",
   "execution_count": 3,
   "id": "1f7103e3",
   "metadata": {},
   "outputs": [
    {
     "name": "stdout",
     "output_type": "stream",
     "text": [
      "{2: 4, 3: 9, 4: 16, 5: 25, 6: 36, 7: 49, 8: 64, 9: 81, 10: 100, 11: 121}\n"
     ]
    }
   ],
   "source": [
    "''' \n",
    "Assignment 3: Dictionary Methods\n",
    "Add a new key-value pair (11, 121) to the dictionary created in Assignment 1 and then remove the key-value pair with key 1. \n",
    "Print the modified dictionary.\n",
    "'''\n",
    "positive_integers[11] = 121\n",
    "del positive_integers[1]\n",
    "print(positive_integers)"
   ]
  },
  {
   "cell_type": "code",
   "execution_count": 6,
   "id": "73780a8f",
   "metadata": {},
   "outputs": [
    {
     "name": "stdout",
     "output_type": "stream",
     "text": [
      "Key: 2, Value: 4\n",
      "Key: 3, Value: 9\n",
      "Key: 4, Value: 16\n",
      "Key: 5, Value: 25\n",
      "Key: 6, Value: 36\n",
      "Key: 7, Value: 49\n",
      "Key: 8, Value: 64\n",
      "Key: 9, Value: 81\n",
      "Key: 10, Value: 100\n",
      "Key: 11, Value: 121\n"
     ]
    }
   ],
   "source": [
    "'''\n",
    "Assignment 4: Iterating Over Dictionaries\n",
    "Iterate over the dictionary created in Assignment 1 and print each key-value pair.\n",
    "'''\n",
    "for key, value in positive_integers.items():\n",
    "    print(f\"Key: {key}, Value: {value}\")"
   ]
  },
  {
   "cell_type": "code",
   "execution_count": 7,
   "id": "3338a1f3",
   "metadata": {},
   "outputs": [
    {
     "name": "stdout",
     "output_type": "stream",
     "text": [
      "{1: 1, 2: 8, 3: 27, 4: 64, 5: 125, 6: 216, 7: 343, 8: 512, 9: 729, 10: 1000}\n"
     ]
    }
   ],
   "source": [
    "''' \n",
    "Assignment 5: Dictionary Comprehensions\n",
    "Create a new dictionary containing the cubes of the first 10 positive integers using a dictionary comprehension. \n",
    "Print the new dictionary.\n",
    "'''\n",
    "cubes = {x : x**3 for x in range(1, 11)}\n",
    "print(cubes)"
   ]
  },
  {
   "cell_type": "code",
   "execution_count": 9,
   "id": "8dbf88cb",
   "metadata": {},
   "outputs": [
    {
     "name": "stdout",
     "output_type": "stream",
     "text": [
      "Dictionary 1: {1: 1, 2: 4, 3: 9, 4: 16, 5: 25}\n",
      "Dictionary 2: {6: 36, 7: 49, 8: 64, 9: 81, 10: 100}\n",
      "Merged dictionary: {1: 1, 2: 4, 3: 9, 4: 16, 5: 25, 6: 36, 7: 49, 8: 64, 9: 81, 10: 100}\n"
     ]
    }
   ],
   "source": [
    "''' \n",
    "Assignment 6: Merging Dictionaries\n",
    "Create two dictionaries: one with keys as the first 5 positive integers and values as their squares, \n",
    "and another with keys as the next 5 positive integers and values as their squares. \n",
    "Merge these dictionaries into a single dictionary and print it.\n",
    "'''\n",
    "dict1 = {i : i**2 for i in range(1,6)}\n",
    "dict2 = {i : i**2 for i in range(6,11)}\n",
    "print(f\"Dictionary 1: {dict1}\")\n",
    "print(f\"Dictionary 2: {dict2}\")\n",
    "merged_dict = {**dict1, **dict2}\n",
    "print(f\"Merged dictionary: {merged_dict}\")"
   ]
  },
  {
   "cell_type": "code",
   "execution_count": 10,
   "id": "57020c11",
   "metadata": {},
   "outputs": [
    {
     "name": "stdout",
     "output_type": "stream",
     "text": [
      "{'name': 'Peter', 'age': 26, 'grades': {'math': 99, 'science': 95, 'english': 76}}\n"
     ]
    }
   ],
   "source": [
    "'''\n",
    "Assignment 7: Nested Dictionaries\n",
    "Create a nested dictionary representing a student with keys 'name', 'age', 'grades', where 'grades' \n",
    "is another dictionary with keys 'math', 'science', and 'english'. Print the nested dictionary.\n",
    "'''\n",
    "student = {\n",
    "    \"name\":\"Peter\",\n",
    "    \"age\": 26,\n",
    "    \"grades\":{\n",
    "        \"math\": 99,\n",
    "        \"science\": 95,\n",
    "        \"english\": 76\n",
    "    }\n",
    "}\n",
    "print(student)"
   ]
  },
  {
   "cell_type": "code",
   "execution_count": 14,
   "id": "a9ee0cac",
   "metadata": {},
   "outputs": [
    {
     "name": "stdout",
     "output_type": "stream",
     "text": [
      "1 : [1, 2, 3, 4, 5]\n",
      "2 : [2, 4, 6, 8, 10]\n",
      "3 : [3, 6, 9, 12, 15]\n",
      "4 : [4, 8, 12, 16, 20]\n",
      "5 : [5, 10, 15, 20, 25]\n"
     ]
    }
   ],
   "source": [
    "'''  \n",
    "Assignment 8: Dictionary of Lists\n",
    "Create a dictionary where the keys are the first 5 positive integers and the values are lists containing \n",
    "the first 5 multiples of the key. Print the dictionary.\n",
    "'''\n",
    "multiples = {i : [i*j for j in range(1, 6)] for i in range(1, 6)}\n",
    "for key, value in multiples.items():\n",
    "    print(f\"{key} : {value}\")"
   ]
  },
  {
   "cell_type": "code",
   "execution_count": 15,
   "id": "7eccb9b7",
   "metadata": {},
   "outputs": [
    {
     "name": "stdout",
     "output_type": "stream",
     "text": [
      "{1: (1, 1), 2: (2, 4), 3: (3, 9), 4: (4, 16), 5: (5, 25)}\n"
     ]
    }
   ],
   "source": [
    "''' \n",
    "Assignment 9: Dictionary of Tuples\n",
    "Create a dictionary where the keys are the first 5 positive integers and the values are tuples containing \n",
    "the key and its square. Print the dictionary.\n",
    "'''\n",
    "tuple_dict = {i : (i, i**2) for i in range(1, 6)}\n",
    "print(tuple_dict)"
   ]
  },
  {
   "cell_type": "code",
   "execution_count": 18,
   "id": "f40217a4",
   "metadata": {},
   "outputs": [
    {
     "name": "stdout",
     "output_type": "stream",
     "text": [
      "{1: 1, 2: 4, 3: 9, 4: 16, 5: 25}\n",
      "[(1, 1), (2, 4), (3, 9), (4, 16), (5, 25)]\n"
     ]
    }
   ],
   "source": [
    "''' \n",
    "Assignment 10: Dictionary and List Conversion\n",
    "Create a dictionary with the first 5 positive integers as keys and their squares as values. \n",
    "Convert the dictionary to a list of tuples and print it.\n",
    "'''\n",
    "squr = {i : i**2 for i in range(1, 6)}\n",
    "print(squr)\n",
    "lst = list(squr.items())\n",
    "print(lst)"
   ]
  },
  {
   "cell_type": "code",
   "execution_count": 19,
   "id": "c1ac559a",
   "metadata": {},
   "outputs": [
    {
     "name": "stdout",
     "output_type": "stream",
     "text": [
      "{1: 1, 2: 4, 3: 9, 4: 16, 5: 25}\n",
      "{2: 4, 4: 16}\n"
     ]
    }
   ],
   "source": [
    "''' \n",
    "Assignment 11: Dictionary Filtering\n",
    "Create a dictionary with the first 10 positive integers as keys and their squares as values. \n",
    "Create a new dictionary containing only the key-value pairs where the key is even. Print the new dictionary.\n",
    "'''\n",
    "squr = {i : i**2 for i in range(1, 6)}\n",
    "print(squr)\n",
    "even_dict = {key : value for key, value in squr.items() if key % 2 == 0}\n",
    "print(even_dict)"
   ]
  },
  {
   "cell_type": "code",
   "execution_count": 20,
   "id": "bc093d16",
   "metadata": {},
   "outputs": [
    {
     "name": "stdout",
     "output_type": "stream",
     "text": [
      "Orginal Dictionary: {1: 1, 2: 4, 3: 9, 4: 16, 5: 25}\n",
      "Orginal Dictionary: {1: 1, 4: 2, 9: 3, 16: 4, 25: 5}\n"
     ]
    }
   ],
   "source": [
    "''' \n",
    "Assignment 12: Dictionary Key and Value Transformation\n",
    "Create a dictionary with the first 5 positive integers as keys and their squares as values. \n",
    "Create a new dictionary with keys and values swapped. Print the new dictionary.\n",
    "'''\n",
    "squr = {i : i**2 for i in range(1, 6)}\n",
    "print(f\"Orginal Dictionary: {squr}\")\n",
    "swapped_dict = {value : key for key, value in squr.items()}\n",
    "print(f\"Orginal Dictionary: {swapped_dict }\")\n"
   ]
  },
  {
   "cell_type": "code",
   "execution_count": 23,
   "id": "88850bec",
   "metadata": {},
   "outputs": [
    {
     "name": "stdout",
     "output_type": "stream",
     "text": [
      "<class 'collections.defaultdict'>\n",
      "dict_items([('a', [1, 2]), ('b', [3])])\n"
     ]
    }
   ],
   "source": [
    "''' \n",
    "Assignment 13: Default Dictionary\n",
    "Create a default dictionary where each key has a default value of an empty list. \n",
    "Add some elements to the lists and print the dictionary.\n",
    "'''\n",
    "from collections import defaultdict\n",
    "\n",
    "default_dict = defaultdict(list)\n",
    "print(defaultdict)\n",
    "default_dict['a'].append(1)\n",
    "default_dict['a'].append(2)\n",
    "default_dict['b'].append(3)\n",
    "print(default_dict.items())"
   ]
  },
  {
   "cell_type": "code",
   "execution_count": 30,
   "id": "2e46c85c",
   "metadata": {},
   "outputs": [
    {
     "name": "stdout",
     "output_type": "stream",
     "text": [
      "{'H': 1, 'e': 1, 'l': 3, 'o': 2, ' ': 1, 'W': 1, 'r': 1, 'd': 1}\n"
     ]
    }
   ],
   "source": [
    "''' \n",
    "Assignment 14: Counting with Dictionaries\n",
    "Write a function that takes a string and \n",
    "returns a dictionary with the count of each character in the string. Print the dictionary.\n",
    "'''\n",
    "def count_char(s):\n",
    "    count_dict = {}\n",
    "    for char in s:\n",
    "        count_dict[char] = count_dict.get(char, 0) + 1\n",
    "    return count_dict\n",
    "\n",
    "string = \"Hello World\"\n",
    "print(count_char(string))\n"
   ]
  },
  {
   "cell_type": "code",
   "execution_count": 36,
   "id": "42e59925",
   "metadata": {},
   "outputs": [
    {
     "name": "stdout",
     "output_type": "stream",
     "text": [
      "{'title': 'Autobiography of a Yogi', 'author': 'Paramhansho Yogananda', 'year': 1946, 'genre': 'Life-guidance, Spiritual'} <class 'dict'>\n",
      "{\"title\": \"Autobiography of a Yogi\", \"author\": \"Paramhansho Yogananda\", \"year\": 1946, \"genre\": \"Life-guidance, Spiritual\"} <class 'str'>\n"
     ]
    }
   ],
   "source": [
    "''' \n",
    "Assignment 15: Dictionary and JSON\n",
    "Create a dictionary representing a book with keys 'title', 'author', 'year', and 'genre'. \n",
    "Convert the dictionary to a JSON string and print it.\n",
    "'''\n",
    "import json\n",
    "\n",
    "book = {\n",
    "    \"title\": \"Autobiography of a Yogi\",\n",
    "    \"author\": \"Paramhansho Yogananda\",\n",
    "    \"year\": 1946,\n",
    "    \"genre\": \"Life-guidance, Spiritual\"\n",
    "}\n",
    "print(book, type(book))\n",
    "book_json = json.dumps(book)\n",
    "print(book_json, type(book_json))"
   ]
  }
 ],
 "metadata": {
  "kernelspec": {
   "display_name": "venv",
   "language": "python",
   "name": "python3"
  },
  "language_info": {
   "codemirror_mode": {
    "name": "ipython",
    "version": 3
   },
   "file_extension": ".py",
   "mimetype": "text/x-python",
   "name": "python",
   "nbconvert_exporter": "python",
   "pygments_lexer": "ipython3",
   "version": "3.12.8"
  }
 },
 "nbformat": 4,
 "nbformat_minor": 5
}
