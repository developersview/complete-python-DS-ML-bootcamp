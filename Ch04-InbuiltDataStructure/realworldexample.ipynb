{
 "cells": [
  {
   "cell_type": "markdown",
   "metadata": {},
   "source": [
    "## Example 1: Manage a To Do List"
   ]
  },
  {
   "cell_type": "code",
   "execution_count": 8,
   "metadata": {},
   "outputs": [
    {
     "name": "stdout",
     "output_type": "stream",
     "text": [
      "To-Do List\n",
      "-----------------------\n",
      "1 : Buy Groceries\n",
      "2 : Clean the house\n",
      "3 : Pay Bills\n",
      "\n",
      "To-Do List\n",
      "-----------------------\n",
      "1 : Buy Groceries\n",
      "2 : Clean the house\n",
      "3 : Pay Bills\n",
      "4 : Schedul a meeting\n",
      "5 : Go for a run\n",
      "\n",
      "To-Do List\n",
      "-----------------------\n",
      "1 : Buy Groceries\n",
      "2 : Pay Bills\n",
      "3 : Schedul a meeting\n",
      "4 : Go for a run\n",
      "\n"
     ]
    }
   ],
   "source": [
    "def print_list(lst):\n",
    "    i = 1\n",
    "    print(\"To-Do List\")\n",
    "    print(\"-----------------------\")\n",
    "    for item in lst:\n",
    "        print(f\"{i} : {item}\")\n",
    "        i += 1\n",
    "    print()\n",
    "\n",
    "\n",
    "to_do_list = [\"Buy Groceries\", \"Clean the house\", \"Pay Bills\"]\n",
    "print_list(to_do_list)\n",
    "\n",
    "# adding tasks\n",
    "to_do_list.append(\"Schedul a meeting\")\n",
    "to_do_list.append(\"Go for a run\")\n",
    "print_list(to_do_list)\n",
    "\n",
    "#removing a completed task\n",
    "to_do_list.remove(\"Clean the house\")\n",
    "print_list(to_do_list)"
   ]
  },
  {
   "cell_type": "markdown",
   "metadata": {},
   "source": [
    "## Organizing Student Marks"
   ]
  },
  {
   "cell_type": "code",
   "execution_count": 9,
   "metadata": {},
   "outputs": [
    {
     "name": "stdout",
     "output_type": "stream",
     "text": [
      "Average Mark: 80.50\n",
      "Highest Mark : 95\n",
      "Lowest Mark : 45\n"
     ]
    }
   ],
   "source": [
    "marks = [85, 92, 78, 45, 88]\n",
    "\n",
    "marks.append(95)\n",
    "\n",
    "# average mark\n",
    "avg_mark = sum(marks) / len(marks)\n",
    "print(f\"Average Mark: {avg_mark:.2f}\")\n",
    "\n",
    "#highest and lowest mark\n",
    "print(f\"Highest Mark : {max(marks)}\")\n",
    "print(f\"Lowest Mark : {min(marks)}\")\n"
   ]
  },
  {
   "cell_type": "markdown",
   "metadata": {},
   "source": []
  },
  {
   "cell_type": "markdown",
   "metadata": {},
   "source": [
    "## Managing an Inventory"
   ]
  },
  {
   "cell_type": "code",
   "execution_count": 16,
   "metadata": {},
   "outputs": [
    {
     "name": "stdout",
     "output_type": "stream",
     "text": [
      "Inventory\n",
      "----------------\n",
      "1 : apple\n",
      "2 : banana\n",
      "3 : kiwi\n",
      "4 : orange\n",
      "5 : walnut\n",
      "\n",
      "Walnut is in stock\n"
     ]
    }
   ],
   "source": [
    "def print_list(lst):\n",
    "    i = 1\n",
    "    print(\"Inventory\")\n",
    "    print(\"----------------\")\n",
    "    for item in lst:\n",
    "        print(f\"{i} : {item}\")\n",
    "        i += 1\n",
    "    print()\n",
    "\n",
    "\n",
    "inventory = [\"apple\", \"banana\", \"kiwi\", \"orange\", \"walnut\"]\n",
    "print_list(inventory)\n",
    "\n",
    "#add an new item\n",
    "inventory.append(\"grape\")\n",
    "\n",
    "#remove an item\n",
    "inventory.remove(\"banana\")\n",
    "\n",
    "#checking if an item is in stock\n",
    "item = input(\"Enter the item name you want to check\")\n",
    "if item.lower() in inventory:\n",
    "    print(f\"{item} is in stock\")\n",
    "else:\n",
    "    print(f\"{item} is out of stock\")\n"
   ]
  },
  {
   "cell_type": "markdown",
   "metadata": {},
   "source": [
    "## Collecting User Feedback"
   ]
  },
  {
   "cell_type": "code",
   "execution_count": 27,
   "metadata": {},
   "outputs": [
    {
     "name": "stdout",
     "output_type": "stream",
     "text": [
      "User Feedbacks:\n",
      "-------------------------------\n",
      "- Great Service\n",
      "- Very Satisfied\n",
      "- Could be better\n",
      "- Excellent experience\n",
      "- Not happy with the service\n",
      "- Great Food\n",
      "\n",
      "3 out of 6 are positive feedbacks from user!\n"
     ]
    }
   ],
   "source": [
    "feedbacks = [\"Great Service\", \"Very Satisfied\", \"Could be better\", \"Excellent experience\"]\n",
    "\n",
    "feedbacks.append(\"Not happy with the service\")\n",
    "feedbacks.append(\"Great Food\")\n",
    "\n",
    "print(\"User Feedbacks:\")\n",
    "print(\"-------------------------------\")\n",
    "for feedback in feedbacks:\n",
    "    print(f\"- {feedback}\")\n",
    "print()\n",
    "\n",
    "#counting positive feedbacks\n",
    "positive_feedback_count = sum(\n",
    "    1 for comment in feedbacks\n",
    "    if \"great\" in comment.lower() or \"excellent\" in comment.lower()\n",
    ")\n",
    "\n",
    "print(f\"{positive_feedback_count} out of {len(feedbacks)} are positive feedbacks from user!\")"
   ]
  }
 ],
 "metadata": {
  "kernelspec": {
   "display_name": "venv",
   "language": "python",
   "name": "python3"
  },
  "language_info": {
   "codemirror_mode": {
    "name": "ipython",
    "version": 3
   },
   "file_extension": ".py",
   "mimetype": "text/x-python",
   "name": "python",
   "nbconvert_exporter": "python",
   "pygments_lexer": "ipython3",
   "version": "3.12.8"
  }
 },
 "nbformat": 4,
 "nbformat_minor": 2
}
