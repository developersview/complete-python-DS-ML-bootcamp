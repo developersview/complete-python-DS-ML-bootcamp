{
 "cells": [
  {
   "cell_type": "markdown",
   "id": "6cade624",
   "metadata": {},
   "source": [
    "# Module 3: Data Structures Assignments\n",
    "## Lesson 3.2: Tuples\n",
    "### Assignment 1: Creating and Accessing Tuples\n",
    "\n",
    "Create a tuple with the first 10 positive integers. Print the tuple.\n",
    "\n",
    "### Assignment 2: Accessing Tuple Elements\n",
    "\n",
    "Print the first, middle, and last elements of the tuple created in Assignment 1.\n",
    "\n",
    "### Assignment 3: Tuple Slicing\n",
    "\n",
    "Print the first three elements, the last three elements, and the elements from index 2 to 5 of the tuple created in Assignment 1.\n",
    "\n",
    "### Assignment 4: Nested Tuples\n",
    "\n",
    "Create a nested tuple representing a 3x3 matrix and print the matrix. Access and print the element at the second row and third column.\n",
    "\n",
    "### Assignment 5: Tuple Concatenation\n",
    "\n",
    "Concatenate two tuples: (1, 2, 3) and (4, 5, 6). Print the resulting tuple.\n",
    "\n",
    "### Assignment 6: Tuple Methods\n",
    "\n",
    "Create a tuple with duplicate elements and count the occurrences of an element. Find the index of the first occurrence of an element in the tuple.\n",
    "\n",
    "### Assignment 7: Unpacking Tuples\n",
    "\n",
    "Create a tuple with 5 elements and unpack it into 5 variables. Print the variables.\n",
    "\n",
    "### Assignment 8: Tuple Conversion\n",
    "\n",
    "Convert a list of the first 5 positive integers to a tuple. Print the tuple.\n",
    "\n",
    "### Assignment 9: Tuple of Tuples\n",
    "\n",
    "Create a tuple containing 3 tuples, each with 3 elements. Print the tuple of tuples.\n",
    "\n",
    "### Assignment 10: Tuple and List\n",
    "\n",
    "Create a tuple with the first 5 positive integers. Convert it to a list, append the number 6, and convert it back to a tuple. Print the resulting tuple.\n",
    "\n",
    "### Assignment 11: Tuple and String\n",
    "\n",
    "Create a tuple with the characters of a string. Join the tuple elements into a single string. Print the string.\n",
    "\n",
    "### Assignment 12: Tuple and Dictionary\n",
    "\n",
    "Create a dictionary with tuple keys and integer values. Print the dictionary.\n",
    "\n",
    "### Assignment 13: Nested Tuple Iteration\n",
    "\n",
    "Create a nested tuple and iterate over the elements, printing each element.\n",
    "\n",
    "### Assignment 14: Tuple and Set\n",
    "\n",
    "Create a tuple with duplicate elements. Convert it to a set to remove duplicates and print the resulting set.\n",
    "\n",
    "### Assignment 15: Tuple Functions\n",
    "\n",
    "Write functions that take a tuple and return the minimum, maximum, and sum of the elements. Print the results for a sample tuple."
   ]
  },
  {
   "cell_type": "code",
   "execution_count": 1,
   "id": "31003ec1",
   "metadata": {},
   "outputs": [
    {
     "name": "stdout",
     "output_type": "stream",
     "text": [
      "(1, 2, 3, 4, 5, 6, 7, 8, 9, 10)\n"
     ]
    }
   ],
   "source": [
    "''' \n",
    "Assignment 1: Creating and Accessing Tuples\n",
    "Create a tuple with the first 10 positive integers. Print the tuple.\n",
    "'''\n",
    "tpl = tuple(range(1,11))\n",
    "print(tpl)"
   ]
  },
  {
   "cell_type": "code",
   "execution_count": 3,
   "id": "6499dded",
   "metadata": {},
   "outputs": [
    {
     "name": "stdout",
     "output_type": "stream",
     "text": [
      "First element:  1\n",
      "First element:  6\n",
      "First element:  10\n"
     ]
    }
   ],
   "source": [
    "''' \n",
    "Assignment 2: Accessing Tuple Elements\n",
    "Print the first, middle, and last elements of the tuple created in Assignment 1.\n",
    "'''\n",
    "print(\"First element: \", tpl[0])\n",
    "print(\"First element: \", tpl[len(tpl) // 2])\n",
    "print(\"First element: \", tpl[len(tpl) - 1])"
   ]
  },
  {
   "cell_type": "code",
   "execution_count": 5,
   "id": "6a440e9c",
   "metadata": {},
   "outputs": [
    {
     "name": "stdout",
     "output_type": "stream",
     "text": [
      "First 3 elements:  (1, 2, 3)\n",
      "Last 3 elements:  (8, 9, 10)\n",
      "Elements from 2 to 5  (3, 4, 5)\n"
     ]
    }
   ],
   "source": [
    "'''\n",
    "Assignment 3: Tuple Slicing\n",
    "Print the first three elements, the last three elements, and the elements from index 2 to 5 of the tuple created in Assignment 1.\n",
    "'''\n",
    "print(\"First 3 elements: \", tpl[:3])\n",
    "print(\"Last 3 elements: \", tpl[-3:])\n",
    "print(\"Elements from 2 to 5 \", tpl[2:5])"
   ]
  },
  {
   "cell_type": "code",
   "execution_count": 10,
   "id": "9fd59608",
   "metadata": {},
   "outputs": [
    {
     "name": "stdout",
     "output_type": "stream",
     "text": [
      "(1, 2, 3)\n",
      "(4, 5, 6)\n",
      "(7, 8, 9)\n",
      "6\n"
     ]
    }
   ],
   "source": [
    "'''\n",
    "Assignment 4: Nested Tuples\n",
    "Create a nested tuple representing a 3x3 matrix and print the matrix. Access and print the element at the second row and third column.\n",
    "'''\n",
    "matrix = (\n",
    "    (1, 2, 3),\n",
    "    (4, 5, 6),\n",
    "    (7, 8, 9)\n",
    ")\n",
    "for row in matrix:\n",
    "    print(row)\n",
    "print(matrix[1][2])"
   ]
  },
  {
   "cell_type": "code",
   "execution_count": 11,
   "id": "a5730733",
   "metadata": {},
   "outputs": [
    {
     "name": "stdout",
     "output_type": "stream",
     "text": [
      "(1, 2, 3, 4, 5, 6)\n"
     ]
    }
   ],
   "source": [
    "'''\n",
    "Assignment 5: Tuple Concatenation\n",
    "Concatenate two tuples: (1, 2, 3) and (4, 5, 6). Print the resulting tuple.\n",
    "'''\n",
    "tpl1 = (1, 2, 3)\n",
    "tpl2 = (4, 5, 6)\n",
    "\n",
    "print(tpl1 + tpl2)"
   ]
  },
  {
   "cell_type": "code",
   "execution_count": 2,
   "id": "086b0c86",
   "metadata": {},
   "outputs": [
    {
     "name": "stdout",
     "output_type": "stream",
     "text": [
      "Occurance of 5: 3\n",
      "1st occrance of 5: 2\n"
     ]
    }
   ],
   "source": [
    "'''\n",
    "Assignment 6: Tuple Methods\n",
    "Create a tuple with duplicate elements and count the occurrences of an element. Find the index of the first occurrence of an element in the tuple.\n",
    "'''\n",
    "tpl = (3,4,5,5,5,6,7,7,9)\n",
    "print(f\"Occurance of 5: {tpl.count(5)}\")\n",
    "print(f\"1st occrance of 5: {tpl.index(5)}\")"
   ]
  },
  {
   "cell_type": "code",
   "execution_count": 3,
   "id": "71619ec9",
   "metadata": {},
   "outputs": [
    {
     "name": "stdout",
     "output_type": "stream",
     "text": [
      "1 2 3 4 5\n"
     ]
    }
   ],
   "source": [
    "''' \n",
    "Assignment 7: Unpacking Tuples\n",
    "Create a tuple with 5 elements and unpack it into 5 variables. Print the variables.\n",
    "'''\n",
    "tpl = (1, 2, 3, 4, 5)\n",
    "a, b, c, d, e = tpl\n",
    "print(a, b, c, d, e)"
   ]
  },
  {
   "cell_type": "code",
   "execution_count": 4,
   "id": "160ff353",
   "metadata": {},
   "outputs": [
    {
     "name": "stdout",
     "output_type": "stream",
     "text": [
      "(1, 2, 3, 4, 5)\n"
     ]
    }
   ],
   "source": [
    "''' \n",
    "Assignment 8: Tuple Conversion\n",
    "Convert a list of the first 5 positive integers to a tuple. Print the tuple.\n",
    "'''\n",
    "num_list = [1,2,3,4,5]\n",
    "num_tpl = tuple(num_list)\n",
    "print(num_tpl)"
   ]
  },
  {
   "cell_type": "code",
   "execution_count": 6,
   "id": "4508b54f",
   "metadata": {},
   "outputs": [
    {
     "name": "stdout",
     "output_type": "stream",
     "text": [
      "((2, 3, 4), (7, 3.14, False), ('hello', 67, -8))\n"
     ]
    }
   ],
   "source": [
    "''' \n",
    "Assignment 9: Tuple of Tuples\n",
    "Create a tuple containing 3 tuples, each with 3 elements. Print the tuple of tuples.\n",
    "'''\n",
    "nested_tpl = (\n",
    "    (2, 3, 4),\n",
    "    (7, 3.14, False),\n",
    "    (\"hello\", 67, -8)\n",
    ")\n",
    "print(nested_tpl)"
   ]
  },
  {
   "cell_type": "code",
   "execution_count": 8,
   "id": "16031224",
   "metadata": {},
   "outputs": [
    {
     "name": "stdout",
     "output_type": "stream",
     "text": [
      "Initial tuple: (1, 2, 3, 4, 5)\n",
      "Tuple after conversion and append: (1, 2, 3, 4, 5, 6)\n"
     ]
    }
   ],
   "source": [
    "''' \n",
    "Assignment 10: Tuple and List\n",
    "Create a tuple with the first 5 positive integers. \n",
    "Convert it to a list, append the number 6, and convert it back to a tuple. Print the resulting tuple.\n",
    "'''\n",
    "tpl = tuple(range(1,6))\n",
    "print(f\"Initial tuple: {tpl}\")\n",
    "\n",
    "lst = list(tpl)\n",
    "lst.append(6)\n",
    "tpl = tuple(lst)\n",
    "print(f\"Tuple after conversion and append: {tpl}\")"
   ]
  },
  {
   "cell_type": "code",
   "execution_count": 9,
   "id": "271da141",
   "metadata": {},
   "outputs": [
    {
     "name": "stdout",
     "output_type": "stream",
     "text": [
      "('P', 'r', 'a', 'n', 'o', 'y')\n",
      "Pranoy\n"
     ]
    }
   ],
   "source": [
    "''' \n",
    "Assignment 11: Tuple and String\n",
    "Create a tuple with the characters of a string. Join the tuple elements into a single string. Print the string.\n",
    "'''\n",
    "string = \"Pranoy\"\n",
    "tpl = tuple(string)\n",
    "print(tpl)\n",
    "\n",
    "joined_str = ''.join(tpl)\n",
    "print(joined_str)"
   ]
  },
  {
   "cell_type": "code",
   "execution_count": 11,
   "id": "e78119cb",
   "metadata": {},
   "outputs": [
    {
     "name": "stdout",
     "output_type": "stream",
     "text": [
      "{('Key1', 'Index1'): 1, ('Key2', 'Index2'): 2, ('Key3', 'Index3'): 3}\n"
     ]
    }
   ],
   "source": [
    "''' \n",
    "Assignment 12: Tuple and Dictionary\n",
    "Create a dictionary with tuple keys and integer values. Print the dictionary.\n",
    "'''\n",
    "tpl_dict = {\n",
    "    (\"Key1\", \"Index1\"): 1,\n",
    "    (\"Key2\", \"Index2\"): 2,\n",
    "    (\"Key3\", \"Index3\"): 3,\n",
    "}\n",
    "print(tpl_dict)"
   ]
  },
  {
   "cell_type": "code",
   "execution_count": 16,
   "id": "9047b359",
   "metadata": {},
   "outputs": [
    {
     "name": "stdout",
     "output_type": "stream",
     "text": [
      "2\n",
      "3\n",
      "4\n",
      "7\n",
      "3.14\n",
      "False\n",
      "hello\n",
      "67\n",
      "-8\n"
     ]
    }
   ],
   "source": [
    "''' \n",
    "Assignment 13: Nested Tuple Iteration\n",
    "Create a nested tuple and iterate over the elements, printing each element.\n",
    "'''\n",
    "nested_tpl = (\n",
    "    (2, 3, 4),\n",
    "    (7, 3.14, False),\n",
    "    (\"hello\", 67, -8)\n",
    ")\n",
    "\n",
    "\n",
    "for subtpl in nested_tpl:\n",
    "    for item in subtpl:\n",
    "        print(item)\n"
   ]
  },
  {
   "cell_type": "code",
   "execution_count": 17,
   "id": "77170485",
   "metadata": {},
   "outputs": [
    {
     "name": "stdout",
     "output_type": "stream",
     "text": [
      "Orginal tuple: (3, 4, 5, 5, 5, 6, 7, 7, 9)\n",
      "After converting to set: {3, 4, 5, 6, 7, 9}\n"
     ]
    }
   ],
   "source": [
    "''' \n",
    "Assignment 14: Tuple and Set\n",
    "Create a tuple with duplicate elements. Convert it to a set to remove duplicates and print the resulting set.\n",
    "'''\n",
    "tpl = (3,4,5,5,5,6,7,7,9)\n",
    "print(f\"Orginal tuple: {tpl}\")\n",
    "\n",
    "set1 = set(tpl)\n",
    "print(f\"After converting to set: {set1}\")"
   ]
  },
  {
   "cell_type": "code",
   "execution_count": 18,
   "id": "9d38a313",
   "metadata": {},
   "outputs": [
    {
     "name": "stdout",
     "output_type": "stream",
     "text": [
      "Tuple: (3, 4, 5, 5, 5, 6, 7, 7, 9)\n",
      "Minimum: 3\n",
      "Maximum: 9\n",
      "Sum of elements: 51\n"
     ]
    }
   ],
   "source": [
    "''' \n",
    "Assignment 15: Tuple Functions\n",
    "Write functions that take a tuple and return the minimum, maximum, and sum of the elements. Print the results for a sample tuple.\n",
    "'''\n",
    "def _find_min(tpl):\n",
    "    return min(tpl)\n",
    "\n",
    "def _find_max(tpl):\n",
    "    return max(tpl)\n",
    "\n",
    "def _calculate_sum(tpl):\n",
    "    return sum(tpl)\n",
    "\n",
    "numbers = (3,4,5,5,5,6,7,7,9)\n",
    "print(f\"Tuple: {numbers}\")\n",
    "print(f\"Minimum: {_find_min(numbers)}\")\n",
    "print(f\"Maximum: {_find_max(numbers)}\")\n",
    "print(f\"Sum of elements: {_calculate_sum(numbers)}\")"
   ]
  }
 ],
 "metadata": {
  "kernelspec": {
   "display_name": "venv",
   "language": "python",
   "name": "python3"
  },
  "language_info": {
   "codemirror_mode": {
    "name": "ipython",
    "version": 3
   },
   "file_extension": ".py",
   "mimetype": "text/x-python",
   "name": "python",
   "nbconvert_exporter": "python",
   "pygments_lexer": "ipython3",
   "version": "3.12.8"
  }
 },
 "nbformat": 4,
 "nbformat_minor": 5
}
