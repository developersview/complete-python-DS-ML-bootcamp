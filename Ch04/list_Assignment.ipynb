{
 "cells": [
  {
   "cell_type": "markdown",
   "metadata": {},
   "source": [
    "# Module 3: Data Structures Assignments\n",
    "## Lesson 3.1: Lists\n",
    "### Assignment 1: Creating and Accessing Lists\n",
    "\n",
    "Create a list of the first 20 positive integers. Print the list.\n",
    "\n",
    "### Assignment 2: Accessing List Elements\n",
    "\n",
    "Print the first, middle, and last elements of the list created in Assignment 1.\n",
    "\n",
    "### Assignment 3: List Slicing\n",
    "\n",
    "Print the first five elements, the last five elements, and the elements from index 5 to 15 of the list created in Assignment 1.\n",
    "\n",
    "### Assignment 4: List Comprehensions\n",
    "\n",
    "Create a new list containing the squares of the first 10 positive integers using a list comprehension. Print the new list.\n",
    "\n",
    "### Assignment 5: Filtering Lists\n",
    "\n",
    "Create a new list containing only the even numbers from the list created in Assignment 1 using a list comprehension. Print the new list.\n",
    "\n",
    "### Assignment 6: List Methods\n",
    "\n",
    "Create a list of random numbers and sort it in ascending and descending order. Remove the duplicates from the list and print the modified list.\n",
    "\n",
    "### Assignment 7: Nested Lists\n",
    "\n",
    "Create a nested list representing a 3x3 matrix and print the matrix. Access and print the element at the second row and third column.\n",
    "\n",
    "### Assignment 8: List of Dictionaries\n",
    "\n",
    "Create a list of dictionaries where each dictionary represents a student with keys 'name' and 'score'. Sort the list of dictionaries by the 'score' in descending order and print the sorted list.\n",
    "\n",
    "### Assignment 9: Matrix Transposition\n",
    "\n",
    "Write a function that takes a 3x3 matrix (nested list) as input and returns its transpose. Print the original and transposed matrices.\n",
    "\n",
    "### Assignment 10: Flattening a Nested List\n",
    "\n",
    "Write a function that takes a nested list and flattens it into a single list. Print the original and flattened lists.\n",
    "\n",
    "### Assignment 11: List Manipulation\n",
    "\n",
    "Create a list of the first 10 positive integers. Remove the elements at indices 2, 4, and 6, and insert the element '99' at index 5. Print the modified list.\n",
    "\n",
    "### Assignment 12: List Zipping\n",
    "\n",
    "Create two lists of the same length. Use the `zip` function to combine these lists into a list of tuples and print the result.\n",
    "\n",
    "### Assignment 13: List Reversal\n",
    "\n",
    "Write a function that takes a list and returns a new list with the elements in reverse order. Print the original and reversed lists.\n",
    "\n",
    "### Assignment 14: List Rotation\n",
    "\n",
    "Write a function that rotates a list by n positions. Print the original and rotated lists.\n",
    "\n",
    "### Assignment 15: List Intersection\n",
    "\n",
    "Write a function that takes two lists and returns a new list containing only the elements that are present in both lists. Print the intersected list."
   ]
  },
  {
   "cell_type": "code",
   "execution_count": 2,
   "metadata": {},
   "outputs": [
    {
     "name": "stdout",
     "output_type": "stream",
     "text": [
      "[1, 2, 3, 4, 5, 6, 7, 8, 9, 10, 11, 12, 13, 14, 15, 16, 17, 18, 19, 20]\n"
     ]
    }
   ],
   "source": [
    "''' \n",
    "Assignment 1: Creating and Accessing Lists\n",
    "Create a list of the first 20 positive integers. Print the list.\n",
    "'''\n",
    "positive_integer = list(range(1, 21))\n",
    "print(positive_integer)"
   ]
  },
  {
   "cell_type": "code",
   "execution_count": 4,
   "id": "bf02d7b5",
   "metadata": {},
   "outputs": [
    {
     "name": "stdout",
     "output_type": "stream",
     "text": [
      "First element:  1\n",
      "Middle element:  11\n",
      "Last element:  20\n"
     ]
    }
   ],
   "source": [
    "''' \n",
    "Assignment 2: Accessing List Elements\n",
    "Print the first, middle, and last elements of the list created in Assignment 1.\n",
    "'''\n",
    "print(\"First element: \", positive_integer[0])\n",
    "print(\"Middle element: \", positive_integer[len(positive_integer)//2])\n",
    "print(\"Last element: \", positive_integer[-1])\n"
   ]
  },
  {
   "cell_type": "code",
   "execution_count": 8,
   "id": "dbb3dcdd",
   "metadata": {},
   "outputs": [
    {
     "name": "stdout",
     "output_type": "stream",
     "text": [
      "First 5 elements:  [1, 2, 3, 4, 5]\n",
      "Last 5 element:  [16, 17, 18, 19, 20]\n",
      "Element from Index 5 to 15:  [6, 7, 8, 9, 10, 11, 12, 13, 14, 15, 16]\n"
     ]
    }
   ],
   "source": [
    "'''\n",
    "Assignment 3: List Slicing\n",
    "Print the first five elements, the last five elements, and the elements from index 5 to 15 of the list created in Assignment 1.\n",
    "'''\n",
    "print(\"First 5 elements: \", positive_integer[:5])\n",
    "print(\"Last 5 element: \", positive_integer[-5:])\n",
    "print(\"Element from Index 5 to 15: \", positive_integer[5:16])"
   ]
  },
  {
   "cell_type": "code",
   "execution_count": 9,
   "id": "ac7dd760",
   "metadata": {},
   "outputs": [
    {
     "name": "stdout",
     "output_type": "stream",
     "text": [
      "[1, 4, 9, 16, 25, 36, 49, 64, 81, 100]\n"
     ]
    }
   ],
   "source": [
    "''' \n",
    "Assignment 4: List Comprehensions\n",
    "Create a new list containing the squares of the first 10 positive integers using a list comprehension. Print the new list.\n",
    "'''\n",
    "sqr_lst = [num**2 for num in range(1,11)]\n",
    "print(sqr_lst)"
   ]
  },
  {
   "cell_type": "code",
   "execution_count": 10,
   "id": "ec2ae9b1",
   "metadata": {},
   "outputs": [
    {
     "name": "stdout",
     "output_type": "stream",
     "text": [
      "[2, 4, 6, 8, 10, 12, 14, 16, 18, 20]\n"
     ]
    }
   ],
   "source": [
    "''' \n",
    "Assignment 5: Filtering Lists\n",
    "Create a new list containing only the even numbers from the list created in Assignment 1 using a list comprehension. Print the new list.\n",
    "'''\n",
    "even_lst = [num for num in positive_integer if num%2 == 0]\n",
    "print(even_lst)"
   ]
  },
  {
   "cell_type": "code",
   "execution_count": 35,
   "id": "272f6c7d",
   "metadata": {},
   "outputs": [
    {
     "name": "stdout",
     "output_type": "stream",
     "text": [
      "List of random numbers: [70, 9, 42, 96, 33, 61, 38, 1, 22, 63]\n",
      "Sorted List: [1, 9, 22, 33, 38, 42, 61, 63, 70, 96]\n",
      "Reversed List: [96, 70, 63, 61, 42, 38, 33, 22, 9, 1]\n",
      "List of unique elements: {96, 1, 33, 38, 70, 9, 42, 22, 61, 63}\n"
     ]
    }
   ],
   "source": [
    "''' \n",
    "Assignment 6: List Methods\n",
    "Create a list of random numbers and sort it in ascending and descending order. Remove the duplicates from the list and print the modified list.\n",
    "'''\n",
    "import random\n",
    "\n",
    "random_lst = [random.randint(1, 100) for _ in range(10)]\n",
    "print(f\"List of random numbers: {random_lst}\")\n",
    "\n",
    "sorted_lst = sorted(random_lst)\n",
    "print(f\"Sorted List: {sorted_lst}\")\n",
    "\n",
    "reversed_lst = sorted(sorted_lst, reverse=True)\n",
    "print(f\"Reversed List: {reversed_lst}\")\n",
    "\n",
    "\n",
    "unique_lst = set(sorted_lst)\n",
    "print(f\"List of unique elements: {unique_lst}\")"
   ]
  },
  {
   "cell_type": "code",
   "execution_count": 43,
   "id": "ea4e0380",
   "metadata": {},
   "outputs": [
    {
     "name": "stdout",
     "output_type": "stream",
     "text": [
      "[1, 2, 3]\n",
      "[4, 5, 6]\n",
      "[7, 8, 9]\n",
      "Element at second row and third column: 6\n"
     ]
    }
   ],
   "source": [
    "''' \n",
    "Assignment 7: Nested Lists\n",
    "Create a nested list representing a 3x3 matrix and print the matrix. Access and print the element at the second row and third column.\n",
    "'''\n",
    "matrix = [\n",
    "    [1, 2, 3],\n",
    "    [4, 5, 6],\n",
    "    [7, 8, 9]\n",
    "]\n",
    "\n",
    "for row in matrix:\n",
    "    print(row)\n",
    "\n",
    "print(f\"Element at second row and third column: {matrix[1][2]}\")"
   ]
  },
  {
   "cell_type": "code",
   "execution_count": 53,
   "id": "207e0be1",
   "metadata": {},
   "outputs": [
    {
     "name": "stdout",
     "output_type": "stream",
     "text": [
      "Sorted students by score in descending order:\n",
      "{'name': 'David', 'score': 95}\n",
      "{'name': 'Bob', 'score': 92}\n",
      "{'name': 'Alice', 'score': 85}\n",
      "{'name': 'Charlie', 'score': 78}\n",
      "{'name': 'Eve', 'score': 78}\n"
     ]
    }
   ],
   "source": [
    "'''\n",
    "Assignment 8: List of Dictionaries\n",
    "Create a list of dictionaries where each dictionary represents a student with keys 'name' and 'score'. \n",
    "Sort the list of dictionaries by the 'score' in descending order and print the sorted list.\n",
    "'''\n",
    "students = [\n",
    "    {'name': 'Alice', 'score': 85},\n",
    "    {'name': 'Bob', 'score': 92},\n",
    "    {'name': 'Charlie', 'score': 78},\n",
    "    {'name': 'David', 'score': 95},\n",
    "    {'name': 'Eve', 'score': 78}\n",
    "]\n",
    "sorted_students = sorted(students, key=lambda x: x['score'], reverse=True)\n",
    "print(\"Sorted students by score in descending order:\")\n",
    "for student in sorted_students:\n",
    "    print(student)"
   ]
  },
  {
   "cell_type": "code",
   "execution_count": 59,
   "id": "ed5ba6b9",
   "metadata": {},
   "outputs": [
    {
     "name": "stdout",
     "output_type": "stream",
     "text": [
      "Orginal Matrix:\n",
      "[1, 2, 3, 4]\n",
      "[4, 5, 6, 6]\n",
      "[7, 8, 9, 0]\n",
      "\n",
      "Tranposed Matrix:\n",
      "[1, 4, 7]\n",
      "[2, 5, 8]\n",
      "[3, 6, 9]\n",
      "[4, 6, 0]\n"
     ]
    }
   ],
   "source": [
    "'''\n",
    "Assignment 9: Matrix Transposition\n",
    "Write a function that takes a 3x3 matrix (nested list) as input and returns its transpose. Print the original and transposed matrices.\n",
    "'''\n",
    "def _transpose_(matrix):\n",
    "    return [[matrix[j][i] for j in range(len(matrix))] for i in range(len(matrix[0]))]\n",
    "\n",
    "matrix = [\n",
    "    [1, 2, 3, 4],\n",
    "    [4, 5, 6, 6],\n",
    "    [7, 8, 9, 0]\n",
    "]\n",
    "\n",
    "print(\"Orginal Matrix:\")\n",
    "for row in matrix:\n",
    "    print(row)\n",
    "\n",
    "transposed_matrix = _transpose_(matrix)\n",
    "\n",
    "print(\"\\nTranposed Matrix:\")\n",
    "for row in transposed_matrix:\n",
    "    print(row)\n"
   ]
  },
  {
   "cell_type": "code",
   "execution_count": 61,
   "id": "2abe0ad9",
   "metadata": {},
   "outputs": [
    {
     "name": "stdout",
     "output_type": "stream",
     "text": [
      "Original nested list:\n",
      "[[1, 2, 3], [4, 5, 6], [7, 8, 9]]\n",
      "Flattened list:\n",
      "[1, 2, 3, 4, 5, 6, 7, 8, 9]\n"
     ]
    }
   ],
   "source": [
    "'''\n",
    "Assignment 10: Flattening a Nested List\n",
    "Write a function that takes a nested list and flattens it into a single list. Print the original and flattened lists.\n",
    "'''\n",
    "def flatten_list(list):\n",
    "    return [item for sublist in nested_list for item in sublist]\n",
    "\n",
    "nested_list = [\n",
    "    [1, 2, 3],\n",
    "    [4, 5, 6],\n",
    "    [7, 8, 9]\n",
    "]\n",
    "flattened = flatten_list(nested_list)\n",
    "print(\"Original nested list:\")\n",
    "print(nested_list)\n",
    "print(\"Flattened list:\")\n",
    "print(flattened)"
   ]
  },
  {
   "cell_type": "code",
   "execution_count": 68,
   "id": "2cdfa95a",
   "metadata": {},
   "outputs": [
    {
     "name": "stdout",
     "output_type": "stream",
     "text": [
      "Orginal list: [1, 2, 3, 4, 5, 6, 7, 8, 9, 10]\n",
      "Modified list: [1, 2, 4, 6, 8, 99, 9, 10]\n"
     ]
    }
   ],
   "source": [
    "''' \n",
    "Assignment 11: List Manipulation\n",
    "Create a list of the first 10 positive integers. \n",
    "Remove the elements at indices 2, 4, and 6, and insert the element '99' at index 5. Print the modified list.\n",
    "'''\n",
    "lst = list(range(1, 11))\n",
    "print(f\"Orginal list: {lst}\")\n",
    "\n",
    "del lst[6]\n",
    "del lst[4]\n",
    "del lst[2]\n",
    "lst.insert(5, 99)\n",
    "\n",
    "print(f\"Modified list: {lst}\")"
   ]
  },
  {
   "cell_type": "code",
   "execution_count": 70,
   "id": "483adba7",
   "metadata": {},
   "outputs": [
    {
     "name": "stdout",
     "output_type": "stream",
     "text": [
      "[(1, 'a'), (2, 'b'), (3, 'c'), (4, 'd'), (5, 'e')]\n"
     ]
    }
   ],
   "source": [
    "''' \n",
    "Assignment 12: List Zipping\n",
    "Create two lists of the same length. Use the `zip` function to combine these lists into a list of tuples and print the result.\n",
    "'''\n",
    "list1 = [1, 2, 3, 4, 5]\n",
    "list2 = ['a', 'b', 'c', 'd', 'e']\n",
    "\n",
    "print(list(zip(list1, list2)))"
   ]
  },
  {
   "cell_type": "code",
   "execution_count": 72,
   "id": "3925d56a",
   "metadata": {},
   "outputs": [
    {
     "name": "stdout",
     "output_type": "stream",
     "text": [
      "Original list:\n",
      "[2, 'Apple', 45, 5.36, True, False, 'Space', 'x']\n",
      "\n",
      "Reverse list:\n",
      "['x', 'Space', False, True, 5.36, 45, 'Apple', 2]\n"
     ]
    }
   ],
   "source": [
    "''' \n",
    "Assignment 13: List Reversal\n",
    "Write a function that takes a list and returns a new list with the elements in reverse order. Print the original and reversed lists.\n",
    "'''\n",
    "def _reverse_(lst):\n",
    "    return lst[::-1]\n",
    "\n",
    "lst = [2, \"Apple\", 45, 5.36, True, False, \"Space\", 'x']\n",
    "print(\"Original list:\")\n",
    "print(lst)\n",
    "print(\"\\nReverse list:\")\n",
    "print(_reverse_(lst))\n"
   ]
  },
  {
   "cell_type": "code",
   "execution_count": 75,
   "id": "409eab79",
   "metadata": {},
   "outputs": [
    {
     "name": "stdout",
     "output_type": "stream",
     "text": [
      "Original list:\n",
      "[2, 'Apple', 45, 5.36, True, False, 'Space', 'x']\n",
      "\n",
      "Roatated list:\n",
      "[5.36, True, False, 'Space', 'x', 2, 'Apple', 45]\n"
     ]
    }
   ],
   "source": [
    "'''\n",
    "Assignment 14: List Rotation\n",
    "Write a function that rotates a list by n positions. Print the original and rotated lists.\n",
    "'''\n",
    "def _rotate_(lst, n):\n",
    "    return lst[n:] + lst[:n]\n",
    "\n",
    "lst = [2, \"Apple\", 45, 5.36, True, False, \"Space\", 'x']\n",
    "print(\"Original list:\")\n",
    "print(lst)\n",
    "print(\"\\nRoatated list:\")\n",
    "print(_rotate_(lst, 3))"
   ]
  },
  {
   "cell_type": "code",
   "execution_count": 79,
   "id": "5bd38041",
   "metadata": {},
   "outputs": [
    {
     "name": "stdout",
     "output_type": "stream",
     "text": [
      "List 1: [1, 2, 3, 4, 5, 'a']\n",
      "List 2: ['a', 'b', 'c', 'd', 'e', 3, 5]\n",
      "Intersection: [3, 5, 'a']\n"
     ]
    }
   ],
   "source": [
    "'''\n",
    "Assignment 15: List Intersection\n",
    "Write a function that takes two lists and returns a new list containing only the elements that are present in both lists. \n",
    "Print the intersected list.\n",
    "'''\n",
    "def _list_intersection(list1, list2):\n",
    "    return [num for num in list1 if num in list2]\n",
    "list1 = [1, 2, 3, 4, 5, 'a']\n",
    "list2 = ['a', 'b', 'c', 'd', 'e', 3, 5]\n",
    "\n",
    "\n",
    "print(f\"List 1: {list1}\")\n",
    "print(f\"List 2: {list2}\")\n",
    "print(f\"Intersection: {_list_intersection(list1, list2)}\")"
   ]
  }
 ],
 "metadata": {
  "kernelspec": {
   "display_name": "Python 3",
   "language": "python",
   "name": "python3"
  },
  "language_info": {
   "codemirror_mode": {
    "name": "ipython",
    "version": 3
   },
   "file_extension": ".py",
   "mimetype": "text/x-python",
   "name": "python",
   "nbconvert_exporter": "python",
   "pygments_lexer": "ipython3",
   "version": "3.12.8"
  }
 },
 "nbformat": 4,
 "nbformat_minor": 5
}
