{
 "cells": [
  {
   "cell_type": "markdown",
   "metadata": {},
   "source": [
    "# Module 3: Data Structures Assignments\n",
    "## Lesson 3.3: Sets\n",
    "### Assignment 1: Creating and Accessing Sets\n",
    "\n",
    "Create a set with the first 10 positive integers. Print the set.\n",
    "\n",
    "### Assignment 2: Adding and Removing Elements\n",
    "\n",
    "Add the number 11 to the set created in Assignment 1. Then remove the number 1 from the set. Print the modified set.\n",
    "\n",
    "### Assignment 3: Set Operations\n",
    "\n",
    "Create two sets: one with the first 5 positive integers and another with the first 5 even integers. Perform and print the results of union, intersection, difference, and symmetric difference operations on these sets.\n",
    "\n",
    "### Assignment 4: Set Comprehensions\n",
    "\n",
    "Create a new set containing the squares of the first 10 positive integers using a set comprehension. Print the new set.\n",
    "\n",
    "### Assignment 5: Filtering Sets\n",
    "\n",
    "Create a new set containing only the even numbers from the set created in Assignment 1 using a set comprehension. Print the new set.\n",
    "\n",
    "### Assignment 6: Set Methods\n",
    "\n",
    "Create a set with duplicate elements and remove the duplicates using set methods. Print the modified set.\n",
    "\n",
    "### Assignment 7: Subsets and Supersets\n",
    "\n",
    "Create two sets: one with the first 5 positive integers and another with the first 3 positive integers. Check if the second set is a subset of the first set and if the first set is a superset of the second set. Print the results.\n",
    "\n",
    "### Assignment 8: Frozenset\n",
    "\n",
    "Create a frozenset with the first 5 positive integers. Print the frozenset.\n",
    "\n",
    "### Assignment 9: Set and List Conversion\n",
    "\n",
    "Create a set with the first 5 positive integers. Convert it to a list, append the number 6, and convert it back to a set. Print the resulting set.\n",
    "\n",
    "### Assignment 10: Set and Dictionary\n",
    "\n",
    "Create a dictionary with set keys and integer values. Print the dictionary.\n",
    "\n",
    "### Assignment 11: Iterating Over Sets\n",
    "\n",
    "Create a set and iterate over the elements, printing each element.\n",
    "\n",
    "### Assignment 12: Removing Elements from Sets\n",
    "\n",
    "Create a set and remove elements from it until it is empty. Print the set after each removal.\n",
    "\n",
    "### Assignment 13: Set Symmetric Difference Update\n",
    "\n",
    "Create two sets and update the first set with the symmetric difference of the two sets. Print the modified first set.\n",
    "\n",
    "### Assignment 14: Set Membership Testing\n",
    "\n",
    "Create a set and test if certain elements are present in the set. Print the results.\n",
    "\n",
    "### Assignment 15: Set of Tuples\n",
    "\n",
    "Create a set containing tuples, where each tuple contains two elements. Print the set."
   ]
  },
  {
   "cell_type": "code",
   "execution_count": 7,
   "id": "14779a73",
   "metadata": {},
   "outputs": [
    {
     "name": "stdout",
     "output_type": "stream",
     "text": [
      "{1, 2, 3, 4, 5, 6, 7, 8, 9, 10}\n"
     ]
    }
   ],
   "source": [
    "''' \n",
    "Assignment 1: Creating and Accessing Sets\n",
    "Create a set with the first 10 positive integers. Print the set.\n",
    "'''\n",
    "myset = set(range(1,11))\n",
    "print(myset)"
   ]
  },
  {
   "cell_type": "code",
   "execution_count": 8,
   "id": "68c45ae8",
   "metadata": {},
   "outputs": [
    {
     "name": "stdout",
     "output_type": "stream",
     "text": [
      "{2, 3, 4, 5, 6, 7, 8, 9, 10, 11}\n"
     ]
    }
   ],
   "source": [
    "''' \n",
    "Assignment 2: Adding and Removing Elements\n",
    "Add the number 11 to the set created in Assignment 1. Then remove the number 1 from the set. Print the modified set.\n",
    "'''\n",
    "myset.add(11)\n",
    "myset.remove(1)\n",
    "print(myset)"
   ]
  },
  {
   "cell_type": "code",
   "execution_count": 4,
   "id": "da0aa3fe",
   "metadata": {},
   "outputs": [
    {
     "name": "stdout",
     "output_type": "stream",
     "text": [
      "Set1 :  {1, 2, 3, 4, 5}\n",
      "Set2 :  {2, 4, 6, 8, 10}\n",
      "Union of two sets:  {1, 2, 3, 4, 5, 6, 8, 10}\n",
      "Intersection of two sets:  {2, 4}\n",
      "Difference of (Set1 - Set2):  {1, 3, 5}\n",
      "Symmetric Difference of two sets:  {1, 3, 5, 6, 8, 10}\n"
     ]
    }
   ],
   "source": [
    "''' \n",
    "Assignment 3: Set Operations\n",
    "Create two sets: one with the first 5 positive integers and another with the first 5 even integers. \n",
    "Perform and print the results of union, intersection, difference, and symmetric difference operations on these sets.\n",
    "'''\n",
    "set1 = set(range(1, 6))\n",
    "set2 = set(range(2, 11, 2))\n",
    "print(\"Set1 : \", set1)\n",
    "print(\"Set2 : \", set2)\n",
    "print(\"Union of two sets: \", set1.union(set2))\n",
    "print(\"Intersection of two sets: \", set1.intersection(set2))\n",
    "print(\"Difference of (Set1 - Set2): \", set1.difference(set2))\n",
    "print(\"Symmetric Difference of two sets: \", set1.symmetric_difference(set2))\n"
   ]
  },
  {
   "cell_type": "code",
   "execution_count": 6,
   "id": "6308c01f",
   "metadata": {},
   "outputs": [
    {
     "name": "stdout",
     "output_type": "stream",
     "text": [
      "{64, 1, 4, 36, 100, 9, 16, 49, 81, 25}\n"
     ]
    }
   ],
   "source": [
    "''' \n",
    "Assignment 4: Set Comprehensions\n",
    "Create a new set containing the squares of the first 10 positive integers using a set comprehension. Print the new set.\n",
    "'''\n",
    "squares = set(x**2 for x in range(1, 11))\n",
    "print(squares)"
   ]
  },
  {
   "cell_type": "code",
   "execution_count": 9,
   "id": "cd2be4ab",
   "metadata": {},
   "outputs": [
    {
     "name": "stdout",
     "output_type": "stream",
     "text": [
      "{2, 4, 6, 8, 10}\n"
     ]
    }
   ],
   "source": [
    "''' \n",
    "Assignment 5: Filtering Sets\n",
    "Create a new set containing only the even numbers from the set created in Assignment 1 using a set comprehension. \n",
    "Print the new set.\n",
    "'''\n",
    "even = set(x for x in myset if x % 2 == 0)\n",
    "print(even)\n"
   ]
  },
  {
   "cell_type": "code",
   "execution_count": 10,
   "id": "d7aeb050",
   "metadata": {},
   "outputs": [
    {
     "name": "stdout",
     "output_type": "stream",
     "text": [
      "{1, 2, 3, 4, 5}\n"
     ]
    }
   ],
   "source": [
    "''' \n",
    "Assignment 6: Set Methods\n",
    "Create a set with duplicate elements and remove the duplicates using set methods. Print the modified set.\n",
    "'''\n",
    "s = {1, 2, 2, 3, 4, 4, 5}\n",
    "unique_s = set(s)\n",
    "print(unique_s)"
   ]
  },
  {
   "cell_type": "code",
   "execution_count": 13,
   "id": "e73a1c67",
   "metadata": {},
   "outputs": [
    {
     "name": "stdout",
     "output_type": "stream",
     "text": [
      "Set1: {1, 2, 3, 4, 5}\n",
      "Set2: {1, 2, 3}\n",
      "Set2 is subset of Set1\n",
      "Set1 is superset of Set2\n"
     ]
    }
   ],
   "source": [
    "''' \n",
    "Assignment 7: Subsets and Supersets\n",
    "Create two sets: one with the first 5 positive integers and another with the first 3 positive integers. \n",
    "Check if the second set is a subset of the first set and if the first set is a superset of the second set. Print the results.\n",
    "'''\n",
    "set1 = set(range(1, 6))\n",
    "set2 = set(range(1, 4))\n",
    "print(f\"Set1: {set1}\")\n",
    "print(f\"Set2: {set2}\")\n",
    "\n",
    "if set2.issubset(set1):\n",
    "    print(\"Set2 is subset of Set1\")\n",
    "else:\n",
    "    print(\"Set2 is not a subset of Set1\")\n",
    "\n",
    "\n",
    "if set1.issuperset(set2):\n",
    "    print(\"Set1 is superset of Set2\")\n",
    "else:\n",
    "    print(\"Set1 is not superset of Set2\")\n"
   ]
  },
  {
   "cell_type": "code",
   "execution_count": 15,
   "id": "8667ce59",
   "metadata": {},
   "outputs": [
    {
     "name": "stdout",
     "output_type": "stream",
     "text": [
      "frozenset({1, 2, 3, 4, 5})\n"
     ]
    }
   ],
   "source": [
    "''' \n",
    "Assignment 8: Frozenset\n",
    "Create a frozenset with the first 5 positive integers. Print the frozenset.\n",
    "'''\n",
    "frozenset1 = frozenset(range(1, 6))\n",
    "print(frozenset1)"
   ]
  },
  {
   "cell_type": "code",
   "execution_count": 16,
   "id": "c3c5df9d",
   "metadata": {},
   "outputs": [
    {
     "name": "stdout",
     "output_type": "stream",
     "text": [
      "Orginal Set: {1, 2, 3, 4, 5}\n",
      "Set after conversion: {1, 2, 3, 4, 5, 6}\n"
     ]
    }
   ],
   "source": [
    "''' \n",
    "Assignment 9: Set and List Conversion\n",
    "Create a set with the first 5 positive integers. Convert it to a list, append the number 6, and convert it back to a set. \n",
    "Print the resulting set.\n",
    "'''\n",
    "set1 = set(range(1, 6))\n",
    "print(f\"Orginal Set: {set1}\")\n",
    "\n",
    "list1 = list(set1)\n",
    "list1.append(6)\n",
    "set1 = set(list1)\n",
    "\n",
    "print(f\"Set after conversion: {set1}\")"
   ]
  },
  {
   "cell_type": "code",
   "execution_count": null,
   "id": "5b2a3b3e",
   "metadata": {},
   "outputs": [],
   "source": [
    "''' \n",
    "Assignment 10: Set and Dictionary\n",
    "Create a dictionary with set keys and integer values. Print the dictionary.\n",
    "'''\n"
   ]
  }
 ],
 "metadata": {
  "kernelspec": {
   "display_name": "Python 3",
   "language": "python",
   "name": "python3"
  },
  "language_info": {
   "codemirror_mode": {
    "name": "ipython",
    "version": 3
   },
   "file_extension": ".py",
   "mimetype": "text/x-python",
   "name": "python",
   "nbconvert_exporter": "python",
   "pygments_lexer": "ipython3",
   "version": "3.12.8"
  }
 },
 "nbformat": 4,
 "nbformat_minor": 5
}
