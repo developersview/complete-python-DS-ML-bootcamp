{
 "cells": [
  {
   "cell_type": "markdown",
   "metadata": {},
   "source": [
    "# Module 4: Advanced Functions Assignments\n",
    "## Lesson 4.1: Defining Functions\n",
    "### Assignment 1: Fibonacci Sequence with Memoization\n",
    "\n",
    "Define a recursive function to calculate the nth Fibonacci number using memoization. Test the function with different inputs.\n",
    "\n",
    "### Assignment 2: Function with Nested Default Arguments\n",
    "\n",
    "Define a function that takes two arguments, a and b, where b is a dictionary with a default value of an empty dictionary. The function should add a new key-value pair to the dictionary and return it. Test the function with different inputs.\n",
    "\n",
    "### Assignment 3: Function with Variable Keyword Arguments\n",
    "\n",
    "Define a function that takes a variable number of keyword arguments and returns a dictionary containing only those key-value pairs where the value is an integer. Test the function with different inputs.\n",
    "\n",
    "### Assignment 4: Function with Callback\n",
    "\n",
    "Define a function that takes another function as a callback and a list of integers. The function should apply the callback to each integer in the list and return a new list with the results. Test with different callback functions.\n",
    "\n",
    "### Assignment 5: Function that Returns a Function\n",
    "\n",
    "Define a function that returns another function. The returned function should take an integer and return its square. Test the returned function with different inputs.\n",
    "\n",
    "### Assignment 6: Function with Decorators\n",
    "\n",
    "Define a function that calculates the time taken to execute another function. Apply this decorator to a function that performs a complex calculation. Test the decorated function with different inputs.\n",
    "\n",
    "### Assignment 7: Higher-Order Function for Filtering and Mapping\n",
    "\n",
    "Define a higher-order function that takes two functions, a filter function and a map function, along with a list of integers. The higher-order function should first filter the integers using the filter function and then apply the map function to the filtered integers. Test with different filter and map functions.\n",
    "\n",
    "### Assignment 8: Function Composition\n",
    "\n",
    "Define a function that composes two functions, f and g, such that the result is f(g(x)). Test with different functions f and g.\n",
    "\n",
    "### Assignment 9: Partial Function Application\n",
    "\n",
    "Use the functools.partial function to create a new function that multiplies its input by 2. Test the new function with different inputs.\n",
    "\n",
    "### Assignment 10: Function with Error Handling\n",
    "\n",
    "Define a function that takes a list of integers and returns their average. The function should handle any errors that occur (e.g., empty list) and return None in such cases. Test with different inputs.\n",
    "\n",
    "### Assignment 11: Function with Generators\n",
    "\n",
    "Define a function that generates an infinite sequence of Fibonacci numbers. Test by printing the first 10 numbers in the sequence.\n",
    "\n",
    "### Assignment 12: Currying\n",
    "\n",
    "Define a curried function that takes three arguments, one at a time, and returns their product. Test the function by providing arguments one at a time.\n",
    "\n",
    "### Assignment 13: Function with Context Manager\n",
    "\n",
    "Define a function that uses a context manager to write a list of integers to a file. The function should handle any errors that occur during file operations. Test with different lists.\n",
    "\n",
    "### Assignment 14: Function with Multiple Return Types\n",
    "\n",
    "Define a function that takes a list of mixed data types (integers, strings, and floats) and returns three lists: one containing all the integers, one containing all the strings, and one containing all the floats. Test with different inputs.\n",
    "\n",
    "### Assignment 15: Function with State\n",
    "\n",
    "Define a function that maintains state between calls using a mutable default argument. The function should keep track of how many times it has been called. Test by calling the function multiple times."
   ]
  },
  {
   "cell_type": "code",
   "execution_count": 9,
   "metadata": {},
   "outputs": [
    {
     "name": "stdout",
     "output_type": "stream",
     "text": [
      "55\n",
      "12586269025\n"
     ]
    }
   ],
   "source": [
    "''' \n",
    "Assignment 1: Fibonacci Sequence with Memoization\n",
    "Define a recursive function to calculate the nth Fibonacci number using memoization. Test the function with different inputs.\n",
    "'''\n",
    "def fib_memo(n, memo = {}):\n",
    "    \"\"\"\n",
    "    Calculates the nth Fibonacci number using memoization.\n",
    "    Args:\n",
    "        n: The index of the Fibonacci number to calculate.\n",
    "        memo: A dictionary to store previously calculated Fibonacci numbers.\n",
    "    Returns:\n",
    "        The nth Fibonacci number.\n",
    "    \"\"\"\n",
    "    if n <= 1:\n",
    "        return n\n",
    "    if n in memo:\n",
    "        return memo[n]\n",
    "    memo[n] = fib_memo(n - 1, memo) + fib_memo(n - 2, memo)\n",
    "    return memo[n]\n",
    "\n",
    "print(fib_memo(10))\n",
    "print(fib_memo(50))"
   ]
  },
  {
   "cell_type": "code",
   "execution_count": 19,
   "id": "df49fccd",
   "metadata": {},
   "outputs": [
    {
     "name": "stdout",
     "output_type": "stream",
     "text": [
      "{2: 4}\n",
      "{3: 27}\n",
      "{1: 2, 5: 3125}\n"
     ]
    }
   ],
   "source": [
    "''' \n",
    "Assignment 2: Function with Nested Default Arguments\n",
    "Define a function that takes two arguments, a and b, where b is a dictionary with a default value of an empty dictionary. The function should add a new key-value pair to the dictionary and return it. \n",
    "Test the function with different inputs.\n",
    "'''\n",
    "def add_to_dict(a, b=None):\n",
    "    if b is None:\n",
    "        b = {}\n",
    "    b[a] = a**a\n",
    "    return b\n",
    "\n",
    "print(add_to_dict(2, None))\n",
    "print(add_to_dict(3))\n",
    "print(add_to_dict(5, {1:2}))"
   ]
  },
  {
   "cell_type": "code",
   "execution_count": 4,
   "id": "dbbf36ae",
   "metadata": {},
   "outputs": [
    {
     "name": "stdout",
     "output_type": "stream",
     "text": [
      "{'a': 34, 'd': 45}\n",
      "{'b': 89, 'c': 56}\n"
     ]
    }
   ],
   "source": [
    "''' \n",
    "Assignment 3: Function with Variable Keyword Arguments\n",
    "Define a function that takes a variable number of keyword arguments and returns \n",
    "a dictionary containing only those key-value pairs where the value is an integer. Test the function with different inputs.\n",
    "'''\n",
    "def filter_integers(**kwargs):\n",
    "    return {k: v for k, v in kwargs.items() if isinstance(v, int) and not isinstance(v, bool)}\n",
    "\n",
    "print(filter_integers(a=34, b='abc', c=True, d=45))\n",
    "print(filter_integers(a=45.2, b=89, c=56))"
   ]
  },
  {
   "cell_type": "code",
   "execution_count": 2,
   "id": "7ee430e0",
   "metadata": {},
   "outputs": [
    {
     "name": "stdout",
     "output_type": "stream",
     "text": [
      "[1, 4, 9, 16, 25, 36]\n",
      "[1, 8, 27, 64, 125, 216]\n"
     ]
    }
   ],
   "source": [
    "''' \n",
    "Assignment 4: Function with Callback\n",
    "Define a function that takes another function as a callback and a list of integers. \n",
    "The function should apply the callback to each integer in the list and return a new list with the results. \n",
    "Test with different callback functions.\n",
    "'''\n",
    "def apply_callback(callback, lst):\n",
    "    \"\"\"\n",
    "    Applies a callback function to each integer in a list.\n",
    "\n",
    "    Parameters:\n",
    "        callback (function): A function to apply to each element in the list.\n",
    "        numbers (list): A list of integers.\n",
    "\n",
    "    Returns:\n",
    "        list: A new list with the results of applying the callback.\n",
    "    \"\"\"\n",
    "    return [callback(item) for item in lst]\n",
    "\n",
    "def cube(num):\n",
    "    return num**3\n",
    "\n",
    "print(apply_callback(lambda x: x**2, [1,2,3,4,5,6]))\n",
    "print(apply_callback(cube, [1,2,3,4,5,6]))\n"
   ]
  },
  {
   "cell_type": "code",
   "execution_count": 4,
   "id": "1df1127a",
   "metadata": {},
   "outputs": [
    {
     "name": "stdout",
     "output_type": "stream",
     "text": [
      "4\n",
      "16\n"
     ]
    }
   ],
   "source": [
    "''' \n",
    "Assignment 5: Function that Returns a Function\n",
    "Define a function that returns another function. \n",
    "The returned function should take an integer and return its square. Test the returned function with different inputs.\n",
    "'''\n",
    "def outer_function():\n",
    "    def inner_function(x):\n",
    "        return x ** 2\n",
    "    return inner_function\n",
    "\n",
    "square = outer_function()\n",
    "print(square(2))\n",
    "print(square(4))"
   ]
  },
  {
   "cell_type": "code",
   "execution_count": 11,
   "id": "b064edbe",
   "metadata": {},
   "outputs": [
    {
     "name": "stdout",
     "output_type": "stream",
     "text": [
      "Execution time for complex_calculation: 0.000000 seconds\n",
      "Result: 333283335000\n",
      "Execution time for complex_calculation: 0.019089 seconds\n",
      "Result: 2666646666700000\n",
      "Execution time for complex_calculation: 0.024916 seconds\n",
      "Result: 8999955000050000\n"
     ]
    }
   ],
   "source": [
    "''' \n",
    "Assignment 6: Function with Decorators\n",
    "Define a function that calculates the time taken to execute another function. Apply this decorator to a function that performs a complex calculation. Test the decorated function with different inputs.\n",
    "'''\n",
    "import time\n",
    "\n",
    "def execution_time_decorator(func):\n",
    "    def wrapper(*args, **kwargs):\n",
    "        start_time = time.time() # Record the start time\n",
    "        result = func(*args, **kwargs) # call the orginal function\n",
    "        end_time = time.time() #record the end time\n",
    "        print(f\"Execution time for {func.__name__}: {end_time - start_time:8f} seconds\")\n",
    "        return result\n",
    "    return wrapper\n",
    "\n",
    "@execution_time_decorator\n",
    "def complex_calculation(n):\n",
    "    return sum(x**2 for x in range(n))\n",
    "\n",
    "print(f\"Result: {complex_calculation(10000)}\")\n",
    "print(f\"Result: {complex_calculation(200000)}\")\n",
    "print(f\"Result: {complex_calculation(300000)}\")\n"
   ]
  },
  {
   "cell_type": "code",
   "execution_count": 15,
   "id": "8d6faedb",
   "metadata": {},
   "outputs": [
    {
     "name": "stdout",
     "output_type": "stream",
     "text": [
      "[4, 16, 36, 64]\n",
      "[3, 5, 7, 9, 11]\n"
     ]
    }
   ],
   "source": [
    "''' \n",
    "Assignment 7: Higher-Order Function for Filtering and Mapping\n",
    "Define a higher-order function that takes two functions, a filter function and a map function, along with a list of integers. \n",
    "The higher-order function should first filter the integers using \n",
    "the filter function and then apply the map function to the filtered integers. \n",
    "Test with different filter and map functions.\n",
    "'''\n",
    "def filter_and_map(filter_func, map_func, lst):\n",
    "    return [map_func(x) for x in lst if filter_func(x)]\n",
    "\n",
    "print(filter_and_map(lambda x: x % 2 == 0, lambda x: x ** 2, [1,2,3,4,5,6,7,8,9]))\n",
    "print(filter_and_map(lambda x: x % 2 != 0, lambda x: x + 2, [1,2,3,4,5,6,7,8,9]))\n"
   ]
  },
  {
   "cell_type": "code",
   "execution_count": 18,
   "id": "46b801b2",
   "metadata": {},
   "outputs": [
    {
     "name": "stdout",
     "output_type": "stream",
     "text": [
      "7\n",
      "51\n"
     ]
    }
   ],
   "source": [
    "''' \n",
    "Assignment 8: Function Composition\n",
    "Define a function that composes two functions, f and g, such that the result is f(g(x)). Test with different functions f and g.\n",
    "'''\n",
    "def compose(f,g):\n",
    "    return lambda x: f(g(x))\n",
    "\n",
    "f = lambda x: x + 1\n",
    "g = lambda x: x * 2\n",
    "h = compose(f,g)\n",
    "print(h(3))\n",
    "print(h(25))"
   ]
  },
  {
   "cell_type": "code",
   "execution_count": 22,
   "id": "7037349b",
   "metadata": {},
   "outputs": [
    {
     "name": "stdout",
     "output_type": "stream",
     "text": [
      "3.5\n",
      "None\n"
     ]
    }
   ],
   "source": [
    "''' \n",
    "Assignment 10: Function with Error Handling\n",
    "Define a function that takes a list of integers and returns their average. \n",
    "The function should handle any errors that occur (e.g., empty list) and return None in such cases. Test with different inputs.\n",
    "'''\n",
    "\n",
    "def average(lst):\n",
    "    try:\n",
    "        return sum(lst) / len(lst)\n",
    "    except ZeroDivisionError:\n",
    "        return None\n",
    "\n",
    "print(average([1,2,3,4,5,6]))\n",
    "print(average([]))"
   ]
  },
  {
   "cell_type": "code",
   "execution_count": 28,
   "id": "79e7ac19",
   "metadata": {},
   "outputs": [
    {
     "name": "stdout",
     "output_type": "stream",
     "text": [
      "0\n",
      "1\n",
      "1\n",
      "2\n",
      "3\n",
      "5\n",
      "8\n",
      "13\n",
      "21\n",
      "34\n"
     ]
    }
   ],
   "source": [
    "''' \n",
    "Assignment 10: Function with Error Handling\n",
    "Define a function that takes a list of integers and returns their average. \n",
    "The function should handle any errors that occur (e.g., empty list) and return None in such cases. Test with different inputs.\n",
    "'''\n",
    "def fibonicci_generator():\n",
    "    \"\"\" \n",
    "    What is a Generator?\n",
    "    A generator is a special type of iterable that uses yield to produce values one at a time, without storing them in memory.\n",
    "    It is useful for generating infinite or large sequences lazily (on-demand).\n",
    "    \n",
    "    Why Use yield?\n",
    "    Unlike return, which stops a function entirely, yield pauses the function, allowing it to resume later from the same point. T\n",
    "    his makes it memory efficient.\n",
    "    \"\"\"\n",
    "    a, b = 0, 1\n",
    "    while True:\n",
    "        yield a\n",
    "        a, b = b, a + b\n",
    "\n",
    "fib_gen = fibonicci_generator()\n",
    "for _ in range(10):\n",
    "    print(next(fib_gen))"
   ]
  },
  {
   "cell_type": "code",
   "execution_count": 29,
   "id": "997af2f8",
   "metadata": {},
   "outputs": [
    {
     "name": "stdout",
     "output_type": "stream",
     "text": [
      "24\n"
     ]
    }
   ],
   "source": [
    "'''\n",
    "Assignment 12: Currying\n",
    "Define a curried function that takes three arguments, \n",
    "one at a time, and returns their product. Test the function by providing arguments one at a time.\n",
    "'''\n",
    "def curried_product(x):\n",
    "    def inner1(y):\n",
    "        def inner2(z):\n",
    "            return x * y * z\n",
    "        return inner2\n",
    "    return inner1\n",
    "\n",
    "print(curried_product(2)(3)(4))"
   ]
  },
  {
   "cell_type": "code",
   "execution_count": 33,
   "id": "f7c377f1",
   "metadata": {},
   "outputs": [],
   "source": [
    "'''\n",
    "Assignment 13: Function with Context Manager\n",
    "Define a function that uses a context manager to write a list of integers to a file. \n",
    "The function should handle any errors that occur during file operations. Test with different lists.\n",
    "'''\n",
    "def write_to_file(lst, filename):\n",
    "    try:\n",
    "        with open(filename, 'w') as f:\n",
    "            f.write(\"List of numbers:\\n\")\n",
    "            for num in lst:\n",
    "                f.write(f\"{num}\\n\")\n",
    "    except IOError as e:\n",
    "        print(f\"An error occured: {e}\")\n",
    "\n",
    "write_to_file([1,2,3,4,5], 'output.txt')"
   ]
  },
  {
   "cell_type": "code",
   "execution_count": 37,
   "id": "f81f56ea",
   "metadata": {},
   "outputs": [
    {
     "name": "stdout",
     "output_type": "stream",
     "text": [
      "([2, 89, 78, 0], ['b', 'c', 'Pranoy', 'True'], [25.6, 62.9, 1.2, 0.0])\n"
     ]
    }
   ],
   "source": [
    "'''\n",
    "Assignment 14: Function with Multiple Return Types\n",
    "Define a function that takes a list of mixed data types (integers, strings, and floats) \n",
    "and returns three lists: one containing all the integers, one containing all the strings, and one containing all the floats. Test with different inputs.\n",
    "'''\n",
    "def separate_types(lst):\n",
    "    ints, strs, floats = [], [], []\n",
    "    for item in lst:\n",
    "        if isinstance(item, int):\n",
    "            ints.append(item)\n",
    "        elif isinstance(item, str):\n",
    "            strs.append(item)\n",
    "        elif isinstance(item, float):\n",
    "            floats.append(item)\n",
    "    return ints, strs, floats\n",
    "\n",
    "print(separate_types([2, 'b', 'c', 'Pranoy', 25.6, 89, 78, 62.9, 'True', 1.2, 0.0, 0]))\n"
   ]
  },
  {
   "cell_type": "code",
   "execution_count": 44,
   "id": "cd163713",
   "metadata": {},
   "outputs": [
    {
     "name": "stdout",
     "output_type": "stream",
     "text": [
      "1\n",
      "2\n",
      "3\n",
      "4\n"
     ]
    }
   ],
   "source": [
    "'''\n",
    "Assignment 15: Function with State\n",
    "Define a function that maintains state between calls using a mutable default argument. \n",
    "The function should keep track of how many times it has been called. Test by calling the function multiple times.\n",
    "'''\n",
    "def call_counter(counter = {'count': 0}):\n",
    "    counter['count'] += 1\n",
    "    return counter['count']\n",
    "\n",
    "print(call_counter())\n",
    "print(call_counter())\n",
    "print(call_counter())\n",
    "print(call_counter())"
   ]
  }
 ],
 "metadata": {
  "kernelspec": {
   "display_name": "venv",
   "language": "python",
   "name": "python3"
  },
  "language_info": {
   "codemirror_mode": {
    "name": "ipython",
    "version": 3
   },
   "file_extension": ".py",
   "mimetype": "text/x-python",
   "name": "python",
   "nbconvert_exporter": "python",
   "pygments_lexer": "ipython3",
   "version": "3.12.8"
  }
 },
 "nbformat": 4,
 "nbformat_minor": 5
}
