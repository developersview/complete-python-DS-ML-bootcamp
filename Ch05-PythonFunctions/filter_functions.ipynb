{
 "cells": [
  {
   "cell_type": "markdown",
   "metadata": {},
   "source": [
    "## The filter() Function in Python\n",
    "The filter() function constructs an iterator from elements of an iterable for which a function returns true. It is used to filter out items from a list (or any other iterable) based on a condition."
   ]
  },
  {
   "cell_type": "code",
   "execution_count": 2,
   "metadata": {},
   "outputs": [
    {
     "data": {
      "text/plain": [
       "True"
      ]
     },
     "execution_count": 2,
     "metadata": {},
     "output_type": "execute_result"
    }
   ],
   "source": [
    "def is_even(num):\n",
    "    if num % 2 == 0:\n",
    "        return True\n",
    "    \n",
    "is_even(34)"
   ]
  },
  {
   "cell_type": "code",
   "execution_count": 6,
   "metadata": {},
   "outputs": [
    {
     "name": "stdout",
     "output_type": "stream",
     "text": [
      "[2, 4, 6, 788, 4, 56, 954, 648, 114, 478, 0]\n"
     ]
    }
   ],
   "source": [
    "lst = [1,2,4,5,6,788,9,4,5,56,954,648,114,155,1567,478,111,0]\n",
    "\n",
    "even_numbers = list(filter(is_even, lst))\n",
    "print(even_numbers)"
   ]
  },
  {
   "cell_type": "code",
   "execution_count": 7,
   "metadata": {},
   "outputs": [
    {
     "name": "stdout",
     "output_type": "stream",
     "text": [
      "[6, 7, 8, 9]\n"
     ]
    }
   ],
   "source": [
    "## filter with a Lambda Function\n",
    "numbers = [1,2,3,4,5,6,7,8,9]\n",
    "greater_than_five = list(filter(lambda x: x > 5, numbers))\n",
    "print(greater_than_five)\n"
   ]
  },
  {
   "cell_type": "code",
   "execution_count": 8,
   "metadata": {},
   "outputs": [
    {
     "name": "stdout",
     "output_type": "stream",
     "text": [
      "[6, 8]\n"
     ]
    }
   ],
   "source": [
    "## Filter with a lambda function and multiple conditions\n",
    "numbers=[1,2,3,4,5,6,7,8,9]\n",
    "even_with_greater_than_five = list(filter(lambda x: x > 5 and x % 2 == 0, numbers))\n",
    "print(even_with_greater_than_five)"
   ]
  },
  {
   "cell_type": "code",
   "execution_count": 11,
   "metadata": {},
   "outputs": [
    {
     "name": "stdout",
     "output_type": "stream",
     "text": [
      "[{'name': 'Pranoy', 'age': 26}, {'name': 'Steve', 'age': 78}]\n"
     ]
    }
   ],
   "source": [
    "## Filter() to check if the age is greate than 25 in dictionaries\n",
    "people = [\n",
    "    {\n",
    "        'name':'Pranoy',\n",
    "        'age':26,\n",
    "    },\n",
    "    {\n",
    "        'name':'Peter',\n",
    "        'age':22,\n",
    "    },\n",
    "    {\n",
    "        'name':'Steve',\n",
    "        'age':78,\n",
    "    }\n",
    "]\n",
    "\n",
    "def age_greater_than_25(person):\n",
    "    return person['age'] > 25\n",
    "\n",
    "elder_people = list(filter(age_greater_than_25, people))\n",
    "print(elder_people)"
   ]
  },
  {
   "cell_type": "code",
   "execution_count": 12,
   "metadata": {},
   "outputs": [
    {
     "name": "stdout",
     "output_type": "stream",
     "text": [
      "[{'name': 'Pranoy', 'age': 26}, {'name': 'Steve', 'age': 78}]\n"
     ]
    }
   ],
   "source": [
    "people = [\n",
    "    {\n",
    "        'name':'Pranoy',\n",
    "        'age':26,\n",
    "    },\n",
    "    {\n",
    "        'name':'Peter',\n",
    "        'age':22,\n",
    "    },\n",
    "    {\n",
    "        'name':'Steve',\n",
    "        'age':78,\n",
    "    }\n",
    "]\n",
    "\n",
    "elder_people = list(filter(lambda person: person['age'] > 25, people))\n",
    "print(elder_people)"
   ]
  },
  {
   "cell_type": "markdown",
   "metadata": {},
   "source": [
    "### Conclusion\n",
    "The filter() function is a powerful tool for creating iterators that filter items out of an iterable based on a function. It is commonly used for data cleaning, filtering objects, and removing unwanted elements from lists. By mastering filter(), you can write more concise and efficient code for processing and manipulating collections in Python.\n",
    "\n"
   ]
  }
 ],
 "metadata": {
  "kernelspec": {
   "display_name": "venv",
   "language": "python",
   "name": "python3"
  },
  "language_info": {
   "codemirror_mode": {
    "name": "ipython",
    "version": 3
   },
   "file_extension": ".py",
   "mimetype": "text/x-python",
   "name": "python",
   "nbconvert_exporter": "python",
   "pygments_lexer": "ipython3",
   "version": "3.12.8"
  }
 },
 "nbformat": 4,
 "nbformat_minor": 2
}
