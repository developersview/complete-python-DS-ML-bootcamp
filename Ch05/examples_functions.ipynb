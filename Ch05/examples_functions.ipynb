{
 "cells": [
  {
   "cell_type": "markdown",
   "metadata": {},
   "source": [
    "### Example 1 : Temperature Conversion"
   ]
  },
  {
   "cell_type": "code",
   "execution_count": 8,
   "metadata": {},
   "outputs": [
    {
     "name": "stdout",
     "output_type": "stream",
     "text": [
      "The converted temperature is: 25.0 deg Celcius\n"
     ]
    }
   ],
   "source": [
    "def convert_temperature(temp, unit):\n",
    "    \"\"\"This function convert temperarture between celcius or farenheit\"\"\"\n",
    "    if unit.lower() == 'c':\n",
    "        return str((temp * 9/5) + 32) + \" deg Farenheit\"\n",
    "    elif unit.lower() == 'f':\n",
    "        return str((temp - 32) * 5/9) + \" deg Celcius\"\n",
    "    else:\n",
    "        return None\n",
    "\n",
    "temp = float(input(\"Enter the temperature\"))\n",
    "unit = input(\"Enter unit [C for Celcius or F for Farenheit]\")\n",
    "print(f\"The converted temperature is: {convert_temperature(temp, unit)}\")\n"
   ]
  },
  {
   "cell_type": "markdown",
   "metadata": {},
   "source": [
    "### Example 2 : Password Strength checker"
   ]
  },
  {
   "cell_type": "code",
   "execution_count": 12,
   "metadata": {},
   "outputs": [
    {
     "name": "stdout",
     "output_type": "stream",
     "text": [
      "The password is weak\n"
     ]
    }
   ],
   "source": [
    "def is_stong_password(password):\n",
    "    \"\"\"This function checks if the password is strong or not\"\"\"\n",
    "    if len(password) < 8:\n",
    "        return False\n",
    "    if not any(char.isdigit() for char in password):\n",
    "        return False\n",
    "    if not any(char.islower() for char in password):\n",
    "        return False\n",
    "    if not any(char.isupper() for char in password):\n",
    "        return False\n",
    "    if not any(char in '!@#$%^&*()_+-=' for char in password):\n",
    "        return False\n",
    "    return True\n",
    "    \n",
    "\n",
    "password = input(\"Enter password: \")\n",
    "if (is_stong_password(password)):\n",
    "    print(\"The password is strong\")\n",
    "else:\n",
    "    print(\"The password is weak\")"
   ]
  },
  {
   "cell_type": "markdown",
   "metadata": {},
   "source": [
    "### Example 3: Calculate the total cost of items in a shopping cart "
   ]
  },
  {
   "cell_type": "code",
   "execution_count": 17,
   "metadata": {},
   "outputs": [
    {
     "name": "stdout",
     "output_type": "stream",
     "text": [
      "Total billing amount:  Rs. 1590\n"
     ]
    }
   ],
   "source": [
    "def calculate_total_cost(cart):\n",
    "    \"\"\"This function calculate total cost from a cart\"\"\"\n",
    "    total_cost = 0\n",
    "    for item in cart:\n",
    "        total_cost += item['price'] * item['quantity']\n",
    "    return total_cost\n",
    "\n",
    "\n",
    "cart = [\n",
    "    {\n",
    "        'name':'Apple',\n",
    "        'price':60,\n",
    "        'quantity':5\n",
    "    },\n",
    "    {\n",
    "        'name':'Banana',\n",
    "        'price':40,\n",
    "        'quantity':12\n",
    "    },\n",
    "    {\n",
    "        'name':'Kiwi',\n",
    "        'price':80,\n",
    "        'quantity':4\n",
    "    },\n",
    "    {\n",
    "        'name':'Orange',\n",
    "        'price':70,\n",
    "        'quantity':7\n",
    "    }\n",
    "]\n",
    "\n",
    "total_cost = calculate_total_cost(cart)\n",
    "print(f\"Total billing amount:  Rs. {total_cost}\")"
   ]
  },
  {
   "cell_type": "markdown",
   "metadata": {},
   "source": [
    "### Example 4: Check IF a String Is Palindrome"
   ]
  },
  {
   "cell_type": "code",
   "execution_count": 20,
   "metadata": {},
   "outputs": [
    {
     "name": "stdout",
     "output_type": "stream",
     "text": [
      "True\n",
      "False\n"
     ]
    }
   ],
   "source": [
    "def check_palindrome(s):\n",
    "    s = s.lower().replace(\" \", \"\")\n",
    "    return s == s[::-1]\n",
    "\n",
    "print(check_palindrome(\"A man a plan a canal Panama\"))\n",
    "print(check_palindrome(\"Hello\"))\n"
   ]
  },
  {
   "cell_type": "markdown",
   "metadata": {},
   "source": [
    "### Example 5: Calculate the factorials of a number using recursion"
   ]
  },
  {
   "cell_type": "code",
   "execution_count": 25,
   "metadata": {},
   "outputs": [
    {
     "name": "stdout",
     "output_type": "stream",
     "text": [
      "720\n"
     ]
    }
   ],
   "source": [
    "def factorial(n):\n",
    "    if n == 1:\n",
    "        return 1\n",
    "    else:\n",
    "        return n * factorial(n - 1)\n",
    "    \n",
    "print(factorial(6))"
   ]
  },
  {
   "cell_type": "markdown",
   "metadata": {},
   "source": [
    "### Example 6: A Function To Read A File and count the frequency of each word"
   ]
  },
  {
   "cell_type": "code",
   "execution_count": 37,
   "metadata": {},
   "outputs": [
    {
     "name": "stdout",
     "output_type": "stream",
     "text": [
      "hello: 1\n",
      "world: 1\n",
      "how: 1\n",
      "are: 1\n",
      "you: 1\n",
      "my: 1\n",
      "name: 1\n",
      "is: 1\n",
      "pranoy: 2\n"
     ]
    }
   ],
   "source": [
    "def count_word_frequency(file_path):\n",
    "    word_count = {}\n",
    "    with open(file_path, 'r') as file:\n",
    "        for line in file:\n",
    "            words = line.split()\n",
    "            for word in words:\n",
    "                word = word.lower().strip('.,!?;:/\"#%&')\n",
    "                word_count[word] = word_count.get(word, 0) + 1\n",
    "    return word_count\n",
    "\n",
    "filepath = 'sample.txt'\n",
    "word_frequency = count_word_frequency(filepath)\n",
    "for key,value in word_frequency.items():\n",
    "    print(f\"{key}: {value}\")\n"
   ]
  },
  {
   "cell_type": "code",
   "execution_count": null,
   "metadata": {},
   "outputs": [],
   "source": []
  }
 ],
 "metadata": {
  "kernelspec": {
   "display_name": "venv",
   "language": "python",
   "name": "python3"
  },
  "language_info": {
   "codemirror_mode": {
    "name": "ipython",
    "version": 3
   },
   "file_extension": ".py",
   "mimetype": "text/x-python",
   "name": "python",
   "nbconvert_exporter": "python",
   "pygments_lexer": "ipython3",
   "version": "3.12.8"
  }
 },
 "nbformat": 4,
 "nbformat_minor": 2
}
