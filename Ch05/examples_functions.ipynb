{
 "cells": [
  {
   "cell_type": "markdown",
   "metadata": {},
   "source": [
    "### Example 1 : Temperature Conversion"
   ]
  },
  {
   "cell_type": "code",
   "execution_count": 8,
   "metadata": {},
   "outputs": [
    {
     "name": "stdout",
     "output_type": "stream",
     "text": [
      "The converted temperature is: 25.0 deg Celcius\n"
     ]
    }
   ],
   "source": [
    "def convert_temperature(temp, unit):\n",
    "    \"\"\"This function convert temperarture between celcius or farenheit\"\"\"\n",
    "    if unit.lower() == 'c':\n",
    "        return str((temp * 9/5) + 32) + \" deg Farenheit\"\n",
    "    elif unit.lower() == 'f':\n",
    "        return str((temp - 32) * 5/9) + \" deg Celcius\"\n",
    "    else:\n",
    "        return None\n",
    "\n",
    "temp = float(input(\"Enter the temperature\"))\n",
    "unit = input(\"Enter unit [C for Celcius or F for Farenheit]\")\n",
    "print(f\"The converted temperature is: {convert_temperature(temp, unit)}\")\n"
   ]
  },
  {
   "cell_type": "markdown",
   "metadata": {},
   "source": [
    "### Example 2 : Password Strength checker"
   ]
  },
  {
   "cell_type": "code",
   "execution_count": 12,
   "metadata": {},
   "outputs": [
    {
     "name": "stdout",
     "output_type": "stream",
     "text": [
      "The password is weak\n"
     ]
    }
   ],
   "source": [
    "def is_stong_password(password):\n",
    "    \"\"\"This function checks if the password is strong or not\"\"\"\n",
    "    if len(password) < 8:\n",
    "        return False\n",
    "    if not any(char.isdigit() for char in password):\n",
    "        return False\n",
    "    if not any(char.islower() for char in password):\n",
    "        return False\n",
    "    if not any(char.isupper() for char in password):\n",
    "        return False\n",
    "    if not any(char in '!@#$%^&*()_+-=' for char in password):\n",
    "        return False\n",
    "    return True\n",
    "    \n",
    "\n",
    "password = input(\"Enter password: \")\n",
    "if (is_stong_password(password)):\n",
    "    print(\"The password is strong\")\n",
    "else:\n",
    "    print(\"The password is weak\")"
   ]
  },
  {
   "cell_type": "code",
   "execution_count": null,
   "metadata": {},
   "outputs": [],
   "source": []
  },
  {
   "cell_type": "code",
   "execution_count": null,
   "metadata": {},
   "outputs": [],
   "source": []
  }
 ],
 "metadata": {
  "kernelspec": {
   "display_name": "venv",
   "language": "python",
   "name": "python3"
  },
  "language_info": {
   "codemirror_mode": {
    "name": "ipython",
    "version": 3
   },
   "file_extension": ".py",
   "mimetype": "text/x-python",
   "name": "python",
   "nbconvert_exporter": "python",
   "pygments_lexer": "ipython3",
   "version": "3.12.8"
  }
 },
 "nbformat": 4,
 "nbformat_minor": 2
}
