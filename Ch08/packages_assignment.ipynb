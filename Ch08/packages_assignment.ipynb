{
 "cells": [
  {
   "cell_type": "markdown",
   "metadata": {},
   "source": [
    "# Module 5: Modules and Packages Assignments\n",
    "## Lesson 5.1: Importing Modules\n",
    "### Assignment 1: Importing and Using Modules\n",
    "\n",
    "Import the `math` module and use it to calculate the square root of 25 and the sine of 90 degrees.\n",
    "\n",
    "### Assignment 2: Aliasing Modules\n",
    "\n",
    "Import the `datetime` module with an alias and use it to print the current date and time.\n",
    "\n",
    "### Assignment 3: Importing Specific Functions\n",
    "\n",
    "Import the `randint` function from the `random` module and use it to generate a random integer between 1 and 100.\n",
    "\n",
    "### Assignment 4: Importing Multiple Functions\n",
    "\n",
    "Import the `sqrt` and `pow` functions from the `math` module and use them to calculate the square root of 16 and 2 raised to the power of 3.\n",
    "\n",
    "### Assignment 5: Handling Import Errors\n",
    "\n",
    "Write code that attempts to import a non-existent module and gracefully handles the import error by printing an error message.\n",
    "\n",
    "## Lesson 5.2: Standard Library Overview\n",
    "### Assignment 6: Working with the `os` Module\n",
    "\n",
    "Use the `os` module to create a new directory, list the contents of the current directory, and remove the newly created directory.\n",
    "\n",
    "### Assignment 7: Working with the `sys` Module\n",
    "\n",
    "Use the `sys` module to print the Python version currently in use and the command-line arguments passed to the script.\n",
    "\n",
    "### Assignment 8: Working with the `math` Module\n",
    "\n",
    "Use the `math` module to calculate the greatest common divisor (GCD) of two numbers and the factorial of a number.\n",
    "\n",
    "### Assignment 9: Working with the `datetime` Module\n",
    "\n",
    "Use the `datetime` module to print the current date, calculate the date 100 days from today, and determine the day of the week for a given date.\n",
    "\n",
    "### Assignment 10: Working with the `random` Module\n",
    "\n",
    "Use the `random` module to generate a list of 5 random numbers between 1 and 50 and shuffle the elements of a list.\n",
    "\n",
    "## Lesson 5.3: Creating and Using Packages\n",
    "### Assignment 11: Creating a Simple Package\n",
    "\n",
    "Create a package named `mypackage` with two modules: `module1` and `module2`. `module1` should contain a function that adds two numbers, and `module2` should contain a function that multiplies two numbers. Write code to use these functions.\n",
    "\n",
    "### Assignment 12: Using `__init__.py`\n",
    "\n",
    "Modify the `mypackage` package to include an `__init__.py` file that imports the functions from `module1` and `module2`. Write code to use these functions.\n",
    "\n",
    "### Assignment 13: Importing from a Package\n",
    "\n",
    "Write code to import and use the functions from `mypackage` without explicitly importing `module1` and `module2`.\n",
    "\n",
    "### Assignment 14: Relative Imports\n",
    "\n",
    "Create a subpackage named `subpackage` within `mypackage` and move `module2` into `subpackage`. Modify the import statements in `__init__.py` to use relative imports. Write code to use the functions from both modules.\n",
    "\n",
    "### Assignment 15: Handling Package Import Errors\n",
    "\n",
    "Write code that attempts to import a non-existent function from `mypackage` and gracefully handles the import error by printing an error message."
   ]
  },
  {
   "cell_type": "code",
   "execution_count": 2,
   "metadata": {},
   "outputs": [
    {
     "name": "stdout",
     "output_type": "stream",
     "text": [
      "5.0\n",
      "1.0\n"
     ]
    }
   ],
   "source": [
    "'''\n",
    "Assignment 1: Importing and Using Modules\n",
    "Import the `math` module and use it to calculate the square root of 25 and the sine of 90 degrees.\n",
    "'''\n",
    "import math\n",
    "\n",
    "print(math.sqrt(25))\n",
    "print(math.sin(math.radians(90)))"
   ]
  },
  {
   "cell_type": "code",
   "execution_count": 1,
   "id": "a1bf6f65",
   "metadata": {},
   "outputs": [
    {
     "name": "stdout",
     "output_type": "stream",
     "text": [
      "2025-02-04 20:40:37.694314\n"
     ]
    }
   ],
   "source": [
    "'''\n",
    "Assignment 2: Aliasing Modules\n",
    "Import the `datetime` module with an alias and use it to print the current date and time.\n",
    "'''\n",
    "import datetime as dlt\n",
    "\n",
    "print(dlt.datetime.now())"
   ]
  },
  {
   "cell_type": "code",
   "execution_count": 2,
   "id": "658e0eda",
   "metadata": {},
   "outputs": [
    {
     "name": "stdout",
     "output_type": "stream",
     "text": [
      "75\n"
     ]
    }
   ],
   "source": [
    "'''\n",
    "Assignment 3: Importing Specific Functions\n",
    "Import the `randint` function from the `random` module and use it to generate a random integer between 1 and 100.\n",
    "'''\n",
    "from random import randint\n",
    "\n",
    "print(randint(1, 100))"
   ]
  },
  {
   "cell_type": "code",
   "execution_count": 3,
   "id": "c1a41630",
   "metadata": {},
   "outputs": [
    {
     "name": "stdout",
     "output_type": "stream",
     "text": [
      "4.0\n",
      "8.0\n"
     ]
    }
   ],
   "source": [
    "''' \n",
    "Assignment 4: Importing Multiple Functions\n",
    "Import the `sqrt` and `pow` functions from the `math` module and use them \n",
    "to calculate the square root of 16 and 2 raised to the power of 3.\n",
    "'''\n",
    "from math import sqrt, pow\n",
    "\n",
    "print(sqrt(16))\n",
    "print(pow(2, 3))"
   ]
  },
  {
   "cell_type": "code",
   "execution_count": 5,
   "id": "2abfe10b",
   "metadata": {},
   "outputs": [
    {
     "name": "stdout",
     "output_type": "stream",
     "text": [
      "Error importing module: No module named 'module1'\n"
     ]
    }
   ],
   "source": [
    "''' \n",
    "Assignment 5: Handling Import Errors\n",
    "Write code that attempts to import a non-existent module and gracefully handles the import error by printing an error message.\n",
    "'''\n",
    "try:\n",
    "    import module1\n",
    "except ImportError as e:\n",
    "    print(f\"Error importing module: {e}\")"
   ]
  },
  {
   "cell_type": "code",
   "execution_count": 9,
   "id": "35712e60",
   "metadata": {},
   "outputs": [
    {
     "name": "stdout",
     "output_type": "stream",
     "text": [
      "['destination.txt', 'example.csv', 'new_directory', 'package', 'packagessolution.zip', 'packagessolution_ref.ipynb', 'packages_assignment.ipynb', 'pythonimport.ipynb', 'source.txt', 'standardlibrarypython.ipynb', 'test.py', 'test_dir']\n",
      "['destination.txt', 'example.csv', 'package', 'packagessolution.zip', 'packagessolution_ref.ipynb', 'packages_assignment.ipynb', 'pythonimport.ipynb', 'source.txt', 'standardlibrarypython.ipynb', 'test.py', 'test_dir']\n"
     ]
    }
   ],
   "source": [
    "'''\n",
    "Assignment 6: Working with the `os` Module\n",
    "Use the `os` module to create a new directory, list the contents of the current directory, and remove the newly created directory.\n",
    "'''\n",
    "import os\n",
    "\n",
    "# Create a new directory\n",
    "os.mkdir('new_directory')\n",
    "\n",
    "# List contents of the current directory\n",
    "print(os.listdir('.'))\n",
    "\n",
    "# Remove the newly created directory\n",
    "os.rmdir('new_directory')\n",
    "print(os.listdir('.'))"
   ]
  },
  {
   "cell_type": "code",
   "execution_count": 10,
   "id": "ec80bb12",
   "metadata": {},
   "outputs": [
    {
     "name": "stdout",
     "output_type": "stream",
     "text": [
      "Python version: 3.12.8 | packaged by Anaconda, Inc. | (main, Dec 11 2024, 16:48:34) [MSC v.1929 64 bit (AMD64)]\n",
      "Command-line arguments: ['d:\\\\_DA+DS\\\\03_Python\\\\complete-python-DS-ML-bootcamp\\\\venv\\\\Lib\\\\site-packages\\\\ipykernel_launcher.py', '--f=c:\\\\Users\\\\pcslg\\\\AppData\\\\Roaming\\\\jupyter\\\\runtime\\\\kernel-v3a29ad7350a819c31648755baccb5823727c6dca2.json']\n"
     ]
    }
   ],
   "source": [
    "'''\n",
    "Assignment 7: Working with the `sys` Module\n",
    "Use the `sys` module to print the Python version currently in use and the command-line arguments passed to the script.\n",
    "'''\n",
    "import sys\n",
    "\n",
    "print(f\"Python version: {sys.version}\")\n",
    "print(f\"Command-line arguments: {sys.argv}\")"
   ]
  },
  {
   "cell_type": "code",
   "execution_count": 16,
   "id": "730a7bc8",
   "metadata": {},
   "outputs": [
    {
     "name": "stdout",
     "output_type": "stream",
     "text": [
      "7\n",
      "720\n"
     ]
    }
   ],
   "source": [
    "''' \n",
    "Assignment 8: Working with the `math` Module\n",
    "Use the `math` module to calculate the greatest common divisor (GCD) of two numbers and the factorial of a number.\n",
    "'''\n",
    "import math\n",
    "\n",
    "print(math.gcd(14, 77))\n",
    "print(math.factorial(6))"
   ]
  },
  {
   "cell_type": "code",
   "execution_count": 22,
   "id": "ca07e819",
   "metadata": {},
   "outputs": [
    {
     "name": "stdout",
     "output_type": "stream",
     "text": [
      "Today's date: 2025-02-04 21:02:27.588444\n",
      "Days after 100 days from today: 2025-05-15 21:02:27.588444\n",
      "Day of the week for 2022-01-01: Tuesday\n"
     ]
    }
   ],
   "source": [
    "'''\n",
    "Assignment 9: Working with the `datetime` Module\n",
    "Use the `datetime` module to print the current date, calculate the date 100 days from today, and determine the day of the week for a given date.\n",
    "'''\n",
    "import datetime as dt\n",
    "\n",
    "today = dt.datetime.now()\n",
    "print(f\"Today's date: {today}\")\n",
    "\n",
    "future_date = today + dt.timedelta(days = 100)\n",
    "print(f\"Days after 100 days from today: {future_date}\")\n",
    "\n",
    "given_date = dt.date(2025, 2, 4)\n",
    "print(f\"Day of the week for 2022-01-01: {given_date.strftime('%A')}\")\n"
   ]
  },
  {
   "cell_type": "code",
   "execution_count": 6,
   "id": "b69a33a9",
   "metadata": {},
   "outputs": [
    {
     "name": "stdout",
     "output_type": "stream",
     "text": [
      "[44, 18, 2, 36, 45]\n",
      "[18, 45, 2, 36, 44]\n"
     ]
    }
   ],
   "source": [
    "'''\n",
    "Assignment 10: Working with the `random` Module\n",
    "Use the `random` module to generate a list of 5 random numbers between 1 and 50 and shuffle the elements of a list.\n",
    "'''\n",
    "import random\n",
    "\n",
    "random_numbers = [random.randint(1, 50) for _ in range(5)]\n",
    "print(random_numbers)\n",
    "\n",
    "random.shuffle(random_numbers)\n",
    "print(random_numbers)"
   ]
  },
  {
   "cell_type": "code",
   "execution_count": 7,
   "id": "4a098c93",
   "metadata": {},
   "outputs": [
    {
     "name": "stdout",
     "output_type": "stream",
     "text": [
      "11\n",
      "30\n"
     ]
    }
   ],
   "source": [
    "''' \n",
    "Assignment 11: Creating a Simple Package\n",
    "Create a package named `newpackage` with two modules: `module1` and `module2`. \n",
    "`module1` should contain a function that adds two numbers, and `module2` should contain a function that multiplies two numbers. \n",
    "Write code to use these functions.\n",
    "'''\n",
    "from Ch08.newpackage.subpackage import module2\n",
    "from newpackage import module1\n",
    "\n",
    "print(module1.addition(5, 6))\n",
    "print(module2.multiplication(5, 6))\n"
   ]
  },
  {
   "cell_type": "code",
   "execution_count": 1,
   "id": "0e5f2d34",
   "metadata": {},
   "outputs": [
    {
     "name": "stdout",
     "output_type": "stream",
     "text": [
      "11\n",
      "30\n"
     ]
    }
   ],
   "source": [
    "''' \n",
    "Assignment 12: Using `__init__.py`\n",
    "Modify the `mypackage` package to include an `__init__.py` file that imports the functions from `module1` and `module2`. \n",
    "Write code to use these functions.\n",
    "'''\n",
    "from newpackage import addition, multiplication\n",
    "\n",
    "print(addition(5, 6))\n",
    "print(multiplication(5, 6))"
   ]
  },
  {
   "cell_type": "code",
   "execution_count": 2,
   "id": "af0cb794",
   "metadata": {},
   "outputs": [
    {
     "name": "stdout",
     "output_type": "stream",
     "text": [
      "11\n",
      "30\n"
     ]
    }
   ],
   "source": [
    "''' \n",
    "Assignment 13: Importing from a Package\n",
    "Write code to import and use the functions from `mypackage` without explicitly importing `module1` and `module2`.\n",
    "'''\n",
    "from newpackage import addition, multiplication\n",
    "\n",
    "print(addition(5, 6))\n",
    "print(multiplication(5, 6))"
   ]
  },
  {
   "cell_type": "code",
   "execution_count": 3,
   "id": "6f6811ba",
   "metadata": {},
   "outputs": [
    {
     "name": "stdout",
     "output_type": "stream",
     "text": [
      "11\n",
      "30\n"
     ]
    }
   ],
   "source": [
    "''' \n",
    "Assignment 14: Relative Imports\n",
    "Create a subpackage named `subpackage` within `mypackage` and move `module2` into `subpackage`. \n",
    "Modify the import statements in `__init__.py` to use relative imports. Write code to use the functions from both modules.\n",
    "'''\n",
    "from newpackage import addition, multiplication\n",
    "\n",
    "print(addition(5, 6))\n",
    "print(multiplication(5, 6))"
   ]
  },
  {
   "cell_type": "code",
   "execution_count": 6,
   "id": "fddd6db5",
   "metadata": {},
   "outputs": [
    {
     "name": "stdout",
     "output_type": "stream",
     "text": [
      "Error importing function: cannot import name 'module3' from 'newpackage' (d:\\_DA+DS\\03_Python\\complete-python-DS-ML-bootcamp\\Ch08\\newpackage\\__init__.py)\n"
     ]
    }
   ],
   "source": [
    "''' \n",
    "Assignment 15: Handling Package Import Errors\n",
    "Write code that attempts to import a non-existent function from `mypackage` and gracefully handles the import error by printing an error message.\n",
    "'''\n",
    "try:\n",
    "    from newpackage import module3\n",
    "except ImportError as e:\n",
    "    print(f\"Error importing function: {e}\")"
   ]
  },
  {
   "cell_type": "code",
   "execution_count": null,
   "id": "40434262",
   "metadata": {},
   "outputs": [],
   "source": []
  }
 ],
 "metadata": {
  "kernelspec": {
   "display_name": "venv",
   "language": "python",
   "name": "python3"
  },
  "language_info": {
   "codemirror_mode": {
    "name": "ipython",
    "version": 3
   },
   "file_extension": ".py",
   "mimetype": "text/x-python",
   "name": "python",
   "nbconvert_exporter": "python",
   "pygments_lexer": "ipython3",
   "version": "3.12.8"
  }
 },
 "nbformat": 4,
 "nbformat_minor": 5
}
