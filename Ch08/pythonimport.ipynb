{
 "cells": [
  {
   "cell_type": "markdown",
   "metadata": {},
   "source": [
    "## Importing Modules in Python: Modules and Packages\n",
    "In Python, modules and packages help organize and reuse code. Here's a comprehensive guide on how to import them."
   ]
  },
  {
   "cell_type": "code",
   "execution_count": 3,
   "metadata": {},
   "outputs": [
    {
     "data": {
      "text/plain": [
       "5.0"
      ]
     },
     "execution_count": 3,
     "metadata": {},
     "output_type": "execute_result"
    }
   ],
   "source": [
    "import math\n",
    "\n",
    "math.sqrt(25)"
   ]
  },
  {
   "cell_type": "code",
   "execution_count": 7,
   "metadata": {},
   "outputs": [
    {
     "name": "stdout",
     "output_type": "stream",
     "text": [
      "0 0.0\n",
      "1 1.0\n",
      "2 1.4142135623730951\n",
      "3 1.7320508075688772\n",
      "4 2.0\n",
      "5 2.23606797749979\n",
      "6 2.449489742783178\n",
      "7 2.6457513110645907\n",
      "8 2.8284271247461903\n",
      "9 3.0\n",
      "10 3.1622776601683795\n",
      "11 3.3166247903554\n",
      "12 3.4641016151377544\n",
      "13 3.605551275463989\n",
      "14 3.7416573867739413\n",
      "15 3.872983346207417\n",
      "16 4.0\n",
      "17 4.123105625617661\n",
      "18 4.242640687119285\n",
      "19 4.358898943540674\n",
      "20 4.47213595499958\n",
      "21 4.58257569495584\n",
      "22 4.69041575982343\n",
      "23 4.795831523312719\n",
      "24 4.898979485566356\n",
      "25 5.0\n"
     ]
    }
   ],
   "source": [
    "from math import sqrt, pi\n",
    "\n",
    "for i in range(26):\n",
    "    print(i, sqrt(i))"
   ]
  },
  {
   "cell_type": "code",
   "execution_count": 9,
   "metadata": {},
   "outputs": [
    {
     "data": {
      "text/plain": [
       "array([1, 2, 3, 4])"
      ]
     },
     "execution_count": 9,
     "metadata": {},
     "output_type": "execute_result"
    }
   ],
   "source": [
    "# using alias\n",
    "import numpy as np\n",
    "\n",
    "np.array([1,2,3,4])"
   ]
  },
  {
   "cell_type": "code",
   "execution_count": 10,
   "metadata": {},
   "outputs": [],
   "source": [
    "from math import *"
   ]
  },
  {
   "cell_type": "code",
   "execution_count": 12,
   "metadata": {},
   "outputs": [
    {
     "name": "stdout",
     "output_type": "stream",
     "text": [
      "9.0\n",
      "720\n"
     ]
    }
   ],
   "source": [
    "print(sqrt(81))\n",
    "print(factorial(6))\n"
   ]
  },
  {
   "cell_type": "code",
   "execution_count": 14,
   "metadata": {},
   "outputs": [
    {
     "data": {
      "text/plain": [
       "6"
      ]
     },
     "execution_count": 14,
     "metadata": {},
     "output_type": "execute_result"
    }
   ],
   "source": [
    "from package.maths import addition\n",
    "addition(2, 4)"
   ]
  },
  {
   "cell_type": "code",
   "execution_count": 6,
   "metadata": {},
   "outputs": [
    {
     "name": "stdout",
     "output_type": "stream",
     "text": [
      "19\n",
      "-5.6\n"
     ]
    }
   ],
   "source": [
    "from package import maths\n",
    "print(maths.addition(15, 4))\n",
    "print(maths.subtraction(10, 15.6))"
   ]
  },
  {
   "cell_type": "code",
   "execution_count": null,
   "metadata": {},
   "outputs": [],
   "source": []
  }
 ],
 "metadata": {
  "kernelspec": {
   "display_name": "venv",
   "language": "python",
   "name": "python3"
  },
  "language_info": {
   "codemirror_mode": {
    "name": "ipython",
    "version": 3
   },
   "file_extension": ".py",
   "mimetype": "text/x-python",
   "name": "python",
   "nbconvert_exporter": "python",
   "pygments_lexer": "ipython3",
   "version": "3.12.8"
  }
 },
 "nbformat": 4,
 "nbformat_minor": 2
}
