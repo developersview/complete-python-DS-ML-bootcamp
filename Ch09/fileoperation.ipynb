{
 "cells": [
  {
   "cell_type": "markdown",
   "metadata": {},
   "source": [
    "## File Operation- Read And Write Files\n",
    "File handling is a crucial part of any programming language. Python provides built-in functions and methods to read from and write to files, both text and binary. This lesson will cover the basics of file handling, including reading and writing text files and binary files."
   ]
  },
  {
   "cell_type": "code",
   "execution_count": 5,
   "metadata": {},
   "outputs": [
    {
     "name": "stdout",
     "output_type": "stream",
     "text": [
      "Hello world\n",
      "How are you?\n",
      "My name is Pranoy\n",
      "I am learning Python\n"
     ]
    }
   ],
   "source": [
    "#read a file\n",
    "\n",
    "with open('example.txt', 'r') as file:\n",
    "    content = file.read()\n",
    "    print(content)"
   ]
  },
  {
   "cell_type": "code",
   "execution_count": 6,
   "metadata": {},
   "outputs": [
    {
     "name": "stdout",
     "output_type": "stream",
     "text": [
      "Hello world\n",
      "\n",
      "How are you?\n",
      "\n",
      "My name is Pranoy\n",
      "\n",
      "I am learning Python\n"
     ]
    }
   ],
   "source": [
    "#read a file line by line\n",
    "with open('example.txt', 'r') as file:\n",
    "    for line in file:\n",
    "        print(line)"
   ]
  },
  {
   "cell_type": "code",
   "execution_count": 7,
   "metadata": {},
   "outputs": [
    {
     "name": "stdout",
     "output_type": "stream",
     "text": [
      "Hello world\n",
      "How are you?\n",
      "My name is Pranoy\n",
      "I am learning Python\n"
     ]
    }
   ],
   "source": [
    "#read a file line by line and remove new line character\n",
    "with open('example.txt', 'r') as file:\n",
    "    for line in file:\n",
    "        print(line.strip())"
   ]
  },
  {
   "cell_type": "code",
   "execution_count": 24,
   "metadata": {},
   "outputs": [],
   "source": [
    "# writing a file(overwriting)\n",
    "with open('example.txt', 'w') as file:\n",
    "    file.write(\"Hello Everyone!\\n\")\n",
    "    file.write(\"How everyone is doing??...\\n\")\n"
   ]
  },
  {
   "cell_type": "code",
   "execution_count": 25,
   "metadata": {},
   "outputs": [],
   "source": [
    "# writing a file (adding to a new line - no overwriting)\n",
    "with open('example.txt', 'a') as file:\n",
    "    file.write(\"Append operation taking place ....!\\n\")\n",
    "    file.write(\"My name is Pranoy\\n\")\n"
   ]
  },
  {
   "cell_type": "code",
   "execution_count": 26,
   "metadata": {},
   "outputs": [],
   "source": [
    "# Writing a list of lines to a file\n",
    "lines = ['---------------------\\n','First Line\\n', 'Second Line\\n', 'Third Line\\n']\n",
    "with open('example.txt', 'a') as file:\n",
    "    file.writelines(lines)"
   ]
  },
  {
   "cell_type": "code",
   "execution_count": 27,
   "metadata": {},
   "outputs": [],
   "source": [
    "#working with binary file\n",
    "data = b'\\x00\\x01\\x02\\x03\\x04'\n",
    "with open('example.bin', 'wb') as file:\n",
    "    file.write(data)"
   ]
  },
  {
   "cell_type": "code",
   "execution_count": 28,
   "metadata": {},
   "outputs": [
    {
     "name": "stdout",
     "output_type": "stream",
     "text": [
      "b'\\x00\\x01\\x02\\x03\\x04'\n"
     ]
    }
   ],
   "source": [
    "#reading a binary file\n",
    "with open('example.bin', 'rb') as file:\n",
    "    content = file.read()\n",
    "    print(content)"
   ]
  },
  {
   "cell_type": "code",
   "execution_count": 29,
   "metadata": {},
   "outputs": [
    {
     "name": "stdout",
     "output_type": "stream",
     "text": [
      "Hello Everyone!\n",
      "How everyone is doing??...\n",
      "Append operation taking place ....!\n",
      "My name is Pranoy\n",
      "---------------------\n",
      "First Line\n",
      "Second Line\n",
      "Third Line\n",
      "\n"
     ]
    }
   ],
   "source": [
    "### Read the content froma  source text fiile and write to a destination text file\n",
    "with open('example.txt', 'r') as source_file:\n",
    "    content = source_file.read()\n",
    "    print(content)\n",
    "\n",
    "with open('destination.txt', 'w') as destination_file:\n",
    "    destination_file.write(content)"
   ]
  },
  {
   "cell_type": "code",
   "execution_count": 32,
   "metadata": {},
   "outputs": [
    {
     "name": "stdout",
     "output_type": "stream",
     "text": [
      "Total number of Lines: 8\n",
      "Total number of Words: 22\n",
      "Total number of Characters: 153\n"
     ]
    }
   ],
   "source": [
    "#Read a text file and count the number of lines, words, and characters.\n",
    "\n",
    "def _count_text_file_(file_path):\n",
    "    with open(file_path, 'r') as file:\n",
    "        lines = file.readlines()\n",
    "        line_count = len(lines)\n",
    "        word_count = sum(len(line.split()) for line in lines)\n",
    "        char_count = sum(len(line) for line in lines)\n",
    "\n",
    "    return line_count, word_count, char_count\n",
    "\n",
    "filepath = 'example.txt'\n",
    "line_count, word_count, char_count = _count_text_file_(file_path = filepath)\n",
    "print(f\"Total number of Lines: {line_count}\\nTotal number of Words: {word_count}\\nTotal number of Characters: {char_count}\")"
   ]
  },
  {
   "cell_type": "code",
   "execution_count": 35,
   "metadata": {},
   "outputs": [
    {
     "name": "stdout",
     "output_type": "stream",
     "text": [
      "Hello all!\n",
      "This is an example of w+ mode\n"
     ]
    }
   ],
   "source": [
    "# Writing and then reading a file\n",
    "\n",
    "with open('example2.txt', 'w+') as file:\n",
    "    file.write(\"Hello all!\")\n",
    "    file.write(\"\\nThis is an example of w+ mode\")\n",
    "\n",
    "    # move the file cursor to the beginning\n",
    "    file.seek(0)\n",
    "\n",
    "    content = file.read()\n",
    "    print(content)"
   ]
  }
 ],
 "metadata": {
  "kernelspec": {
   "display_name": "venv",
   "language": "python",
   "name": "python3"
  },
  "language_info": {
   "codemirror_mode": {
    "name": "ipython",
    "version": 3
   },
   "file_extension": ".py",
   "mimetype": "text/x-python",
   "name": "python",
   "nbconvert_exporter": "python",
   "pygments_lexer": "ipython3",
   "version": "3.12.8"
  }
 },
 "nbformat": 4,
 "nbformat_minor": 2
}
