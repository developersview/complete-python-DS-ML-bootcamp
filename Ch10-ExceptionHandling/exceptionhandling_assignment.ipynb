{
 "cells": [
  {
   "cell_type": "markdown",
   "metadata": {},
   "source": [
    "# Module: Exception Handling Assignments\n",
    "## Lesson: Exception Handling with try, except, and finally\n",
    "### Assignment 1: Handling Division by Zero\n",
    "\n",
    "Write a function that takes two integers as input and returns their division. Use try, except, and finally blocks to handle division by zero and print an appropriate message.\n",
    "\n",
    "### Assignment 2: File Reading with Exception Handling\n",
    "\n",
    "Write a function that reads the contents of a file named `data.txt`. Use try, except, and finally blocks to handle file not found errors and ensure the file is properly closed.\n",
    "\n",
    "### Assignment 3: Handling Multiple Exceptions\n",
    "\n",
    "Write a function that takes a list of integers and returns their sum. Use try, except, and finally blocks to handle TypeError if a non-integer value is encountered and print an appropriate message.\n",
    "\n",
    "### Assignment 4: Exception Handling in User Input\n",
    "\n",
    "Write a function that prompts the user to enter an integer. Use try, except, and finally blocks to handle ValueError if the user enters a non-integer value and print an appropriate message.\n",
    "\n",
    "### Assignment 5: Exception Handling in Dictionary Access\n",
    "\n",
    "Write a function that takes a dictionary and a key as input and returns the value associated with the key. Use try, except, and finally blocks to handle KeyError if the key is not found in the dictionary and print an appropriate message.\n",
    "\n",
    "### Assignment 6: Nested Exception Handling\n",
    "\n",
    "Write a function that performs nested exception handling. It should first attempt to convert a string to an integer, and then attempt to divide by that integer. Use nested try, except, and finally blocks to handle ValueError and ZeroDivisionError and print appropriate messages.\n",
    "\n",
    "### Assignment 7: Exception Handling in List Operations\n",
    "\n",
    "Write a function that takes a list and an index as input and returns the element at the given index. Use try, except, and finally blocks to handle IndexError if the index is out of range and print an appropriate message.\n",
    "\n",
    "### Assignment 8: Exception Handling in Network Operations\n",
    "\n",
    "Write a function that attempts to open a URL and read its contents. Use try, except, and finally blocks to handle network-related errors and print an appropriate message.\n",
    "\n",
    "### Assignment 9: Exception Handling in JSON Parsing\n",
    "\n",
    "Write a function that attempts to parse a JSON string. Use try, except, and finally blocks to handle JSONDecodeError if the string is not a valid JSON and print an appropriate message.\n",
    "\n",
    "### Assignment 10: Custom Exception Handling\n",
    "\n",
    "Define a custom exception named `NegativeNumberError`. Write a function that raises this exception if a negative number is encountered in a list. Use try, except, and finally blocks to handle the custom exception and print an appropriate message.\n",
    "\n",
    "### Assignment 11: Exception Handling in Function Calls\n",
    "\n",
    "Write a function that calls another function which may raise an exception. Use try, except, and finally blocks to handle the exception and print an appropriate message.\n",
    "\n",
    "### Assignment 12: Exception Handling in Class Methods\n",
    "\n",
    "Define a class with a method that performs a division operation. Use try, except, and finally blocks within the method to handle division by zero and print an appropriate message.\n",
    "\n",
    "### Assignment 13: Exception Handling in Data Conversion\n",
    "\n",
    "Write a function that takes a list of strings and converts them to integers. Use try, except, and finally blocks to handle ValueError if a string cannot be converted and print an appropriate message.\n",
    "\n",
    "### Assignment 14: Exception Handling in List Comprehensions\n",
    "\n",
    "Write a function that uses a list comprehension to convert a list of strings to integers. Use try, except, and finally blocks within the list comprehension to handle ValueError and print an appropriate message.\n",
    "\n",
    "### Assignment 15: Exception Handling in File Writing\n",
    "\n",
    "Write a function that attempts to write a list of strings to a file. Use try, except, and finally blocks to handle IOError and ensure the file is properly closed."
   ]
  },
  {
   "cell_type": "code",
   "execution_count": 8,
   "metadata": {},
   "outputs": [
    {
     "name": "stdout",
     "output_type": "stream",
     "text": [
      "Error: division by zero\n",
      "Execution completed\n"
     ]
    }
   ],
   "source": [
    "''' \n",
    "Assignment 1: Handling Division by Zero\n",
    "Write a function that takes two integers as input and returns their division. \n",
    "Use try, except, and finally blocks to handle division by zero and print an appropriate message.\n",
    "'''\n",
    "try:\n",
    "    num1 = int(input(\"Enter 1st number\"))\n",
    "    num2 = int(input(\"Enter 2nd number\"))\n",
    "    result = num1 / num2\n",
    "\n",
    "except ZeroDivisionError as e1:\n",
    "    print(f\"Error: {e1}\")\n",
    "\n",
    "except Exception as e:\n",
    "    print(f\"Error: {e}\")\n",
    "\n",
    "else:\n",
    "    print(f\"Result: {result}\")\n",
    "\n",
    "finally:\n",
    "    print(\"Execution completed\")"
   ]
  },
  {
   "cell_type": "code",
   "execution_count": 20,
   "id": "23e64ab8",
   "metadata": {},
   "outputs": [
    {
     "name": "stdout",
     "output_type": "stream",
     "text": [
      "alflcqlnfl\n",
      "elhwflwef\n",
      "bnelflflelfnc;ln\n",
      "clehcl\n",
      "--------------\n",
      "File closed.\n"
     ]
    }
   ],
   "source": [
    "''' \n",
    "Assignment 2: File Reading with Exception Handling\n",
    "Write a function that reads the contents of a file named `data.txt`.\n",
    "Use try, except, and finally blocks to handle file not found errors and ensure the file is properly closed.\n",
    "'''\n",
    "\n",
    "def file_handling(filename):\n",
    "\n",
    "    try:\n",
    "        file = open(filename, 'r')\n",
    "        content = file.read()\n",
    "        print(content)\n",
    "\n",
    "    except FileNotFoundError as e1:\n",
    "        print(e1)\n",
    "\n",
    "    except Exception as e:\n",
    "        print(e)\n",
    "\n",
    "    finally:\n",
    "        try:\n",
    "            file.close()\n",
    "            print(\"--------------\\nFile closed.\")\n",
    "        except Exception:\n",
    "            pass\n",
    "\n",
    "\n",
    "file_handling('data.txt')\n",
    "        "
   ]
  },
  {
   "cell_type": "code",
   "execution_count": 24,
   "id": "c53e55ea",
   "metadata": {},
   "outputs": [
    {
     "name": "stdout",
     "output_type": "stream",
     "text": [
      "Error: unsupported operand type(s) for +=: 'int' and 'str'\n",
      "Execution completed\n",
      "Result: None\n",
      "Execution completed\n",
      "Result: 15\n"
     ]
    }
   ],
   "source": [
    "''' \n",
    "Assignment 3: Handling Multiple Exceptions\n",
    "Write a function that takes a list of integers and returns their sum. \n",
    "Use try, except, and finally blocks to handle TypeError if a non-integer value is encountered and print an appropriate message.\n",
    "'''\n",
    "def sum_of_integers(list):\n",
    "\n",
    "    total = 0\n",
    "\n",
    "    try:\n",
    "        for item in list:\n",
    "            total += item\n",
    "    \n",
    "    except TypeError as e1:\n",
    "        print(f\"Error: {e1}\")\n",
    "        total = None\n",
    "    \n",
    "    except Exception as e:\n",
    "        print(f\"Error: {e}\")\n",
    "        total = None\n",
    "    \n",
    "    finally:\n",
    "        print(\"Execution completed\")\n",
    "\n",
    "    return total\n",
    "\n",
    "print(f\"Result: {sum_of_integers([1, 2, 3, 4, 'a'])}\")\n",
    "print(f\"Result: {sum_of_integers([1, 2, 3, 4, 5])}\")"
   ]
  },
  {
   "cell_type": "code",
   "execution_count": 27,
   "id": "a8503b41",
   "metadata": {},
   "outputs": [
    {
     "name": "stdout",
     "output_type": "stream",
     "text": [
      "Error: invalid literal for int() with base 10: 'csdcsw'\n",
      "Execution completed\n",
      "Entered number is: None\n"
     ]
    }
   ],
   "source": [
    "''' \n",
    "Assignment 4: Exception Handling in User Input\n",
    "Write a function that prompts the user to enter an integer. \n",
    "Use try, except, and finally blocks to handle ValueError if the user enters a non-integer value and print an appropriate message.\n",
    "'''\n",
    "def get_integer():\n",
    "\n",
    "    try:\n",
    "        num = int(input(\"Enter a number\"))\n",
    "    \n",
    "    except ValueError as e1:\n",
    "        print(f\"Error: {e1}\")\n",
    "        num = None\n",
    "    \n",
    "    except Exception as e:\n",
    "        print(e)\n",
    "        num = None\n",
    "    \n",
    "    finally:\n",
    "        print(\"Execution completed\")\n",
    "\n",
    "    return num\n",
    "\n",
    "print(f\"Entered number is: {get_integer()}\")\n"
   ]
  },
  {
   "cell_type": "code",
   "execution_count": null,
   "id": "85482144",
   "metadata": {},
   "outputs": [
    {
     "name": "stdout",
     "output_type": "stream",
     "text": [
      "Error - Invalid key: 'x'\n",
      "Execution completed\n",
      "None\n",
      "Error - Invalid key: 5\n",
      "Execution completed\n",
      "None\n",
      "Execution completed\n",
      "2\n"
     ]
    }
   ],
   "source": [
    "''' \n",
    "Assignment 5: Exception Handling in Dictionary Access\n",
    "Write a function that takes a dictionary and a key as input and returns the value associated with the key. \n",
    "Use try, except, and finally blocks to handle KeyError if the key is not found in the dictionary and print an appropriate message.\n",
    "'''\n",
    "def get_key(d, key):\n",
    "\n",
    "    try:\n",
    "        value = d[key]\n",
    "    except KeyError as e1:\n",
    "        print(f\"Error - Invalid key: {e1}\")\n",
    "        value = None\n",
    "    except Exception as e:\n",
    "        print(e)\n",
    "        value = None\n",
    "    finally:\n",
    "        print(\"Execution completed\")\n",
    "    return value\n",
    "\n",
    "d = {'a': 1, 'b': 2, 'c': 3, 'd': 4}\n",
    "print(get_key(d, 'x'))\n",
    "print(get_key(d, 5))\n",
    "print(get_key(d, 'b'))"
   ]
  },
  {
   "cell_type": "code",
   "execution_count": 2,
   "id": "ec25bb88",
   "metadata": {},
   "outputs": [
    {
     "name": "stdout",
     "output_type": "stream",
     "text": [
      "Conversion attempt complete.\n",
      "Division error: division by zero\n",
      "Division attempt complete.\n",
      "Overall execution complete.\n",
      "None\n",
      "\n",
      "Conversion error: invalid literal for int() with base 10: 'a'\n",
      "Conversion attempt complete.\n",
      "Overall execution complete.\n",
      "None\n",
      "\n",
      "Conversion attempt complete.\n",
      "Division attempt complete.\n",
      "Overall execution complete.\n",
      "5.0\n"
     ]
    }
   ],
   "source": [
    "''' \n",
    "Assignment 6: Nested Exception Handling\n",
    "Write a function that performs nested exception handling. \n",
    "It should first attempt to convert a string to an integer, and then attempt to divide by that integer. \n",
    "Use nested try, except, and finally blocks to handle ValueError and ZeroDivisionError and print appropriate messages.\n",
    "'''\n",
    "import time\n",
    "def nested_exception_handling(s):\n",
    "    try:\n",
    "        try:\n",
    "            num = int(s)\n",
    "        except ValueError as e:\n",
    "            print(f\"Conversion error: {e}\")\n",
    "            num = None\n",
    "        finally:\n",
    "            print(\"Conversion attempt complete.\")\n",
    "        if num is not None:\n",
    "            try:\n",
    "                result = 10 / num\n",
    "            except ZeroDivisionError as e:\n",
    "                print(f\"Division error: {e}\")\n",
    "                result = None\n",
    "            finally:\n",
    "                print(\"Division attempt complete.\")\n",
    "            return result\n",
    "    finally:\n",
    "        print(\"Overall execution complete.\")\n",
    "\n",
    "\n",
    "print(nested_exception_handling('0'))\n",
    "time.sleep(2)\n",
    "print()\n",
    "print(nested_exception_handling('a'))\n",
    "time.sleep(2)\n",
    "print()\n",
    "print(nested_exception_handling('2'))"
   ]
  },
  {
   "cell_type": "code",
   "execution_count": 3,
   "id": "f7a6167a",
   "metadata": {},
   "outputs": [
    {
     "name": "stdout",
     "output_type": "stream",
     "text": [
      "Execution complete.\n",
      "3\n",
      "Error: list index out of range\n",
      "Execution complete.\n",
      "None\n"
     ]
    }
   ],
   "source": [
    "''' \n",
    "Assignment 7: Exception Handling in List Operations\n",
    "Write a function that takes a list and an index as input and returns the element at the given index. \n",
    "Use try, except, and finally blocks to handle IndexError if the index is out of range and print an appropriate message.\n",
    "'''\n",
    "def get_list_element(lst, index):\n",
    "    try:\n",
    "        element = lst[index]\n",
    "    except IndexError as e:\n",
    "        print(f\"Error: {e}\")\n",
    "        element = None\n",
    "    finally:\n",
    "        print(\"Execution complete.\")\n",
    "    return element\n",
    "\n",
    "\n",
    "lst = [1, 2, 3, 4, 5]\n",
    "print(get_list_element(lst, 2))\n",
    "print(get_list_element(lst, 10))"
   ]
  },
  {
   "cell_type": "code",
   "execution_count": 14,
   "id": "45de47fd",
   "metadata": {},
   "outputs": [
    {
     "name": "stdout",
     "output_type": "stream",
     "text": [
      "Execution completed\n",
      "{\n",
      "  \"userId\": 1,\n",
      "  \"id\": 1,\n",
      "  \"title\": \"sunt aut facere repellat provident occaecati excepturi optio reprehenderit\",\n",
      "  \"body\": \"quia et suscipit\\nsuscipit recusandae consequuntur expedita et cum\\nreprehenderit molestiae ut ut quas totam\\nnostrum rerum est autem sunt rem eveniet architecto\"\n",
      "}\n",
      "\n",
      "404 Client Error: Not Found for url: https://jsonplaceholder.typicode.com/post\n",
      "Execution completed\n",
      "None\n",
      "\n",
      "HTTPSConnectionPool(host='jsonplaceho', port=443): Max retries exceeded with url: / (Caused by NameResolutionError(\"<urllib3.connection.HTTPSConnection object at 0x0000028115F79D30>: Failed to resolve 'jsonplaceho' ([Errno 11001] getaddrinfo failed)\"))\n",
      "Execution completed\n",
      "None\n",
      "\n",
      "HTTPSConnectionPool(host='nonexistent.url', port=443): Max retries exceeded with url: / (Caused by NameResolutionError(\"<urllib3.connection.HTTPSConnection object at 0x0000028115F79EB0>: Failed to resolve 'nonexistent.url' ([Errno 11001] getaddrinfo failed)\"))\n",
      "Execution completed\n",
      "None\n"
     ]
    }
   ],
   "source": [
    "''' \n",
    "Assignment 8: Exception Handling in Network Operations\n",
    "Write a function that attempts to open a URL and read its contents. \n",
    "Use try, except, and finally blocks to handle network-related errors and print an appropriate message.\n",
    "'''\n",
    "import requests\n",
    "\n",
    "def read_url(uri):\n",
    "    try:\n",
    "        respone = requests.get(uri)\n",
    "        respone.raise_for_status()\n",
    "        return respone.text\n",
    "    except requests.RequestException as e:\n",
    "        print(e)\n",
    "        return None\n",
    "    finally:\n",
    "        print(\"Execution completed\")\n",
    "\n",
    "print(read_url('https://jsonplaceholder.typicode.com/posts/1'))\n",
    "print()\n",
    "print(read_url('https://jsonplaceholder.typicode.com/post'))\n",
    "print()\n",
    "print(read_url('https://jsonplaceho'))\n",
    "print()\n",
    "print(read_url('https://nonexistent.url'))\n"
   ]
  },
  {
   "cell_type": "code",
   "execution_count": 15,
   "id": "4fb15d52",
   "metadata": {},
   "outputs": [
    {
     "name": "stdout",
     "output_type": "stream",
     "text": [
      "Execution completed\n",
      "{'name': 'John', 'age': 30}\n",
      "Expecting value: line 1 column 1 (char 0)\n",
      "Execution completed\n",
      "None\n"
     ]
    }
   ],
   "source": [
    "''' \n",
    "Assignment 9: Exception Handling in JSON Parsing\n",
    "Write a function that attempts to parse a JSON string. \n",
    "Use try, except, and finally blocks to handle JSONDecodeError if the string is not a valid JSON and print an appropriate message.\n",
    "'''\n",
    "import json\n",
    "\n",
    "def parse_json(json_string):\n",
    "    try:\n",
    "        data = json.loads(json_string)\n",
    "        return data\n",
    "    except json.JSONDecodeError as e:\n",
    "        print(e)\n",
    "        return None\n",
    "    finally:\n",
    "        print(\"Execution completed\")\n",
    "\n",
    "print(parse_json('{\"name\": \"John\", \"age\": 30}'))\n",
    "print(parse_json('Invalid JSON'))\n"
   ]
  },
  {
   "cell_type": "code",
   "execution_count": 17,
   "id": "9ed05d04",
   "metadata": {},
   "outputs": [
    {
     "name": "stdout",
     "output_type": "stream",
     "text": [
      "Execution completed\n",
      "Execution completed\n"
     ]
    },
    {
     "ename": "NegativeNumberError",
     "evalue": "Negative number found: -4",
     "output_type": "error",
     "traceback": [
      "\u001b[1;31m---------------------------------------------------------------------------\u001b[0m",
      "\u001b[1;31mNegativeNumberError\u001b[0m                       Traceback (most recent call last)",
      "Cell \u001b[1;32mIn[17], line 21\u001b[0m\n\u001b[0;32m     18\u001b[0m         \u001b[38;5;28mprint\u001b[39m(\u001b[38;5;124m\"\u001b[39m\u001b[38;5;124mExecution completed\u001b[39m\u001b[38;5;124m\"\u001b[39m)\n\u001b[0;32m     20\u001b[0m check_for_negative([\u001b[38;5;241m1\u001b[39m, \u001b[38;5;241m2\u001b[39m, \u001b[38;5;241m3\u001b[39m, \u001b[38;5;241m4\u001b[39m])\n\u001b[1;32m---> 21\u001b[0m \u001b[43mcheck_for_negative\u001b[49m\u001b[43m(\u001b[49m\u001b[43m[\u001b[49m\u001b[38;5;241;43m1\u001b[39;49m\u001b[43m,\u001b[49m\u001b[43m \u001b[49m\u001b[38;5;241;43m2\u001b[39;49m\u001b[43m,\u001b[49m\u001b[43m \u001b[49m\u001b[38;5;241;43m3\u001b[39;49m\u001b[43m,\u001b[49m\u001b[43m \u001b[49m\u001b[38;5;241;43m-\u001b[39;49m\u001b[38;5;241;43m4\u001b[39;49m\u001b[43m,\u001b[49m\u001b[43m \u001b[49m\u001b[38;5;241;43m5\u001b[39;49m\u001b[43m]\u001b[49m\u001b[43m)\u001b[49m\n",
      "Cell \u001b[1;32mIn[17], line 14\u001b[0m, in \u001b[0;36mcheck_for_negative\u001b[1;34m(lst)\u001b[0m\n\u001b[0;32m     12\u001b[0m     \u001b[38;5;28;01mfor\u001b[39;00m num \u001b[38;5;129;01min\u001b[39;00m lst:\n\u001b[0;32m     13\u001b[0m         \u001b[38;5;28;01mif\u001b[39;00m num \u001b[38;5;241m<\u001b[39m \u001b[38;5;241m0\u001b[39m:\n\u001b[1;32m---> 14\u001b[0m             \u001b[38;5;28;01mraise\u001b[39;00m NegativeNumberError(\u001b[38;5;124mf\u001b[39m\u001b[38;5;124m\"\u001b[39m\u001b[38;5;124mNegative number found: \u001b[39m\u001b[38;5;132;01m{\u001b[39;00mnum\u001b[38;5;132;01m}\u001b[39;00m\u001b[38;5;124m\"\u001b[39m)\n\u001b[0;32m     15\u001b[0m \u001b[38;5;66;03m#except NegativeNumberError as e:\u001b[39;00m\n\u001b[0;32m     16\u001b[0m     \u001b[38;5;66;03m#print(f\"Error: {e}\")\u001b[39;00m\n\u001b[0;32m     17\u001b[0m \u001b[38;5;28;01mfinally\u001b[39;00m:\n\u001b[0;32m     18\u001b[0m     \u001b[38;5;28mprint\u001b[39m(\u001b[38;5;124m\"\u001b[39m\u001b[38;5;124mExecution completed\u001b[39m\u001b[38;5;124m\"\u001b[39m)\n",
      "\u001b[1;31mNegativeNumberError\u001b[0m: Negative number found: -4"
     ]
    }
   ],
   "source": [
    "''' \n",
    "Assignment 10: Custom Exception Handling\n",
    "Define a custom exception named `NegativeNumberError`. \n",
    "Write a function that raises this exception if a negative number is encountered in a list. \n",
    "Use try, except, and finally blocks to handle the custom exception and print an appropriate message.\n",
    "'''\n",
    "class NegativeNumberError(Exception):\n",
    "    pass\n",
    "\n",
    "def check_for_negative(lst):\n",
    "    try:\n",
    "        for num in lst:\n",
    "            if num < 0:\n",
    "                raise NegativeNumberError(f\"Negative number found: {num}\")\n",
    "    #except NegativeNumberError as e:\n",
    "        #print(f\"Error: {e}\")\n",
    "    finally:\n",
    "        print(\"Execution completed\")\n",
    "\n",
    "check_for_negative([1, 2, 3, 4])\n",
    "check_for_negative([1, 2, 3, -4, 5])"
   ]
  },
  {
   "cell_type": "code",
   "execution_count": 18,
   "id": "ddcc08b4",
   "metadata": {},
   "outputs": [
    {
     "name": "stdout",
     "output_type": "stream",
     "text": [
      "Error: An error occurred in risky_function.\n",
      "Execution complete.\n"
     ]
    }
   ],
   "source": [
    "''' \n",
    "Assignment 11: Exception Handling in Function Calls\n",
    "Write a function that calls another function which may raise an exception. Use try, except, and finally blocks to handle the exception and print an appropriate message.\n",
    "'''\n",
    "def risky_function():\n",
    "    raise ValueError(\"An error occurred in risky_function.\")\n",
    "\n",
    "def safe_function():\n",
    "    try:\n",
    "        risky_function()\n",
    "    except ValueError as e:\n",
    "        print(f\"Error: {e}\")\n",
    "    finally:\n",
    "        print(\"Execution complete.\")\n",
    "\n",
    "safe_function()"
   ]
  },
  {
   "cell_type": "code",
   "execution_count": 19,
   "id": "3937be62",
   "metadata": {},
   "outputs": [
    {
     "name": "stdout",
     "output_type": "stream",
     "text": [
      "Execution completed\n",
      "5.0\n",
      "Error: division by zero\n",
      "Execution completed\n",
      "None\n"
     ]
    }
   ],
   "source": [
    "''' \n",
    "Assignment 12: Exception Handling in Class Methods\n",
    "Define a class with a method that performs a division operation. Use try, except, and finally blocks within the method to handle division by zero and print an appropriate message.\n",
    "'''\n",
    "class Calculator:\n",
    "    def divide(self, a, b):\n",
    "        try:\n",
    "            result = a / b\n",
    "        except ZeroDivisionError as e:\n",
    "            print(f\"Error: {e}\")\n",
    "            result = None\n",
    "        finally:\n",
    "            print(\"Execution completed\")\n",
    "        return result\n",
    "    \n",
    "calc = Calculator()\n",
    "print(calc.divide(100, 20))\n",
    "print(calc.divide(25, 0))"
   ]
  },
  {
   "cell_type": "code",
   "execution_count": 20,
   "id": "6ead5433",
   "metadata": {},
   "outputs": [
    {
     "name": "stdout",
     "output_type": "stream",
     "text": [
      "Error: invalid literal for int() with base 10: 'three'\n",
      "Execution complete.\n",
      "None\n",
      "Execution complete.\n",
      "[1, 2, 3, 4]\n"
     ]
    }
   ],
   "source": [
    "''' \n",
    "Assignment 13: Exception Handling in Data Conversion\n",
    "Write a function that takes a list of strings and converts them to integers. Use try, except, and finally blocks to handle ValueError if a string cannot be converted and print an appropriate message.\n",
    "'''\n",
    "def convert_to_integers(lst):\n",
    "    integers = []\n",
    "    try:\n",
    "        for item in lst:\n",
    "            integers.append(int(item))\n",
    "    except ValueError as e:\n",
    "        print(f\"Error: {e}\")\n",
    "        integers = None\n",
    "    finally:\n",
    "        print(\"Execution complete.\")\n",
    "    return integers\n",
    "\n",
    "\n",
    "print(convert_to_integers(['1', '2', 'three', '4']))  # None\n",
    "print(convert_to_integers(['1', '2', '3', '4']))  # [1, 2, 3, 4]\n"
   ]
  },
  {
   "cell_type": "code",
   "execution_count": 21,
   "id": "24b32a60",
   "metadata": {},
   "outputs": [
    {
     "name": "stdout",
     "output_type": "stream",
     "text": [
      "Error: invalid literal for int() with base 10: 'three'\n",
      "Execution complete.\n",
      "None\n",
      "Execution complete.\n",
      "[1, 2, 3, 4]\n"
     ]
    }
   ],
   "source": [
    "''' \n",
    "Assignment 14: Exception Handling in List Comprehensions\n",
    "Write a function that uses a list comprehension to convert a list of strings to integers. Use try, except, and finally blocks within the list comprehension to handle ValueError and print an appropriate message.\n",
    "'''\n",
    "def convert_with_comprehension(lst):\n",
    "    try:\n",
    "        integers = [int(item) for item in lst]\n",
    "    except ValueError as e:\n",
    "        print(f\"Error: {e}\")\n",
    "        integers = None\n",
    "    finally:\n",
    "        print(\"Execution complete.\")\n",
    "    return integers\n",
    "\n",
    "\n",
    "print(convert_with_comprehension(['1', '2', 'three', '4']))\n",
    "print(convert_with_comprehension(['1', '2', '3', '4']))"
   ]
  },
  {
   "cell_type": "code",
   "execution_count": 24,
   "id": "c06fff8d",
   "metadata": {},
   "outputs": [
    {
     "name": "stdout",
     "output_type": "stream",
     "text": [
      "Error: [Errno 22] Invalid argument: 'output??.txt'\n"
     ]
    }
   ],
   "source": [
    "''' \n",
    "Assignment 15: Exception Handling in File Writing\n",
    "Write a function that attempts to write a list of strings to a file. Use try, except, and finally blocks to handle IOError and ensure the file is properly closed.\n",
    "'''\n",
    "def write_strings_to_file(strings, filename):\n",
    "    try:\n",
    "        file = open(filename, 'w')\n",
    "        for string in strings:\n",
    "            file.write(string + '\\n')\n",
    "    except IOError as e:\n",
    "        print(f\"Error: {e}\")\n",
    "    finally:\n",
    "        try:\n",
    "            file.close()\n",
    "        except NameError:\n",
    "            pass\n",
    "\n",
    "\n",
    "write_strings_to_file(['Hello', 'World'], 'output.txt')\n",
    "write_strings_to_file(['Hello', 'World'], 'output??.txt')"
   ]
  }
 ],
 "metadata": {
  "kernelspec": {
   "display_name": "Python 3",
   "language": "python",
   "name": "python3"
  },
  "language_info": {
   "codemirror_mode": {
    "name": "ipython",
    "version": 3
   },
   "file_extension": ".py",
   "mimetype": "text/x-python",
   "name": "python",
   "nbconvert_exporter": "python",
   "pygments_lexer": "ipython3",
   "version": "3.12.8"
  }
 },
 "nbformat": 4,
 "nbformat_minor": 5
}
