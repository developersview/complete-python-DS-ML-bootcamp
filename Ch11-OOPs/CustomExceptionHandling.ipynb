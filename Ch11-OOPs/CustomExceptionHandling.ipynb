{
 "cells": [
  {
   "cell_type": "markdown",
   "id": "7c7e5e70",
   "metadata": {},
   "source": [
    "### Custom Exception Handling - Raise and Throw an Exception"
   ]
  },
  {
   "cell_type": "code",
   "execution_count": 4,
   "id": "b342e757",
   "metadata": {},
   "outputs": [],
   "source": [
    "class Error(Exception):\n",
    "    pass\n",
    "\n",
    "class DateOfBirthException(Error):\n",
    "    pass"
   ]
  },
  {
   "cell_type": "code",
   "execution_count": 9,
   "id": "644323e9",
   "metadata": {},
   "outputs": [
    {
     "name": "stdout",
     "output_type": "stream",
     "text": [
      "Sorry, your date of birth should be between 20 and 30!\n"
     ]
    }
   ],
   "source": [
    "year = int(input(\"Enter date of birth: \"))\n",
    "age =  2024 - year\n",
    "\n",
    "try:\n",
    "    if age <= 30 and age >= 20:\n",
    "        print(\"The age is valid, you can apply for the exam\")\n",
    "    else:\n",
    "        raise DateOfBirthException\n",
    "except DateOfBirthException:\n",
    "    print(\"Sorry, your date of birth should be between 20 and 30!\")"
   ]
  }
 ],
 "metadata": {
  "kernelspec": {
   "display_name": "Python 3",
   "language": "python",
   "name": "python3"
  },
  "language_info": {
   "codemirror_mode": {
    "name": "ipython",
    "version": 3
   },
   "file_extension": ".py",
   "mimetype": "text/x-python",
   "name": "python",
   "nbconvert_exporter": "python",
   "pygments_lexer": "ipython3",
   "version": "3.12.8"
  }
 },
 "nbformat": 4,
 "nbformat_minor": 5
}
