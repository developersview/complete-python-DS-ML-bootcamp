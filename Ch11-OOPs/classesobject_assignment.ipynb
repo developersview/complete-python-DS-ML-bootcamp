{
 "cells": [
  {
   "cell_type": "markdown",
   "metadata": {},
   "source": [
    "# Module: Classes and Objects Assignments\n",
    "## Lesson: Creating and Working with Classes and Objects\n",
    "### Assignment 1: Basic Class and Object Creation\n",
    "\n",
    "Create a class named `Car` with attributes `make`, `model`, and `year`. Create an object of the class and print its attributes.\n",
    "\n",
    "### Assignment 2: Methods in Class\n",
    "\n",
    "Add a method named `start_engine` to the `Car` class that prints a message when the engine starts. Create an object of the class and call the method.\n",
    "\n",
    "### Assignment 3: Class with Constructor\n",
    "\n",
    "Create a class named `Student` with attributes `name` and `age`. Use a constructor to initialize these attributes. Create an object of the class and print its attributes.\n",
    "\n",
    "### Assignment 4: Class with Private Attributes\n",
    "\n",
    "Create a class named `BankAccount` with private attributes `account_number` and `balance`. Add methods to deposit and withdraw money, and to check the balance. Create an object of the class and perform some operations.\n",
    "\n",
    "### Assignment 5: Class Inheritance\n",
    "\n",
    "Create a base class named `Person` with attributes `name` and `age`. Create a derived class named `Employee` that inherits from `Person` and adds an attribute `employee_id`. Create an object of the derived class and print its attributes.\n",
    "\n",
    "### Assignment 6: Method Overriding\n",
    "\n",
    "In the `Employee` class, override the `__str__` method to return a string representation of the object. Create an object of the class and print it.\n",
    "\n",
    "### Assignment 7: Class Composition\n",
    "\n",
    "Create a class named `Address` with attributes `street`, `city`, and `zipcode`. Create a class named `Person` that has an `Address` object as an attribute. Create an object of the `Person` class and print its address.\n",
    "\n",
    "### Assignment 8: Class with Class Variables\n",
    "\n",
    "Create a class named `Counter` with a class variable `count`. Each time an object is created, increment the count. Add a method to get the current count. Create multiple objects and print the count.\n",
    "\n",
    "### Assignment 9: Static Methods\n",
    "\n",
    "Create a class named `MathOperations` with a static method to calculate the square root of a number. Call the static method without creating an object.\n",
    "\n",
    "### Assignment 10: Class with Properties\n",
    "\n",
    "Create a class named `Rectangle` with private attributes `length` and `width`. Use properties to get and set these attributes. Create an object of the class and test the properties.\n",
    "\n",
    "### Assignment 11: Abstract Base Class\n",
    "\n",
    "Create an abstract base class named `Shape` with an abstract method `area`. Create derived classes `Circle` and `Square` that implement the `area` method. Create objects of the derived classes and call the `area` method.\n",
    "\n",
    "### Assignment 12: Operator Overloading\n",
    "\n",
    "Create a class named `Vector` with attributes `x` and `y`. Overload the `+` operator to add two `Vector` objects. Create objects of the class and test the operator overloading.\n",
    "\n",
    "### Assignment 13: Class with Custom Exception\n",
    "\n",
    "Create a custom exception named `InsufficientBalanceError`. In the `BankAccount` class, raise this exception when a withdrawal amount is greater than the balance. Handle the exception and print an appropriate message.\n",
    "\n",
    "### Assignment 14: Class with Context Manager\n",
    "\n",
    "Create a class named `FileManager` that implements the context manager protocol to open and close a file. Use this class to read the contents of a file.\n",
    "\n",
    "### Assignment 15: Chaining Methods\n",
    "\n",
    "Create a class named `Calculator` with methods to add, subtract, multiply, and divide. Each method should return the object itself to allow method chaining. Create an object and chain multiple method calls."
   ]
  },
  {
   "cell_type": "code",
   "execution_count": 1,
   "id": "93499a7b",
   "metadata": {},
   "outputs": [
    {
     "name": "stdout",
     "output_type": "stream",
     "text": [
      "Hundai H6480 1998\n"
     ]
    }
   ],
   "source": [
    "''' \n",
    "Assignment 1: Basic Class and Object Creation\n",
    "Create a class named `Car` with attributes `make`, `model`, and `year`. Create an object of the class and print its attributes.\n",
    "'''\n",
    "class Car:\n",
    "    def __init__(self, make, model, year):\n",
    "        self.make = make\n",
    "        self.model = model\n",
    "        self.year = year\n",
    "\n",
    "car1 = Car('Hundai', 'H6480', 1998)\n",
    "print(car1.make, car1.model, car1.year)"
   ]
  },
  {
   "cell_type": "code",
   "execution_count": 2,
   "id": "18f794bc",
   "metadata": {},
   "outputs": [
    {
     "name": "stdout",
     "output_type": "stream",
     "text": [
      "Hundai's engine has started!\n"
     ]
    }
   ],
   "source": [
    "''' \n",
    "Assignment 2: Methods in Class\n",
    "Add a method named `start_engine` to the `Car` class that prints a message when the engine starts. \n",
    "Create an object of the class and call the method.\n",
    "'''\n",
    "class Car:\n",
    "    def __init__(self, make, model, year):\n",
    "        self.make = make\n",
    "        self.model = model\n",
    "        self.year = year\n",
    "\n",
    "    def start_engine(self):\n",
    "        print(f\"{self.make}'s engine has started!\")\n",
    "\n",
    "car1 = Car('Hundai', 'H6480', 1998)\n",
    "car1.start_engine()"
   ]
  },
  {
   "cell_type": "code",
   "execution_count": 3,
   "id": "97badae2",
   "metadata": {},
   "outputs": [
    {
     "name": "stdout",
     "output_type": "stream",
     "text": [
      "Student name: Peter\n",
      "Student age: 20\n"
     ]
    }
   ],
   "source": [
    "''' \n",
    "Assignment 3: Class with Constructor\n",
    "Create a class named `Student` with attributes `name` and `age`. \n",
    "Use a constructor to initialize these attributes. Create an object of the class and print its attributes.\n",
    "'''\n",
    "class Student:\n",
    "    def __init__(self, name, age):\n",
    "        self.name = name\n",
    "        self.age = age\n",
    "\n",
    "    def get_student_details(self):\n",
    "        print(f\"Student name: {self.name}\\nStudent age: {self.age}\")\n",
    "\n",
    "student1 = Student('Peter', 20)\n",
    "student1.get_student_details()\n"
   ]
  },
  {
   "cell_type": "code",
   "execution_count": 5,
   "id": "a62ac3bd",
   "metadata": {},
   "outputs": [
    {
     "name": "stdout",
     "output_type": "stream",
     "text": [
      "Balance for Account '59212645916623' is: 150000\n",
      "\n",
      "Insufficient balance!\n",
      "\n",
      "20000 has been credited. New balance is: 170000\n",
      "\n",
      "125000 has been debited. New balance is: 45000\n"
     ]
    }
   ],
   "source": [
    "''' Assignment 4: Class with Private Attributes\n",
    "Create a class named `BankAccount` with private attributes `account_number` and `balance`. \n",
    "Add methods to deposit and withdraw money, and to check the balance. Create an object of the class and perform some operations.\n",
    "'''\n",
    "class BankAccount:\n",
    "    def __init__(self, account_number, balance):\n",
    "        self.__account_number = account_number\n",
    "        self.__balance = balance\n",
    "\n",
    "    def deposit(self, amount):\n",
    "        self.__balance += amount\n",
    "        print(f\"{amount} has been credited. New balance is: {self.__balance}\")\n",
    "\n",
    "    def withdraw(self, amount):\n",
    "        if self.__balance < amount:\n",
    "            print(\"Insufficient balance!\")\n",
    "        else:\n",
    "            self.__balance -= amount\n",
    "            print(f\"{amount} has been debited. New balance is: {self.__balance}\")\n",
    "    \n",
    "    def check_balance(self):\n",
    "        print(f\"Balance for Account '{self.__account_number}' is: {self.__balance}\")\n",
    "\n",
    "\n",
    "account1 = BankAccount('59212645916623', 150000)\n",
    "account1.check_balance()\n",
    "print()\n",
    "\n",
    "account1.withdraw(1600000)\n",
    "print()\n",
    "\n",
    "account1.deposit(20000)\n",
    "print()\n",
    "\n",
    "account1.withdraw(125000)"
   ]
  },
  {
   "cell_type": "code",
   "execution_count": 1,
   "id": "991fb245",
   "metadata": {},
   "outputs": [
    {
     "name": "stdout",
     "output_type": "stream",
     "text": [
      "Pranoy 26 430173\n"
     ]
    }
   ],
   "source": [
    "''' \n",
    "Assignment 5: Class Inheritance\n",
    "Create a base class named `Person` with attributes `name` and `age`. Create a derived class named `Employee` that inherits from `Person` and adds an attribute `employee_id`. \n",
    "Create an object of the derived class and print its attributes.\n",
    "'''\n",
    "class Person:\n",
    "    def __init__(self, name, age):\n",
    "        self.name = name\n",
    "        self.age = age\n",
    "\n",
    "class Employee(Person):\n",
    "    def __init__(self, name, age, employee_id):\n",
    "        super().__init__(name, age)\n",
    "        self.employee_id = employee_id\n",
    "\n",
    "employee = Employee('Pranoy', 26, '430173')\n",
    "print(employee.name, employee.age, employee.employee_id)\n"
   ]
  },
  {
   "cell_type": "code",
   "execution_count": 4,
   "id": "c2a7a6e4",
   "metadata": {},
   "outputs": [
    {
     "name": "stdout",
     "output_type": "stream",
     "text": [
      "Employee ID: 430173\n",
      "Employee Name: Pranoy Chakraborty\n",
      "Employee Age: 26\n"
     ]
    }
   ],
   "source": [
    "''' \n",
    "Assignment 6: Method Overriding\n",
    "In the `Employee` class, override the `__str__` method to return a string representation of the object. \n",
    "Create an object of the class and print it.\n",
    "'''\n",
    "class Employee(Person):\n",
    "    def __init__(self, name, age, employee_id):\n",
    "        super().__init__(name, age)\n",
    "        self.employee_id = employee_id\n",
    "\n",
    "    def __str__(self):\n",
    "        return f\"Employee ID: {self.employee_id}\\nEmployee Name: {self.name}\\nEmployee Age: {self.age}\"\n",
    "    \n",
    "employee = Employee('Pranoy Chakraborty', 26, '430173')\n",
    "print(employee)"
   ]
  },
  {
   "cell_type": "code",
   "execution_count": 8,
   "id": "8d94290d",
   "metadata": {},
   "outputs": [
    {
     "name": "stdout",
     "output_type": "stream",
     "text": [
      "Name: Pranoy Chakraborty\n",
      "Age: 26\n",
      "Address: Road No 07, Siliguri - 734003\n"
     ]
    }
   ],
   "source": [
    "''' \n",
    "Assignment 7: Class Composition\n",
    "Create a class named `Address` with attributes `street`, `city`, and `zipcode`. \n",
    "Create a class named `Person` that has an `Address` object as an attribute. \n",
    "Create an object of the `Person` class and print its address.\n",
    "'''\n",
    "class Address:\n",
    "    def __init__(self, street, city, zipcode):\n",
    "        self.street = street\n",
    "        self.city = city\n",
    "        self.zipcode = zipcode\n",
    "\n",
    "class Person:\n",
    "    def __init__(self, name, age, address):\n",
    "        self.name = name\n",
    "        self.age = age\n",
    "        self.address = address\n",
    "    \n",
    "    def __str__(self):\n",
    "        return f\"Name: {self.name}\\nAge: {self.age}\\nAddress: {self.address.street}, {self.address.city} - {self.address.zipcode}\"\n",
    "\n",
    "address = Address('Road No 07', 'Siliguri', '734003')\n",
    "person1 = Person('Pranoy Chakraborty', 26, address)\n",
    "print(person1)"
   ]
  },
  {
   "cell_type": "code",
   "execution_count": 11,
   "id": "bfa66867",
   "metadata": {},
   "outputs": [
    {
     "name": "stdout",
     "output_type": "stream",
     "text": [
      "3\n"
     ]
    }
   ],
   "source": [
    "''' \n",
    "Assignment 8: Class with Class Variables\n",
    "Create a class named `Counter` with a class variable `count`. Each time an object is created, increment the count. \n",
    "Add a method to get the current count. Create multiple objects and print the count.\n",
    "'''\n",
    "class Counter:\n",
    "    count = 0\n",
    "\n",
    "    def __init__(self):\n",
    "        Counter.count += 1\n",
    "\n",
    "    @classmethod\n",
    "    def get_count(cls):\n",
    "        return cls.count\n",
    "    \n",
    "\n",
    "c1 = Counter()\n",
    "c1 = Counter()\n",
    "c1 = Counter()\n",
    "print(Counter.get_count())"
   ]
  },
  {
   "cell_type": "code",
   "execution_count": 12,
   "id": "d4965c27",
   "metadata": {},
   "outputs": [
    {
     "name": "stdout",
     "output_type": "stream",
     "text": [
      "6.0\n"
     ]
    }
   ],
   "source": [
    "''' \n",
    "Assignment 9: Static Methods\n",
    "Create a class named `MathOperations` with a static method to calculate the square root of a number. \n",
    "Call the static method without creating an object.\n",
    "'''\n",
    "import math\n",
    "\n",
    "class MathOperation:\n",
    "\n",
    "    @staticmethod\n",
    "    def get_sqrt(x):\n",
    "        return math.sqrt(x)\n",
    "    \n",
    "print(MathOperation.get_sqrt(36))\n"
   ]
  },
  {
   "cell_type": "code",
   "execution_count": 2,
   "id": "df6c9de8",
   "metadata": {},
   "outputs": [
    {
     "name": "stdout",
     "output_type": "stream",
     "text": [
      "10 7\n",
      "20 12\n"
     ]
    }
   ],
   "source": [
    "''' \n",
    "Assignment 10: Class with Properties\n",
    "Create a class named `Rectangle` with private attributes `length` and `width`. \n",
    "Use properties to get and set these attributes. Create an object of the class and test the properties.\n",
    "'''\n",
    "class Rectangle:\n",
    "    def __init__(self, length, width):\n",
    "        self.__length = length\n",
    "        self.__width = width\n",
    "\n",
    "    @property\n",
    "    def length(self):\n",
    "        return self.__length\n",
    "    \n",
    "    @length.setter\n",
    "    def length(self, length):\n",
    "        self.__length = length\n",
    "\n",
    "    @property\n",
    "    def width(self):\n",
    "        return self.__width\n",
    "    \n",
    "    @width.setter\n",
    "    def width(self, width):\n",
    "        self.__width = width\n",
    "\n",
    "\n",
    "rectangle = Rectangle(10, 7)\n",
    "print(rectangle.length, rectangle.width)\n",
    "rectangle.length = 20\n",
    "rectangle.width = 12\n",
    "print(rectangle.length, rectangle.width)"
   ]
  },
  {
   "cell_type": "code",
   "execution_count": 4,
   "id": "76c89c55",
   "metadata": {},
   "outputs": [
    {
     "name": "stdout",
     "output_type": "stream",
     "text": [
      "78.53981633974483\n",
      "25\n"
     ]
    }
   ],
   "source": [
    "''' \n",
    "Assignment 11: Abstract Base Class\n",
    "Create an abstract base class named `Shape` with an abstract method `area`. \n",
    "Create derived classes `Circle` and `Square` that implement the `area` method. Create objects of the derived classes and call the `area` method.\n",
    "'''\n",
    "from abc import ABC, abstractmethod\n",
    "import math\n",
    "\n",
    "class Shape(ABC):\n",
    "    @abstractmethod\n",
    "    def area(self):\n",
    "        pass\n",
    "\n",
    "class Circle(Shape):\n",
    "    def __init__(self, radius):\n",
    "        self.radius = radius\n",
    "\n",
    "    def area(self):\n",
    "        return math.pi * (self.radius ** 2)\n",
    "    \n",
    "class Sqaure(Shape):\n",
    "    def __init__(self, side):\n",
    "        self.side = side\n",
    "\n",
    "    def area(self):\n",
    "        return self.side ** 2\n",
    "    \n",
    "circle = Circle(5)\n",
    "square = Sqaure(5)\n",
    "print(circle.area())\n",
    "print(square.area())\n"
   ]
  },
  {
   "cell_type": "code",
   "execution_count": 5,
   "id": "6993bc60",
   "metadata": {},
   "outputs": [
    {
     "name": "stdout",
     "output_type": "stream",
     "text": [
      "Vector(6, 8)\n"
     ]
    }
   ],
   "source": [
    "''' \n",
    "Assignment 12: Operator Overloading\n",
    "Create a class named `Vector` with attributes `x` and `y`. \n",
    "Overload the `+` operator to add two `Vector` objects. \n",
    "Create objects of the class and test the operator overloading.\n",
    "'''\n",
    "class Vector:\n",
    "    def __init__(self, x, y):\n",
    "        self.x = x\n",
    "        self.y = y\n",
    "\n",
    "    def __add__(self, other):\n",
    "        return Vector(self.x + other.x, self.y + other.y)\n",
    "    \n",
    "    def __str__(self):\n",
    "        return f\"Vector({self.x}, {self.y})\"\n",
    "    \n",
    "\n",
    "v1 = Vector(2, 3)\n",
    "v2 = Vector(4, 5)\n",
    "v3 = v1 + v2\n",
    "print(v3)"
   ]
  },
  {
   "cell_type": "code",
   "execution_count": 8,
   "id": "82047964",
   "metadata": {},
   "outputs": [
    {
     "name": "stdout",
     "output_type": "stream",
     "text": [
      "Error: Insufficient balance!\n"
     ]
    }
   ],
   "source": [
    "''' \n",
    "Assignment 13: Class with Custom Exception\n",
    "Create a custom exception named `InsufficientBalanceError`. \n",
    "In the `BankAccount` class, raise this exception when a withdrawal amount is greater than the balance. \n",
    "Handle the exception and print an appropriate message.\n",
    "'''\n",
    "class InsufficientBalanceError(Exception):\n",
    "    pass\n",
    "\n",
    "class BankAccount:\n",
    "    def __init__(self, account_number, balance=0):\n",
    "        self.__account_number = account_number\n",
    "        self.__balance = balance\n",
    "\n",
    "    def deposit(self, amount):\n",
    "        self.__balance += amount\n",
    "\n",
    "    def withdraw(self, amount):\n",
    "        if amount > self.__balance:\n",
    "            raise InsufficientBalanceError(\"Insufficient balance!\")\n",
    "        else:\n",
    "            self.__balance -= amount\n",
    "\n",
    "    def check_balance(self):\n",
    "        return self.__balance\n",
    "    \n",
    "account = BankAccount('12345678', 100000)\n",
    "account.deposit(50000)\n",
    "try:\n",
    "    account.withdraw(200000)\n",
    "except InsufficientBalanceError as e:\n",
    "    print(f\"Error: {e}\")"
   ]
  },
  {
   "cell_type": "code",
   "execution_count": 10,
   "id": "ac10e228",
   "metadata": {},
   "outputs": [
    {
     "name": "stdout",
     "output_type": "stream",
     "text": [
      "cibqohefoqpf\n",
      "bvqeobgfoqbofb\n",
      "biqbfibqobf\n",
      "bqevfobqbf\n"
     ]
    }
   ],
   "source": [
    "''' \n",
    "Assignment 14: Class with Context Manager\n",
    "Create a class named `FileManager` that implements the context manager protocol to open and close a file. \n",
    "Use this class to read the contents of a file.\n",
    "'''\n",
    "class FileManager:\n",
    "    def __init__(self, filename, mode):\n",
    "        self.filename = filename\n",
    "        self.mode = mode\n",
    "\n",
    "    def __enter__(self):\n",
    "        self.file = open(self.filename, self.mode)\n",
    "        return self.file\n",
    "\n",
    "    def __exit__(self, exc_type, exc_value, traceback):\n",
    "        self.file.close()\n",
    "\n",
    "# Test\n",
    "with FileManager('sample.txt', 'r') as file:\n",
    "    content = file.read()\n",
    "    print(content)"
   ]
  },
  {
   "cell_type": "code",
   "execution_count": 16,
   "id": "7006ec77",
   "metadata": {},
   "outputs": [
    {
     "name": "stdout",
     "output_type": "stream",
     "text": [
      "20.0\n"
     ]
    }
   ],
   "source": [
    "''' \n",
    "Assignment 15: Chaining Methods\n",
    "Create a class named `Calculator` with methods to add, subtract, multiply, and divide.\n",
    "Each method should return the object itself to allow method chaining. \n",
    "Create an object and chain multiple method calls.\n",
    "'''\n",
    "class Calculator:\n",
    "    def __init__(self, value = 0):\n",
    "        self.value = value\n",
    "\n",
    "    def add(self, amount):\n",
    "        self.value += amount\n",
    "        return self\n",
    "    \n",
    "    def subtract(self, amount):\n",
    "        self.value -= amount\n",
    "        return self\n",
    "    \n",
    "    def multiply(self, amount):\n",
    "        self.value *= amount\n",
    "        return self\n",
    "    \n",
    "    def divide(self, amount):\n",
    "        if amount != 0:\n",
    "            self.value /= amount\n",
    "        else:\n",
    "            print(\"Cannot divide by zero!\")\n",
    "        return self\n",
    "    \n",
    "calc = Calculator(5)\n",
    "calc.add(10).subtract(11).multiply(10).divide(2)\n",
    "print(calc.value)\n"
   ]
  }
 ],
 "metadata": {
  "kernelspec": {
   "display_name": "Python 3",
   "language": "python",
   "name": "python3"
  },
  "language_info": {
   "codemirror_mode": {
    "name": "ipython",
    "version": 3
   },
   "file_extension": ".py",
   "mimetype": "text/x-python",
   "name": "python",
   "nbconvert_exporter": "python",
   "pygments_lexer": "ipython3",
   "version": "3.12.8"
  }
 },
 "nbformat": 4,
 "nbformat_minor": 5
}
