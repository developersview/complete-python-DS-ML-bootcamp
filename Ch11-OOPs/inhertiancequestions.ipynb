{
 "cells": [
  {
   "cell_type": "markdown",
   "metadata": {},
   "source": [
    "# Module: Inheritance Assignments\n",
    "## Lesson: Single and Multiple Inheritance\n",
    "### Assignment 1: Single Inheritance Basic\n",
    "\n",
    "Create a base class named `Animal` with attributes `name` and `species`. Create a derived class named `Dog` that inherits from `Animal` and adds an attribute `breed`. Create an object of the `Dog` class and print its attributes.\n",
    "\n",
    "### Assignment 2: Method Overriding in Single Inheritance\n",
    "\n",
    "In the `Dog` class, override the `__str__` method to return a string representation of the object. Create an object of the class and print it.\n",
    "\n",
    "### Assignment 3: Single Inheritance with Additional Methods\n",
    "\n",
    "In the `Dog` class, add a method named `bark` that prints a barking sound. Create an object of the class and call the method.\n",
    "\n",
    "### Assignment 4: Multiple Inheritance Basic\n",
    "\n",
    "Create a base class named `Walker` with a method `walk` that prints a walking message. Create another base class named `Runner` with a method `run` that prints a running message. Create a derived class named `Athlete` that inherits from both `Walker` and `Runner`. Create an object of the `Athlete` class and call both methods.\n",
    "\n",
    "### Assignment 5: Method Resolution Order (MRO) in Multiple Inheritance\n",
    "\n",
    "In the `Athlete` class, override the `walk` method to print a different message. Create an object of the class and call the `walk` method. Use the `super()` function to call the `walk` method of the `Walker` class.\n",
    "\n",
    "### Assignment 6: Multiple Inheritance with Additional Attributes\n",
    "\n",
    "In the `Athlete` class, add an attribute `training_hours` and a method `train` that prints the training hours. Create an object of the class and call the method.\n",
    "\n",
    "### Assignment 7: Diamond Problem in Multiple Inheritance\n",
    "\n",
    "Create a class named `A` with a method `show` that prints a message. Create two derived classes `B` and `C` that inherit from `A` and override the `show` method. Create a class `D` that inherits from both `B` and `C`. Create an object of the `D` class and call the `show` method. Observe the method resolution order.\n",
    "\n",
    "### Assignment 8: Using `super()` in Single Inheritance\n",
    "\n",
    "Create a base class named `Shape` with an attribute `color`. Create a derived class named `Circle` that inherits from `Shape` and adds an attribute `radius`. Use the `super()` function to initialize the attributes. Create an object of the `Circle` class and print its attributes.\n",
    "\n",
    "### Assignment 9: Using `super()` in Multiple Inheritance\n",
    "\n",
    "Create a class named `Person` with an attribute `name`. Create a class named `Employee` with an attribute `employee_id`. Create a derived class `Manager` that inherits from both `Person` and `Employee`. Use the `super()` function to initialize the attributes. Create an object of the `Manager` class and print its attributes.\n",
    "\n",
    "### Assignment 10: Method Overriding and `super()`\n",
    "\n",
    "Create a class named `Vehicle` with a method `start` that prints a starting message. Create a derived class `Car` that overrides the `start` method to print a different message. Use the `super()` function to call the `start` method of the `Vehicle` class. Create an object of the `Car` class and call the `start` method.\n",
    "\n",
    "### Assignment 11: Multiple Inheritance with Different Methods\n",
    "\n",
    "Create a class named `Flyer` with a method `fly` that prints a flying message. Create a class named `Swimmer` with a method `swim` that prints a swimming message. Create a derived class `Superhero` that inherits from both `Flyer` and `Swimmer`. Create an object of the `Superhero` class and call both methods.\n",
    "\n",
    "### Assignment 12: Complex Multiple Inheritance\n",
    "\n",
    "Create a class named `Base1` with an attribute `a`. Create a class named `Base2` with an attribute `b`. Create a class named `Derived` that inherits from both `Base1` and `Base2` and adds an attribute `c`. Initialize all attributes using the `super()` function. Create an object of the `Derived` class and print its attributes.\n",
    "\n",
    "### Assignment 13: Checking Instance Types with Inheritance\n",
    "\n",
    "Create a base class named `Animal` and a derived class named `Cat`. Create objects of both classes and use the `isinstance` function to check the instance types.\n",
    "\n",
    "### Assignment 14: Polymorphism with Inheritance\n",
    "\n",
    "Create a base class named `Bird` with a method `speak`. Create two derived classes `Parrot` and `Penguin` that override the `speak` method. Create a list of `Bird` objects and call the `speak` method on each object to demonstrate polymorphism.\n",
    "\n",
    "### Assignment 15: Combining Single and Multiple Inheritance\n",
    "\n",
    "Create a base class named `Device` with an attribute `brand`. Create a derived class `Phone` that inherits from `Device` and adds an attribute `model`. Create another base class `Camera` with an attribute `resolution`. Create a derived class `Smartphone` that inherits from both `Phone` and `Camera`. Create an object of the `Smartphone` class and print its attributes."
   ]
  },
  {
   "cell_type": "code",
   "execution_count": null,
   "metadata": {},
   "outputs": [
    {
     "name": "stdout",
     "output_type": "stream",
     "text": [
      "Shera Herding German Shepard\n"
     ]
    }
   ],
   "source": [
    "''' \n",
    "Assignment 1: Single Inheritance Basic\n",
    "Create a base class named `Animal` with attributes `name` and `species`. \n",
    "Create a derived class named `Dog` that inherits from `Animal` and adds an attribute `breed`. \n",
    "Create an object of the `Dog` class and print its attributes.\n",
    "'''\n",
    "class Animal:\n",
    "    def __init__(self, name, species):\n",
    "        self.name = name\n",
    "        self.species = species\n",
    "\n",
    "class Dog(Animal):\n",
    "    def __init__(self, name, species, breed):\n",
    "        super().__init__(name, species)\n",
    "        self.breed = breed\n",
    "\n",
    "#test\n",
    "myPet = Dog('Shera', 'Herding', 'German Shepard')\n",
    "print(myPet.name, myPet.species, myPet.breed)"
   ]
  },
  {
   "cell_type": "code",
   "execution_count": 2,
   "id": "0ce59220",
   "metadata": {},
   "outputs": [
    {
     "name": "stdout",
     "output_type": "stream",
     "text": [
      "Dog name: Shera\n",
      "Species: Herding\n",
      "Breed: German Shepard\n"
     ]
    }
   ],
   "source": [
    "''' \n",
    "Assignment 2: Method Overriding in Single Inheritance\n",
    "In the `Dog` class, override the `__str__` method to return a string representation of the object. \n",
    "Create an object of the class and print it.\n",
    "'''\n",
    "class Dog(Animal):\n",
    "    def __init__(self, name, species, breed):\n",
    "        super().__init__(name, species)\n",
    "        self.breed = breed\n",
    "\n",
    "    def __str__(self):\n",
    "        return f\"Dog name: {self.name}\\nSpecies: {self.species}\\nBreed: {self.breed}\"\n",
    "    \n",
    "# Test\n",
    "myPet = Dog('Shera', 'Herding', 'German Shepard')\n",
    "print(myPet)"
   ]
  },
  {
   "cell_type": "code",
   "execution_count": 5,
   "id": "bfaebccb",
   "metadata": {},
   "outputs": [
    {
     "name": "stdout",
     "output_type": "stream",
     "text": [
      "Shera says Woof! 🐶\n"
     ]
    }
   ],
   "source": [
    "'''\n",
    "Assignment 3: Single Inheritance with Additional Methods\n",
    "In the `Dog` class, add a method named `bark` that prints a barking sound. \n",
    "Create an object of the class and call the method.\n",
    "'''\n",
    "class Dog(Animal):\n",
    "    def __init__(self, name, species, breed):\n",
    "        super().__init__(name, species)\n",
    "        self.breed = breed\n",
    "\n",
    "    def __str__(self):\n",
    "        return f\"Dog name: {self.name}\\nSpecies: {self.species}\\nBreed: {self.breed}\"\n",
    "    \n",
    "    def bark(self):\n",
    "        print(f\"{self.name} says Woof! 🐶\")\n",
    "\n",
    "#Test\n",
    "myPet = Dog('Shera', 'Herding', 'German Shepard')\n",
    "myPet.bark()"
   ]
  },
  {
   "cell_type": "code",
   "execution_count": 6,
   "id": "15fb12e9",
   "metadata": {},
   "outputs": [
    {
     "name": "stdout",
     "output_type": "stream",
     "text": [
      "Walking...🚶\n",
      "Running...🏃‍♂️\n"
     ]
    }
   ],
   "source": [
    "''' \n",
    "Assignment 4: Multiple Inheritance Basic\n",
    "Create a base class named `Walker` with a method `walk` that prints a walking message. \n",
    "Create another base class named `Runner` with a method `run` that prints a running message.\n",
    "Create a derived class named `Athlete` that inherits from both `Walker` and `Runner`. \n",
    "Create an object of the `Athlete` class and call both methods.\n",
    "'''\n",
    "class Walker:\n",
    "    def walk(self):\n",
    "        print(\"Walking...🚶\")\n",
    "\n",
    "class Runner:\n",
    "    def run(self):\n",
    "        print(\"Running...🏃‍♂️\")\n",
    "\n",
    "class Athlete(Walker, Runner):\n",
    "    pass\n",
    "\n",
    "#test\n",
    "athlete = Athlete()\n",
    "athlete.walk()\n",
    "athlete.run()"
   ]
  },
  {
   "cell_type": "code",
   "execution_count": 8,
   "id": "2ab57e85",
   "metadata": {},
   "outputs": [
    {
     "name": "stdout",
     "output_type": "stream",
     "text": [
      "Athlete walking...🚶\n",
      "Walking...🚶\n"
     ]
    }
   ],
   "source": [
    "''' \n",
    "Assignment 5: Method Resolution Order (MRO) in Multiple Inheritance\n",
    "In the `Athlete` class, override the `walk` method to print a different message. \n",
    "Create an object of the class and call the `walk` method. \n",
    "Use the `super()` function to call the `walk` method of the `Walker` class.\n",
    "'''\n",
    "class Athlete(Walker, Runner):\n",
    "    def walk(self):\n",
    "        print(\"Athlete walking...🚶\")\n",
    "        super().walk()\n",
    "\n",
    "#test\n",
    "athlete = Athlete()\n",
    "athlete.walk()"
   ]
  },
  {
   "cell_type": "code",
   "execution_count": 9,
   "id": "b34a1a57",
   "metadata": {},
   "outputs": [
    {
     "name": "stdout",
     "output_type": "stream",
     "text": [
      "Athlete walking...🚶\n",
      "Walking...🚶\n",
      "Training for 4.5 hours\n",
      "Running...🏃‍♂️\n"
     ]
    }
   ],
   "source": [
    "''' \n",
    "Assignment 6: Multiple Inheritance with Additional Attributes\n",
    "In the `Athlete` class, add an attribute `training_hours` and a method `train` that prints the training hours. \n",
    "Create an object of the class and call the method.\n",
    "'''\n",
    "class Athlete(Walker, Runner):\n",
    "    def __init__(self, training_hours):\n",
    "        self.training_hours = training_hours\n",
    "\n",
    "    def train(self):\n",
    "        print(f\"Training for {self.training_hours} hours\")\n",
    "\n",
    "    def walk(self):\n",
    "        print(\"Athlete walking...🚶\")\n",
    "        super().walk()\n",
    "\n",
    "#test\n",
    "athlete = Athlete(4.5)\n",
    "athlete.walk()\n",
    "athlete.train()\n",
    "athlete.run()"
   ]
  },
  {
   "cell_type": "code",
   "execution_count": 12,
   "id": "cef354cc",
   "metadata": {},
   "outputs": [
    {
     "name": "stdout",
     "output_type": "stream",
     "text": [
      "B's show method\n"
     ]
    }
   ],
   "source": [
    "'''\n",
    "Assignment 7: Diamond Problem in Multiple Inheritance\n",
    "Create a class named `A` with a method `show` that prints a message. \n",
    "Create two derived classes `B` and `C` that inherit from `A` and override the `show` method. \n",
    "Create a class `D` that inherits from both `B` and `C`. \n",
    "Create an object of the `D` class and call the `show` method. Observe the method resolution order.\n",
    "'''\n",
    "class A:\n",
    "    def show(self):\n",
    "        print(\"A's show method\")\n",
    "\n",
    "class B(A):\n",
    "    def show(self):\n",
    "        print(\"B's show method\")\n",
    "\n",
    "class C(A):\n",
    "    def show(self):\n",
    "        print(\"C's show method\")\n",
    "\n",
    "class D(B, C):\n",
    "    pass\n",
    "\n",
    "d = D()\n",
    "d.show()"
   ]
  },
  {
   "cell_type": "code",
   "execution_count": 13,
   "id": "7d6a6d3e",
   "metadata": {},
   "outputs": [
    {
     "name": "stdout",
     "output_type": "stream",
     "text": [
      "Red 5\n"
     ]
    }
   ],
   "source": [
    "''' \n",
    "Assignment 8: Using `super()` in Single Inheritance\n",
    "Create a base class named `Shape` with an attribute `color`. \n",
    "Create a derived class named `Circle` that inherits from `Shape` and adds an attribute `radius`. \n",
    "Use the `super()` function to initialize the attributes. \n",
    "Create an object of the `Circle` class and print its attributes.\n",
    "'''\n",
    "class Shape:\n",
    "    def __init__(self, color):\n",
    "        self.color = color\n",
    "\n",
    "class Circle(Shape):\n",
    "    def __init__(self, color, radius):\n",
    "        super().__init__(color)\n",
    "        self.radius = radius\n",
    "\n",
    "# Test\n",
    "circle = Circle('Red', 5)\n",
    "print(circle.color, circle.radius)"
   ]
  },
  {
   "cell_type": "code",
   "execution_count": 15,
   "id": "8e38f68d",
   "metadata": {},
   "outputs": [
    {
     "name": "stdout",
     "output_type": "stream",
     "text": [
      "Kshitij M123\n"
     ]
    }
   ],
   "source": [
    "''' \n",
    "Assignment 9: Using `super()` in Multiple Inheritance\n",
    "Create a class named `Person` with an attribute `name`. \n",
    "Create a class named `Employee` with an attribute `employee_id`. \n",
    "Create a derived class `Manager` that inherits from both `Person` and `Employee`. \n",
    "Use the `super()` function to initialize the attributes. \n",
    "Create an object of the `Manager` class and print its attributes.\n",
    "'''\n",
    "class Person:\n",
    "    def __init__(self, name):\n",
    "        self.name = name\n",
    "\n",
    "class Employee:\n",
    "    def __init__(self, employee_id):\n",
    "        self.employee_id = employee_id\n",
    "\n",
    "class Manager(Person, Employee):\n",
    "    def __init__(self, name, employee_id):\n",
    "        super().__init__(name)\n",
    "        Employee.__init__(self, employee_id)\n",
    "\n",
    "# Test\n",
    "manager = Manager('Kshitij', 'M123')\n",
    "print(manager.name, manager.employee_id)\n"
   ]
  },
  {
   "cell_type": "code",
   "execution_count": 17,
   "id": "ce62ce05",
   "metadata": {},
   "outputs": [
    {
     "name": "stdout",
     "output_type": "stream",
     "text": [
      "Car starting...🚗\n",
      "Vehicle starts...\n"
     ]
    }
   ],
   "source": [
    "''' \n",
    "Assignment 10: Method Overriding and `super()`\n",
    "Create a class named `Vehicle` with a method `start` that prints a starting message. \n",
    "Create a derived class `Car` that overrides the `start` method to print a different message. \n",
    "Use the `super()` function to call the `start` method of the `Vehicle` class. \n",
    "Create an object of the `Car` class and call the `start` method.\n",
    "'''\n",
    "class Vehicle:\n",
    "    def start(self):\n",
    "        print(\"Vehicle starts...\")\n",
    "\n",
    "class Car(Vehicle):\n",
    "    def start(self):\n",
    "        print(\"Car starting...🚗\")\n",
    "        super().start()\n",
    "\n",
    "#test\n",
    "car = Car()\n",
    "car.start()"
   ]
  },
  {
   "cell_type": "code",
   "execution_count": 2,
   "id": "aa0c2c52",
   "metadata": {},
   "outputs": [
    {
     "name": "stdout",
     "output_type": "stream",
     "text": [
      "Flying...\n",
      "Swiming...\n"
     ]
    }
   ],
   "source": [
    "''' \n",
    "Assignment 11: Multiple Inheritance with Different Methods\n",
    "Create a class named `Flyer` with a method `fly` that prints a flying message. \n",
    "Create a class named `Swimmer` with a method `swim` that prints a swimming message. \n",
    "Create a derived class `Superhero` that inherits from both `Flyer` and `Swimmer`. \n",
    "Create an object of the `Superhero` class and call both methods.\n",
    "'''\n",
    "class Flyer:\n",
    "    def fly(self):\n",
    "        print('Flying...')\n",
    "\n",
    "class Swimmer:\n",
    "    def swim(self):\n",
    "        print('Swiming...')\n",
    "\n",
    "class SuperHero(Flyer, Swimmer):\n",
    "    pass\n",
    "\n",
    "#test\n",
    "superHero = SuperHero()\n",
    "superHero.fly()\n",
    "superHero.swim()"
   ]
  },
  {
   "cell_type": "code",
   "execution_count": 4,
   "id": "1ab716f5",
   "metadata": {},
   "outputs": [
    {
     "name": "stdout",
     "output_type": "stream",
     "text": [
      "1 2 3\n"
     ]
    }
   ],
   "source": [
    "''' \n",
    "Assignment 12: Complex Multiple Inheritance\n",
    "Create a class named `Base1` with an attribute `a`. \n",
    "Create a class named `Base2` with an attribute `b`. \n",
    "Create a class named `Derived` that inherits from both `Base1` and `Base2` and adds an attribute `c`. \n",
    "Initialize all attributes using the `super()` function. \n",
    "Create an object of the `Derived` class and print its attributes.\n",
    "'''\n",
    "class Base1:\n",
    "    def __init__(self, a):\n",
    "        self.a = a\n",
    "\n",
    "class Base2:\n",
    "    def __init__(self, b):\n",
    "        self.b = b\n",
    "\n",
    "class Derived(Base1, Base2):\n",
    "    def __init__(self, a, b, c):\n",
    "        super().__init__(a)\n",
    "        Base2.__init__(self, b)\n",
    "        self.c = c\n",
    "\n",
    "derived = Derived(1, 2, 3)\n",
    "print(derived.a, derived.b, derived.c)"
   ]
  },
  {
   "cell_type": "code",
   "execution_count": 5,
   "id": "a0f61539",
   "metadata": {},
   "outputs": [
    {
     "name": "stdout",
     "output_type": "stream",
     "text": [
      "True\n",
      "True\n",
      "True\n",
      "False\n"
     ]
    }
   ],
   "source": [
    "''' \n",
    "Assignment 13: Checking Instance Types with Inheritance\n",
    "Create a base class named `Animal` and a derived class named `Cat`. \n",
    "reate objects of both classes and use the `isinstance` function to check the instance types.\n",
    "'''\n",
    "class Animal:\n",
    "    pass\n",
    "\n",
    "class Cat(Animal):\n",
    "    pass\n",
    "\n",
    "# Test\n",
    "animal = Animal()\n",
    "cat = Cat()\n",
    "print(isinstance(animal, Animal))  \n",
    "print(isinstance(cat, Animal)) \n",
    "print(isinstance(cat, Cat))  \n",
    "print(isinstance(animal, Cat))  "
   ]
  },
  {
   "cell_type": "code",
   "execution_count": 7,
   "id": "75869c7e",
   "metadata": {},
   "outputs": [
    {
     "name": "stdout",
     "output_type": "stream",
     "text": [
      "🦜 says : Squawk!\n",
      "🐧 says: Honk!\n"
     ]
    }
   ],
   "source": [
    "''' \n",
    "Assignment 14: Polymorphism with Inheritance\n",
    "Create a base class named `Bird` with a method `speak`. \n",
    "Create two derived classes `Parrot` and `Penguin` that override the `speak` method. \n",
    "Create a list of `Bird` objects and call the `speak` method on each object to demonstrate polymorphism.\n",
    "'''\n",
    "class Bird:\n",
    "    def speak(self):\n",
    "        pass\n",
    "\n",
    "class Parrot(Bird):\n",
    "    def speak(self):\n",
    "        print(f\"🦜 says : Squawk!\")\n",
    "\n",
    "class Penguin(Bird):\n",
    "    def speak(self):\n",
    "        print(f\"🐧 says: Honk!\")\n",
    "\n",
    "#test\n",
    "birds = [Parrot(), Penguin()]\n",
    "for bird in birds:\n",
    "    bird.speak()"
   ]
  },
  {
   "cell_type": "code",
   "execution_count": 9,
   "id": "35c24587",
   "metadata": {},
   "outputs": [
    {
     "name": "stdout",
     "output_type": "stream",
     "text": [
      "Apple iPhone 12 12 MP\n"
     ]
    }
   ],
   "source": [
    "''' \n",
    "Assignment 15: Combining Single and Multiple Inheritance\n",
    "Create a base class named `Device` with an attribute `brand`. \n",
    "Create a derived class `Phone` that inherits from `Device` and adds an attribute `model`. \n",
    "Create another base class `Camera` with an attribute `resolution`. \n",
    "Create a derived class `Smartphone` that inherits from both `Phone` and `Camera`. \n",
    "Create an object of the `Smartphone` class and print its attributes.\n",
    "'''\n",
    "class Device:\n",
    "    def __init__(self, brand):\n",
    "        self.brand = brand\n",
    "\n",
    "class Phone(Device):\n",
    "    def __init__(self, brand, model):\n",
    "        super().__init__(brand)\n",
    "        self.model = model\n",
    "\n",
    "class Camera:\n",
    "    def __init__(self, resolution):\n",
    "        self.resolution = resolution\n",
    "\n",
    "class Smartphone(Phone, Camera):\n",
    "    def __init__(self, brand, model, resolution):\n",
    "        Phone.__init__(self, brand, model)\n",
    "        Camera.__init__(self, resolution)\n",
    "\n",
    "# Test\n",
    "smartphone = Smartphone('Apple', 'iPhone 12', '12 MP')\n",
    "print(smartphone.brand, smartphone.model, smartphone.resolution)"
   ]
  }
 ],
 "metadata": {
  "kernelspec": {
   "display_name": "Python 3",
   "language": "python",
   "name": "python3"
  },
  "language_info": {
   "codemirror_mode": {
    "name": "ipython",
    "version": 3
   },
   "file_extension": ".py",
   "mimetype": "text/x-python",
   "name": "python",
   "nbconvert_exporter": "python",
   "pygments_lexer": "ipython3",
   "version": "3.12.8"
  }
 },
 "nbformat": 4,
 "nbformat_minor": 5
}
