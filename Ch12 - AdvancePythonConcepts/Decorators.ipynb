{
 "cells": [
  {
   "cell_type": "markdown",
   "id": "04444ad4",
   "metadata": {},
   "source": [
    "## Decorators\n",
    "Decorators are a powerful and flexible feature in Python that allows you to modify the behavior of a function or class method. They are commonly used to add functionality to functions or methods without modifying their actual code. This lesson covers the basics of decorators, including how to create and use them."
   ]
  },
  {
   "cell_type": "code",
   "execution_count": 13,
   "id": "bce6d7ba",
   "metadata": {},
   "outputs": [
    {
     "data": {
      "text/plain": [
       "'Hello world!...❤️'"
      ]
     },
     "execution_count": 13,
     "metadata": {},
     "output_type": "execute_result"
    }
   ],
   "source": [
    "#function copy\n",
    "def welcome():\n",
    "    return \"Hello world!...❤️\"\n",
    "\n",
    "welcome()"
   ]
  },
  {
   "cell_type": "code",
   "execution_count": 14,
   "id": "0c110641",
   "metadata": {},
   "outputs": [
    {
     "data": {
      "text/plain": [
       "'Hello world!...❤️'"
      ]
     },
     "execution_count": 14,
     "metadata": {},
     "output_type": "execute_result"
    }
   ],
   "source": [
    "wel = welcome()\n",
    "wel"
   ]
  },
  {
   "cell_type": "code",
   "execution_count": 15,
   "id": "37b17431",
   "metadata": {},
   "outputs": [
    {
     "ename": "NameError",
     "evalue": "name 'welcome' is not defined",
     "output_type": "error",
     "traceback": [
      "\u001b[1;31m---------------------------------------------------------------------------\u001b[0m",
      "\u001b[1;31mNameError\u001b[0m                                 Traceback (most recent call last)",
      "Cell \u001b[1;32mIn[15], line 2\u001b[0m\n\u001b[0;32m      1\u001b[0m \u001b[38;5;28;01mdel\u001b[39;00m welcome\n\u001b[1;32m----> 2\u001b[0m \u001b[43mwelcome\u001b[49m()\n",
      "\u001b[1;31mNameError\u001b[0m: name 'welcome' is not defined"
     ]
    }
   ],
   "source": [
    "del welcome\n",
    "welcome()\n"
   ]
  },
  {
   "cell_type": "code",
   "execution_count": 16,
   "id": "db0a4d69",
   "metadata": {},
   "outputs": [
    {
     "data": {
      "text/plain": [
       "'Hello world!...❤️'"
      ]
     },
     "execution_count": 16,
     "metadata": {},
     "output_type": "execute_result"
    }
   ],
   "source": [
    "wel"
   ]
  },
  {
   "cell_type": "code",
   "execution_count": 19,
   "id": "97e6fd25",
   "metadata": {},
   "outputs": [
    {
     "name": "stdout",
     "output_type": "stream",
     "text": [
      "Welcome to the python course!\n",
      "Please learn this concepts properly\n"
     ]
    }
   ],
   "source": [
    "#closures\n",
    "def main_welcome():\n",
    "    msg = \"Welcome!\"\n",
    "    def sub_welcome_method():\n",
    "        print(\"Welcome to the python course!\")\n",
    "        print(\"Please learn this concepts properly\")\n",
    "    return sub_welcome_method()\n",
    "\n",
    "#test\n",
    "main_welcome()"
   ]
  },
  {
   "cell_type": "code",
   "execution_count": 20,
   "id": "87ca080b",
   "metadata": {},
   "outputs": [
    {
     "name": "stdout",
     "output_type": "stream",
     "text": [
      "Welcome to the python course!\n",
      "Welcome!\n",
      "Please learn this concepts properly\n"
     ]
    }
   ],
   "source": [
    "#closures\n",
    "def main_welcome():\n",
    "    msg = \"Welcome!\"\n",
    "    def sub_welcome_method():\n",
    "        print(\"Welcome to the python course!\")\n",
    "        print(msg)\n",
    "        print(\"Please learn this concepts properly\")\n",
    "    return sub_welcome_method()\n",
    "\n",
    "#test\n",
    "main_welcome()"
   ]
  },
  {
   "cell_type": "code",
   "execution_count": 21,
   "id": "a16f11e9",
   "metadata": {},
   "outputs": [
    {
     "name": "stdout",
     "output_type": "stream",
     "text": [
      "Welcome to the python course!\n",
      "Welcome Everyone!\n",
      "Please learn this concepts properly\n"
     ]
    }
   ],
   "source": [
    "#closures\n",
    "def main_welcome(msg):\n",
    "\n",
    "    def sub_welcome_method():\n",
    "        print(\"Welcome to the python course!\")\n",
    "        print(msg)\n",
    "        print(\"Please learn this concepts properly\")\n",
    "    return sub_welcome_method()\n",
    "\n",
    "#test\n",
    "main_welcome(\"Welcome Everyone!\")"
   ]
  },
  {
   "cell_type": "code",
   "execution_count": 23,
   "id": "fa970665",
   "metadata": {},
   "outputs": [
    {
     "name": "stdout",
     "output_type": "stream",
     "text": [
      "Welcome to the python course!\n",
      "Welcome everyone!!!\n",
      "Please learn this concepts properly\n"
     ]
    }
   ],
   "source": [
    "#closures\n",
    "def main_welcome(func):\n",
    "\n",
    "    def sub_welcome_method():\n",
    "        print(\"Welcome to the python course!\")\n",
    "        func(\"Welcome everyone!!!\")\n",
    "        print(\"Please learn this concepts properly\")\n",
    "    return sub_welcome_method()\n",
    "\n",
    "#test\n",
    "main_welcome(print)"
   ]
  },
  {
   "cell_type": "code",
   "execution_count": 24,
   "id": "b2204b58",
   "metadata": {},
   "outputs": [
    {
     "name": "stdout",
     "output_type": "stream",
     "text": [
      "Welcome to the python course!\n"
     ]
    },
    {
     "ename": "TypeError",
     "evalue": "'int' object is not callable",
     "output_type": "error",
     "traceback": [
      "\u001b[1;31m---------------------------------------------------------------------------\u001b[0m",
      "\u001b[1;31mTypeError\u001b[0m                                 Traceback (most recent call last)",
      "Cell \u001b[1;32mIn[24], line 11\u001b[0m\n\u001b[0;32m      8\u001b[0m     \u001b[38;5;28;01mreturn\u001b[39;00m sub_welcome_method()\n\u001b[0;32m     10\u001b[0m \u001b[38;5;66;03m#test\u001b[39;00m\n\u001b[1;32m---> 11\u001b[0m \u001b[43mmain_welcome\u001b[49m\u001b[43m(\u001b[49m\u001b[38;5;28;43mlen\u001b[39;49m\u001b[43m(\u001b[49m\u001b[43m[\u001b[49m\u001b[38;5;241;43m1\u001b[39;49m\u001b[43m,\u001b[49m\u001b[38;5;241;43m2\u001b[39;49m\u001b[43m,\u001b[49m\u001b[38;5;241;43m3\u001b[39;49m\u001b[43m,\u001b[49m\u001b[38;5;241;43m4\u001b[39;49m\u001b[43m]\u001b[49m\u001b[43m)\u001b[49m\u001b[43m)\u001b[49m\n",
      "Cell \u001b[1;32mIn[24], line 8\u001b[0m, in \u001b[0;36mmain_welcome\u001b[1;34m(func)\u001b[0m\n\u001b[0;32m      6\u001b[0m     \u001b[38;5;28mprint\u001b[39m(func())\n\u001b[0;32m      7\u001b[0m     \u001b[38;5;28mprint\u001b[39m(\u001b[38;5;124m\"\u001b[39m\u001b[38;5;124mPlease learn this concepts properly\u001b[39m\u001b[38;5;124m\"\u001b[39m)\n\u001b[1;32m----> 8\u001b[0m \u001b[38;5;28;01mreturn\u001b[39;00m \u001b[43msub_welcome_method\u001b[49m\u001b[43m(\u001b[49m\u001b[43m)\u001b[49m\n",
      "Cell \u001b[1;32mIn[24], line 6\u001b[0m, in \u001b[0;36mmain_welcome.<locals>.sub_welcome_method\u001b[1;34m()\u001b[0m\n\u001b[0;32m      4\u001b[0m \u001b[38;5;28;01mdef\u001b[39;00m\u001b[38;5;250m \u001b[39m\u001b[38;5;21msub_welcome_method\u001b[39m():\n\u001b[0;32m      5\u001b[0m     \u001b[38;5;28mprint\u001b[39m(\u001b[38;5;124m\"\u001b[39m\u001b[38;5;124mWelcome to the python course!\u001b[39m\u001b[38;5;124m\"\u001b[39m)\n\u001b[1;32m----> 6\u001b[0m     \u001b[38;5;28mprint\u001b[39m(\u001b[43mfunc\u001b[49m\u001b[43m(\u001b[49m\u001b[43m)\u001b[49m)\n\u001b[0;32m      7\u001b[0m     \u001b[38;5;28mprint\u001b[39m(\u001b[38;5;124m\"\u001b[39m\u001b[38;5;124mPlease learn this concepts properly\u001b[39m\u001b[38;5;124m\"\u001b[39m)\n",
      "\u001b[1;31mTypeError\u001b[0m: 'int' object is not callable"
     ]
    }
   ],
   "source": [
    "#closures\n",
    "def main_welcome(func):\n",
    "\n",
    "    def sub_welcome_method():\n",
    "        print(\"Welcome to the python course!\")\n",
    "        print(func())\n",
    "        print(\"Please learn this concepts properly\")\n",
    "    return sub_welcome_method()\n",
    "\n",
    "#test\n",
    "main_welcome(len([1,2,3,4]))"
   ]
  },
  {
   "cell_type": "code",
   "execution_count": 25,
   "id": "35082e5b",
   "metadata": {},
   "outputs": [
    {
     "name": "stdout",
     "output_type": "stream",
     "text": [
      "Welcome to the python course!\n",
      "4\n",
      "Please learn this concepts properly\n"
     ]
    }
   ],
   "source": [
    "#closures\n",
    "def main_welcome(func, lst):\n",
    "\n",
    "    def sub_welcome_method():\n",
    "        print(\"Welcome to the python course!\")\n",
    "        print(func(lst))\n",
    "        print(\"Please learn this concepts properly\")\n",
    "    return sub_welcome_method()\n",
    "\n",
    "#test\n",
    "main_welcome(len, [1,2,3,4])"
   ]
  },
  {
   "cell_type": "code",
   "execution_count": 29,
   "id": "8d807e4d",
   "metadata": {},
   "outputs": [
    {
     "name": "stdout",
     "output_type": "stream",
     "text": [
      "Welcome to the python course!\n",
      "This is an advance python course\n",
      "Please learn this concepts properly\n"
     ]
    }
   ],
   "source": [
    "#decorators\n",
    "\n",
    "def main_welcome(func):\n",
    "\n",
    "    def sub_welcome_method():\n",
    "        print(\"Welcome to the python course!\")\n",
    "        func()\n",
    "        print(\"Please learn this concepts properly\")\n",
    "    return sub_welcome_method()\n",
    "\n",
    "\n",
    "def course_introduction():\n",
    "    print(\"This is an advance python course\")\n",
    "\n",
    "#test\n",
    "main_welcome(course_introduction)"
   ]
  },
  {
   "cell_type": "code",
   "execution_count": null,
   "id": "247f17e3",
   "metadata": {},
   "outputs": [
    {
     "name": "stdout",
     "output_type": "stream",
     "text": [
      "Welcome to the python course!\n",
      "This is an advance python course\n",
      "Please learn this concepts properly\n"
     ]
    }
   ],
   "source": [
    "#decorators\n",
    "\n",
    "def main_welcome(func):\n",
    "\n",
    "    def sub_welcome_method():\n",
    "        print(\"Welcome to the python course!\")\n",
    "        func()\n",
    "        print(\"Please learn this concepts properly\")\n",
    "    return sub_welcome_method()\n",
    "\n",
    "@main_welcome\n",
    "def course_introduction():\n",
    "    print(\"This is an advance python course\")"
   ]
  },
  {
   "cell_type": "code",
   "execution_count": 4,
   "id": "45cbe610",
   "metadata": {},
   "outputs": [
    {
     "ename": "TypeError",
     "evalue": "'NoneType' object is not callable",
     "output_type": "error",
     "traceback": [
      "\u001b[1;31m---------------------------------------------------------------------------\u001b[0m",
      "\u001b[1;31mTypeError\u001b[0m                                 Traceback (most recent call last)",
      "Cell \u001b[1;32mIn[4], line 1\u001b[0m\n\u001b[1;32m----> 1\u001b[0m \u001b[43mcourse_introduction\u001b[49m\u001b[43m(\u001b[49m\u001b[43m)\u001b[49m\n",
      "\u001b[1;31mTypeError\u001b[0m: 'NoneType' object is not callable"
     ]
    }
   ],
   "source": [
    "course_introduction()"
   ]
  },
  {
   "cell_type": "code",
   "execution_count": 2,
   "id": "4d155088",
   "metadata": {},
   "outputs": [],
   "source": [
    "## Decorator\n",
    "\n",
    "def my_decorator(func):\n",
    "    def wrapper():\n",
    "        print(\"Something is happening before the function is called.\")\n",
    "        func()\n",
    "        print(\"Something is happening after the function is called.\")\n",
    "    return wrapper\n",
    "\n",
    "@my_decorator\n",
    "def say_hello():\n",
    "    print(\"Hello!\")"
   ]
  },
  {
   "cell_type": "code",
   "execution_count": 3,
   "id": "2429ca66",
   "metadata": {},
   "outputs": [
    {
     "name": "stdout",
     "output_type": "stream",
     "text": [
      "Something is happening before the function is called.\n",
      "Hello!\n",
      "Something is happening after the function is called.\n"
     ]
    }
   ],
   "source": [
    "say_hello()"
   ]
  },
  {
   "cell_type": "code",
   "execution_count": 7,
   "id": "c6d5b271",
   "metadata": {},
   "outputs": [
    {
     "name": "stdout",
     "output_type": "stream",
     "text": [
      "Welcome to the python course!\n",
      "This is an advance python course\n",
      "Please learn this concepts properly\n"
     ]
    }
   ],
   "source": [
    "#decorators\n",
    "\n",
    "def main_welcome(func):\n",
    "\n",
    "    def sub_welcome_method():\n",
    "        print(\"Welcome to the python course!\")\n",
    "        func()\n",
    "        print(\"Please learn this concepts properly\")\n",
    "    return sub_welcome_method\n",
    "\n",
    "@main_welcome\n",
    "def course_introduction():\n",
    "    print(\"This is an advance python course\")\n",
    "\n",
    "course_introduction()"
   ]
  },
  {
   "cell_type": "code",
   "execution_count": 9,
   "id": "d9c217b3",
   "metadata": {},
   "outputs": [
    {
     "name": "stdout",
     "output_type": "stream",
     "text": [
      "hello world!\n",
      "hello world!\n",
      "hello world!\n"
     ]
    }
   ],
   "source": [
    "# Decorator with argument\n",
    "def repeat(n):\n",
    "    def decorator(func):\n",
    "        def wrapper(*args, **kwargs):\n",
    "            for _ in range(n):\n",
    "                func(*args, **kwargs)\n",
    "        return wrapper\n",
    "    return decorator\n",
    "\n",
    "\n",
    "@repeat(3)\n",
    "def say_hello():\n",
    "    print(\"hello world!\")\n",
    "\n",
    "say_hello()"
   ]
  },
  {
   "cell_type": "markdown",
   "id": "cb80ac66",
   "metadata": {},
   "source": [
    "### Conclusion\n",
    "Decorators are a powerful tool in Python for extending and modifying the behavior of functions and methods. They provide a clean and readable way to add functionality such as logging, timing, access control, and more without changing the original code. Understanding and using decorators effectively can significantly enhance your Python programming skills."
   ]
  }
 ],
 "metadata": {
  "kernelspec": {
   "display_name": "Python 3",
   "language": "python",
   "name": "python3"
  },
  "language_info": {
   "codemirror_mode": {
    "name": "ipython",
    "version": 3
   },
   "file_extension": ".py",
   "mimetype": "text/x-python",
   "name": "python",
   "nbconvert_exporter": "python",
   "pygments_lexer": "ipython3",
   "version": "3.12.8"
  }
 },
 "nbformat": 4,
 "nbformat_minor": 5
}
