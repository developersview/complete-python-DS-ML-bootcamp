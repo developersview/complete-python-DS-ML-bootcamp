{
 "cells": [
  {
   "cell_type": "markdown",
   "metadata": {},
   "source": [
    "# Module: NumPy Assignments\n",
    "## Lesson: NumPy\n",
    "### Assignment 1: Array Creation and Manipulation\n",
    "\n",
    "1. Create a NumPy array of shape (5, 5) filled with random integers between 1 and 20. Replace all the elements in the third column with 1.\n",
    "2. Create a NumPy array of shape (4, 4) with values from 1 to 16. Replace the diagonal elements with 0.\n",
    "\n",
    "### Assignment 2: Array Indexing and Slicing\n",
    "\n",
    "1. Create a NumPy array of shape (6, 6) with values from 1 to 36. Extract the sub-array consisting of the 3rd to 5th rows and 2nd to 4th columns.\n",
    "2. Create a NumPy array of shape (5, 5) with random integers. Extract the elements on the border.\n",
    "\n",
    "### Assignment 3: Array Operations\n",
    "\n",
    "1. Create two NumPy arrays of shape (3, 4) filled with random integers. Perform element-wise addition, subtraction, multiplication, and division.\n",
    "2. Create a NumPy array of shape (4, 4) with values from 1 to 16. Compute the row-wise and column-wise sum.\n",
    "\n",
    "### Assignment 4: Statistical Operations\n",
    "\n",
    "1. Create a NumPy array of shape (5, 5) filled with random integers. Compute the mean, median, standard deviation, and variance of the array.\n",
    "2. Create a NumPy array of shape (3, 3) with values from 1 to 9. Normalize the array (i.e., scale the values to have a mean of 0 and a standard deviation of 1).\n",
    "\n",
    "### Assignment 5: Broadcasting\n",
    "\n",
    "1. Create a NumPy array of shape (3, 3) filled with random integers. Add a 1D array of shape (3,) to each row of the 2D array using broadcasting.\n",
    "2. Create a NumPy array of shape (4, 4) filled with random integers. Subtract a 1D array of shape (4,) from each column of the 2D array using broadcasting.\n",
    "\n",
    "### Assignment 6: Linear Algebra\n",
    "\n",
    "1. Create a NumPy array of shape (3, 3) representing a matrix. Compute its determinant, inverse, and eigenvalues.\n",
    "2. Create two NumPy arrays of shape (2, 3) and (3, 2). Perform matrix multiplication on these arrays.\n",
    "\n",
    "### Assignment 7: Advanced Array Manipulation\n",
    "\n",
    "1. Create a NumPy array of shape (3, 3) with values from 1 to 9. Reshape the array to shape (1, 9) and then to shape (9, 1).\n",
    "2. Create a NumPy array of shape (5, 5) filled with random integers. Flatten the array and then reshape it back to (5, 5).\n",
    "\n",
    "### Assignment 8: Fancy Indexing and Boolean Indexing\n",
    "\n",
    "1. Create a NumPy array of shape (5, 5) filled with random integers. Use fancy indexing to extract the elements at the corners of the array.\n",
    "2. Create a NumPy array of shape (4, 4) filled with random integers. Use boolean indexing to set all elements greater than 10 to 10.\n",
    "\n",
    "### Assignment 9: Structured Arrays\n",
    "\n",
    "1. Create a structured array with fields 'name' (string), 'age' (integer), and 'weight' (float). Add some data and sort the array by age.\n",
    "2. Create a structured array with fields 'x' and 'y' (both integers). Add some data and compute the Euclidean distance between each pair of points.\n",
    "\n",
    "### Assignment 10: Masked Arrays\n",
    "\n",
    "1. Create a masked array of shape (4, 4) with random integers and mask the elements greater than 10. Compute the sum of the unmasked elements.\n",
    "2. Create a masked array of shape (3, 3) with random integers and mask the diagonal elements. Replace the masked elements with the mean of the unmasked elements."
   ]
  },
  {
   "cell_type": "markdown",
   "id": "f9af4fb7",
   "metadata": {},
   "source": [
    "---------------------------------------------------------------------"
   ]
  },
  {
   "cell_type": "markdown",
   "id": "f9590686",
   "metadata": {},
   "source": [
    "\n",
    "#### Assignment 1: Array Creation and Manipulation\n",
    "1. Create a NumPy array of shape (5, 5) filled with random integers between 1 and 20. Replace all the elements in the third column with 1.\n",
    "2. Create a NumPy array of shape (4, 4) with values from 1 to 16. Replace the diagonal elements with 0.\n"
   ]
  },
  {
   "cell_type": "code",
   "execution_count": 2,
   "id": "e771693a",
   "metadata": {},
   "outputs": [
    {
     "name": "stdout",
     "output_type": "stream",
     "text": [
      "Orginal Array:\n",
      "[[18 18  2 19 16]\n",
      " [19  4  6 17  6]\n",
      " [ 5  1 10  4  5]\n",
      " [17 15 10 19  9]\n",
      " [16 20  5 18 19]]\n",
      "Modified Array:\n",
      "[[18 18  1 19 16]\n",
      " [19  4  1 17  6]\n",
      " [ 5  1  1  4  5]\n",
      " [17 15  1 19  9]\n",
      " [16 20  1 18 19]]\n"
     ]
    }
   ],
   "source": [
    "import numpy as np\n",
    "\n",
    "#task-1\n",
    "array = np.random.randint(1, 21, size=(5, 5))\n",
    "print(\"Orginal Array:\")\n",
    "print(array)\n",
    "\n",
    "array[:,2] = 1\n",
    "print(\"Modified Array:\")\n",
    "print(array)"
   ]
  },
  {
   "cell_type": "code",
   "execution_count": 3,
   "id": "a88c3d41",
   "metadata": {},
   "outputs": [
    {
     "name": "stdout",
     "output_type": "stream",
     "text": [
      "Orginal Array:\n",
      "[[ 1  2  3  4]\n",
      " [ 5  6  7  8]\n",
      " [ 9 10 11 12]\n",
      " [13 14 15 16]]\n",
      "Modified Array:\n",
      "[[ 0  2  3  4]\n",
      " [ 5  0  7  8]\n",
      " [ 9 10  0 12]\n",
      " [13 14 15  0]]\n"
     ]
    }
   ],
   "source": [
    "#task - 2\n",
    "array = np.arange(1,17).reshape(4,4)\n",
    "print(\"Orginal Array:\")\n",
    "print(array)\n",
    "\n",
    "np.fill_diagonal(array, 0)\n",
    "print(\"Modified Array:\")\n",
    "print(array)"
   ]
  },
  {
   "cell_type": "markdown",
   "id": "8bc238f7",
   "metadata": {},
   "source": [
    "#### Assignment 2: Array Indexing and Slicing\n",
    "1. Create a NumPy array of shape (6, 6) with values from 1 to 36. Extract the sub-array consisting of the 3rd to 5th rows and 2nd to 4th columns.\n",
    "2. Create a NumPy array of shape (5, 5) with random integers. Extract the elements on the border.\n"
   ]
  },
  {
   "cell_type": "code",
   "execution_count": 4,
   "id": "ec234d1d",
   "metadata": {},
   "outputs": [
    {
     "name": "stdout",
     "output_type": "stream",
     "text": [
      "Orginal Array:\n",
      "[[ 1  2  3  4  5  6]\n",
      " [ 7  8  9 10 11 12]\n",
      " [13 14 15 16 17 18]\n",
      " [19 20 21 22 23 24]\n",
      " [25 26 27 28 29 30]\n",
      " [31 32 33 34 35 36]]\n",
      "Sub-array:\n",
      "[[14 15 16]\n",
      " [20 21 22]\n",
      " [26 27 28]]\n"
     ]
    }
   ],
   "source": [
    "#Task 1\n",
    "array = np.arange(1,37).reshape(6,6)\n",
    "print(\"Orginal Array:\")\n",
    "print(array)\n",
    "\n",
    "sub_array = array[2:5, 1:4]\n",
    "print(\"Sub-array:\")\n",
    "print(sub_array)"
   ]
  },
  {
   "cell_type": "code",
   "execution_count": 5,
   "id": "acc47ff0",
   "metadata": {},
   "outputs": [
    {
     "name": "stdout",
     "output_type": "stream",
     "text": [
      "Orginal Array:\n",
      "[[79 19 72 90 13]\n",
      " [50 66 38 67 49]\n",
      " [77 62  4 75 49]\n",
      " [60 81 47 59 38]\n",
      " [65  9 92 49 17]]\n",
      "Border_elements:\n",
      "[79 19 72 90 13 65  9 92 49 17 50 77 60 49 49 38]\n"
     ]
    }
   ],
   "source": [
    "#Task 2\n",
    "array = np.random.randint(1, 100, size=(5,5))\n",
    "print(\"Orginal Array:\")\n",
    "print(array)\n",
    "\n",
    "border_elements = np.concatenate(\n",
    "    (array[0, :], array[-1, :], array[1:-1, 0], array[1:-1, -1])\n",
    ")\n",
    "print(\"Border_elements:\")\n",
    "print(border_elements)"
   ]
  },
  {
   "cell_type": "markdown",
   "id": "38264a25",
   "metadata": {},
   "source": [
    "\n",
    "#### Assignment 3: Array Operations\n",
    "1. Create two NumPy arrays of shape (3, 4) filled with random integers. Perform element-wise addition, subtraction, multiplication, and division.\n",
    "2. Create a NumPy array of shape (4, 4) with values from 1 to 16. Compute the row-wise and column-wise sum."
   ]
  },
  {
   "cell_type": "code",
   "execution_count": 6,
   "id": "e4d6b13b",
   "metadata": {},
   "outputs": [
    {
     "name": "stdout",
     "output_type": "stream",
     "text": [
      "Array 1:\n",
      "[[2 4 5 2]\n",
      " [3 6 5 1]\n",
      " [7 1 8 5]]\n",
      "Array 1:\n",
      "[[1 4 5 5]\n",
      " [3 1 6 2]\n",
      " [2 4 6 2]]\n",
      "Element wise addition:\n",
      "[[ 3  8 10  7]\n",
      " [ 6  7 11  3]\n",
      " [ 9  5 14  7]]\n",
      "Element wise subtraction:\n",
      "[[ 1  0  0 -3]\n",
      " [ 0  5 -1 -1]\n",
      " [ 5 -3  2  3]]\n",
      "Element wise multiplication:\n",
      "[[ 2 16 25 10]\n",
      " [ 9  6 30  2]\n",
      " [14  4 48 10]]\n",
      "Element wise division:\n",
      "[[2.         1.         1.         0.4       ]\n",
      " [1.         6.         0.83333333 0.5       ]\n",
      " [3.5        0.25       1.33333333 2.5       ]]\n"
     ]
    }
   ],
   "source": [
    "#Task 1\n",
    "array1 = np.random.randint(1, 9, size=(3,4))\n",
    "array2 = np.random.randint(1, 9, size=(3,4))\n",
    "print(\"Array 1:\")\n",
    "print(array1)\n",
    "print(\"Array 1:\")\n",
    "print(array2)\n",
    "\n",
    "addition = array1 + array2\n",
    "subtraction = array1 - array2\n",
    "multiplication = array1 * array2\n",
    "division = array1 / array2\n",
    "\n",
    "print(\"Element wise addition:\")\n",
    "print(addition)\n",
    "print(\"Element wise subtraction:\")\n",
    "print(subtraction)\n",
    "print(\"Element wise multiplication:\")\n",
    "print(multiplication)\n",
    "print(\"Element wise division:\")\n",
    "print(division)\n"
   ]
  },
  {
   "cell_type": "code",
   "execution_count": 7,
   "id": "d1abae06",
   "metadata": {},
   "outputs": [
    {
     "name": "stdout",
     "output_type": "stream",
     "text": [
      "Orginal Array:\n",
      "[[ 1  2  3  4]\n",
      " [ 5  6  7  8]\n",
      " [ 9 10 11 12]\n",
      " [13 14 15 16]]\n",
      "Row wise sum: [10 26 42 58]\n",
      "Column wise sum: [28 32 36 40]\n"
     ]
    }
   ],
   "source": [
    "#task 2\n",
    "array = np.arange(1, 17).reshape(4, 4)\n",
    "print(\"Orginal Array:\")\n",
    "print(array)\n",
    "\n",
    "row_sum = np.sum(array, axis=1)\n",
    "col_sum = np.sum(array, axis=0)\n",
    "\n",
    "print(f\"Row wise sum: {row_sum}\")\n",
    "print(f\"Column wise sum: {col_sum}\")"
   ]
  },
  {
   "cell_type": "markdown",
   "id": "52516348",
   "metadata": {},
   "source": [
    "#### Assignment 4: Statistical Operations\n",
    "1. Create a NumPy array of shape (5, 5) filled with random integers. Compute the mean, median, standard deviation, and variance of the array.\n",
    "2. Create a NumPy array of shape (3, 3) with values from 1 to 9. Normalize the array (i.e., scale the values to have a mean of 0 and a standard deviation of 1)."
   ]
  },
  {
   "cell_type": "code",
   "execution_count": 9,
   "id": "ce9c2229",
   "metadata": {},
   "outputs": [
    {
     "name": "stdout",
     "output_type": "stream",
     "text": [
      "Orginal Array:\n",
      "[[8 7 4 4 5]\n",
      " [7 7 6 4 1]\n",
      " [5 6 3 8 1]\n",
      " [6 5 7 3 3]\n",
      " [1 8 3 7 7]]\n",
      "Mean: 5.04\n",
      "Median: 5.0\n",
      "Standard Deviation: 2.199636333578803\n",
      "Variance: 4.838399999999999\n"
     ]
    }
   ],
   "source": [
    "#task 1\n",
    "array = np.random.randint(1, 9, size=(5,5))\n",
    "print(\"Orginal Array:\")\n",
    "print(array)\n",
    "\n",
    "mean = np.mean(array)\n",
    "median = np.median(array)\n",
    "std_dev = np.std(array)\n",
    "variance = np.var(array)\n",
    "\n",
    "print(\"Mean:\", mean)\n",
    "print(\"Median:\", median)\n",
    "print(\"Standard Deviation:\", std_dev)\n",
    "print(\"Variance:\", variance)"
   ]
  },
  {
   "cell_type": "code",
   "execution_count": 14,
   "id": "8f1f6233",
   "metadata": {},
   "outputs": [
    {
     "name": "stdout",
     "output_type": "stream",
     "text": [
      "Orginal Array:\n",
      "[[1 2 3]\n",
      " [4 5 6]\n",
      " [7 8 9]]\n",
      "Normalized array:\n",
      "[[-1.54919334 -1.161895   -0.77459667]\n",
      " [-0.38729833  0.          0.38729833]\n",
      " [ 0.77459667  1.161895    1.54919334]]\n"
     ]
    }
   ],
   "source": [
    "#task 2\n",
    "array = np.arange(1,10).reshape(3,3)\n",
    "print(\"Orginal Array:\")\n",
    "print(array)\n",
    "\n",
    "mean = np.mean(array)\n",
    "std_dev = np.std(array)\n",
    "normalizeed_array = (array - mean) / std_dev\n",
    "\n",
    "print(\"Normalized array:\")\n",
    "print(normalizeed_array)"
   ]
  },
  {
   "cell_type": "markdown",
   "id": "96beb44f",
   "metadata": {},
   "source": [
    "#### Assignment 5: Broadcasting\n",
    "1. Create a NumPy array of shape (3, 3) filled with random integers. Add a 1D array of shape (3,) to each row of the 2D array using broadcasting.\n",
    "2. Create a NumPy array of shape (4, 4) filled with random integers. Subtract a 1D array of shape (4,) from each column of the 2D array using broadcasting."
   ]
  },
  {
   "cell_type": "code",
   "execution_count": 17,
   "id": "ee280abe",
   "metadata": {},
   "outputs": [
    {
     "name": "stdout",
     "output_type": "stream",
     "text": [
      "Orginal Array:\n",
      "[[8 6 8]\n",
      " [8 1 1]\n",
      " [2 4 5]]\n",
      "Row Array: [2 7 1]\n",
      "Result array:\n",
      "[[10 13  9]\n",
      " [10  8  2]\n",
      " [ 4 11  6]]\n"
     ]
    }
   ],
   "source": [
    "#Task 1\n",
    "array = np.random.randint(1, 9, size=(3,3))\n",
    "print(\"Orginal Array:\")\n",
    "print(array)\n",
    "\n",
    "row_array = np.random.randint(1, 9, size=(3,))\n",
    "print(\"Row Array:\", row_array)\n",
    "\n",
    "print(\"Result array:\")\n",
    "print(array + row_array)"
   ]
  },
  {
   "cell_type": "code",
   "execution_count": 23,
   "id": "9a565809",
   "metadata": {},
   "outputs": [
    {
     "name": "stdout",
     "output_type": "stream",
     "text": [
      "Orginal Array:\n",
      "[[1 1 6 2]\n",
      " [4 1 3 5]\n",
      " [8 7 7 4]\n",
      " [3 3 6 1]]\n",
      "Row Array: [4 8 8 1]\n",
      "Result array:\n",
      "[[-3 -3  2 -2]\n",
      " [-4 -7 -5 -3]\n",
      " [ 0 -1 -1 -4]\n",
      " [ 2  2  5  0]]\n"
     ]
    }
   ],
   "source": [
    "#Task 1\n",
    "array = np.random.randint(1, 9, size=(4,4))\n",
    "print(\"Orginal Array:\")\n",
    "print(array)\n",
    "\n",
    "col_array = np.random.randint(1, 9, size=(4,))\n",
    "print(\"Row Array:\", col_array)\n",
    "\n",
    "print(\"Result array:\")\n",
    "print(array - col_array[:,np.newaxis])"
   ]
  },
  {
   "cell_type": "markdown",
   "id": "af0b2949",
   "metadata": {},
   "source": [
    "#### Assignment 6: Linear Algebra\n",
    "1. Create a NumPy array of shape (3, 3) representing a matrix. Compute its determinant, inverse, and eigenvalues.\n",
    "2. Create two NumPy arrays of shape (2, 3) and (3, 2). Perform matrix multiplication on these arrays."
   ]
  },
  {
   "cell_type": "code",
   "execution_count": 28,
   "id": "4ab5fcb5",
   "metadata": {},
   "outputs": [
    {
     "name": "stdout",
     "output_type": "stream",
     "text": [
      "Orginal Matrix:\n",
      "[[7 5 5]\n",
      " [2 1 3]\n",
      " [8 7 8]]\n",
      "Determinant: -20.99999999999999\n",
      "Inverse:\n",
      "[[ 0.61904762  0.23809524 -0.47619048]\n",
      " [-0.38095238 -0.76190476  0.52380952]\n",
      " [-0.28571429  0.42857143  0.14285714]]\n",
      "Eigenvalues: [15.91711218  1.19081435 -1.10792652]\n"
     ]
    }
   ],
   "source": [
    "#Task 1\n",
    "matrix = np.random.randint(1, 9, size=(3,3))\n",
    "print(\"Orginal Matrix:\")\n",
    "print(matrix)\n",
    "\n",
    "determinant = np.linalg.det(matrix)\n",
    "print(f\"Determinant: {determinant}\")\n",
    "\n",
    "inverse = np.linalg.inv(matrix)\n",
    "print(\"Inverse:\")\n",
    "print(inverse)\n",
    "\n",
    "eigenvalues = np.linalg.eigvals(matrix)\n",
    "print(f\"Eigenvalues: {eigenvalues}\")"
   ]
  },
  {
   "cell_type": "code",
   "execution_count": 30,
   "id": "6b93ff40",
   "metadata": {},
   "outputs": [
    {
     "name": "stdout",
     "output_type": "stream",
     "text": [
      "Matrix 1:\n",
      "[[3 3 2]\n",
      " [7 8 3]]\n",
      "Matrix 2:\n",
      "[[7 1]\n",
      " [5 4]\n",
      " [4 5]]\n",
      "Matrix multiplication result:\n",
      "[[ 44  25]\n",
      " [101  54]]\n"
     ]
    }
   ],
   "source": [
    "#Task 2\n",
    "matrix1 = np.random.randint(1, 9, size=(2,3))\n",
    "matrix2 = np.random.randint(1, 9, size=(3,2))\n",
    "print(\"Matrix 1:\")\n",
    "print(matrix1)\n",
    "print(\"Matrix 2:\")\n",
    "print(matrix2)\n",
    "\n",
    "result = np.dot(matrix1, matrix2)\n",
    "print(\"Matrix multiplication result:\")\n",
    "print(result)"
   ]
  },
  {
   "cell_type": "markdown",
   "id": "cace5944",
   "metadata": {},
   "source": [
    "#### Assignment 7: Advanced Array Manipulation\n",
    "1. Create a NumPy array of shape (3, 3) with values from 1 to 9. Reshape the array to shape (1, 9) and then to shape (9, 1).\n",
    "2. Create a NumPy array of shape (5, 5) filled with random integers. Flatten the array and then reshape it back to (5, 5)."
   ]
  },
  {
   "cell_type": "code",
   "execution_count": 35,
   "id": "b79316f3",
   "metadata": {},
   "outputs": [
    {
     "name": "stdout",
     "output_type": "stream",
     "text": [
      "Original array:\n",
      "[[1 2 3]\n",
      " [4 5 6]\n",
      " [7 8 9]]\n",
      "Reshaped array (1, 9):\n",
      "[[1 2 3 4 5 6 7 8 9]]\n",
      "Reshaped array (1, 9):\n",
      "[[1]\n",
      " [2]\n",
      " [3]\n",
      " [4]\n",
      " [5]\n",
      " [6]\n",
      " [7]\n",
      " [8]\n",
      " [9]]\n"
     ]
    }
   ],
   "source": [
    "array = np.arange(1, 10).reshape(3,3)\n",
    "print(\"Original array:\")\n",
    "print(array)\n",
    "\n",
    "reshaped_array_1 = array.reshape(1, 9)\n",
    "print(\"Reshaped array (1, 9):\")\n",
    "print(reshaped_array_1)\n",
    "\n",
    "reshaped_array_1 = array.reshape(9, 1)\n",
    "print(\"Reshaped array (1, 9):\")\n",
    "print(reshaped_array_1)"
   ]
  },
  {
   "cell_type": "code",
   "execution_count": 39,
   "id": "6e5edf03",
   "metadata": {},
   "outputs": [
    {
     "name": "stdout",
     "output_type": "stream",
     "text": [
      "Orginal Array:\n",
      "[[24 12 73 40 35]\n",
      " [38 73 53 26 81]\n",
      " [99 57 11 84 20]\n",
      " [75 14 65 96 94]\n",
      " [88 15 29  0 28]]\n",
      "Flattened Array: \n",
      "[24 12 73 40 35 38 73 53 26 81 99 57 11 84 20 75 14 65 96 94 88 15 29  0\n",
      " 28]\n",
      "Reshaped array:\n",
      "[[24 12 73 40 35]\n",
      " [38 73 53 26 81]\n",
      " [99 57 11 84 20]\n",
      " [75 14 65 96 94]\n",
      " [88 15 29  0 28]]\n"
     ]
    }
   ],
   "source": [
    "#task 2\n",
    "array = np.random.randint(0, 100, size=(5,5))\n",
    "print(\"Orginal Array:\")\n",
    "print(array)\n",
    "\n",
    "flattened_array = array.flatten()\n",
    "print(f\"Flattened Array: \\n{flattened_array}\")\n",
    "\n",
    "reshaped_array = flattened_array.reshape((5, 5))\n",
    "print(\"Reshaped array:\")\n",
    "print(reshaped_array)"
   ]
  },
  {
   "cell_type": "markdown",
   "id": "a0ac5be6",
   "metadata": {},
   "source": [
    "#### Assignment 8: Fancy Indexing and Boolean Indexing\n",
    "1. Create a NumPy array of shape (5, 5) filled with random integers. Use fancy indexing to extract the elements at the corners of the array.\n",
    "2. Create a NumPy array of shape (4, 4) filled with random integers. Use boolean indexing to set all elements greater than 10 to 10."
   ]
  },
  {
   "cell_type": "code",
   "execution_count": 49,
   "id": "2def2281",
   "metadata": {},
   "outputs": [
    {
     "name": "stdout",
     "output_type": "stream",
     "text": [
      "Orginal Array:\n",
      "[[7 7 4 7 1]\n",
      " [4 5 5 7 7]\n",
      " [6 5 0 5 4]\n",
      " [6 4 2 4 3]\n",
      " [6 3 3 1 7]]\n",
      "Corner elements:\n",
      "[7 1 6 7]\n"
     ]
    }
   ],
   "source": [
    "#Task 1\n",
    "array = np.random.randint(0, 9, size=(5,5))\n",
    "print(\"Orginal Array:\")\n",
    "print(array)\n",
    "\n",
    "corners = array[[0, 0, -1, -1], [0, -1, 0, -1]]\n",
    "print(\"Corner elements:\")\n",
    "print(corners)"
   ]
  },
  {
   "cell_type": "code",
   "execution_count": 53,
   "id": "4a0bb84c",
   "metadata": {},
   "outputs": [
    {
     "name": "stdout",
     "output_type": "stream",
     "text": [
      "Orginal Array:\n",
      "[[ 8 17  3 18]\n",
      " [16 12  4  4]\n",
      " [ 6  1  8 14]\n",
      " [17 13 11 14]]\n",
      "Modified Array:\n",
      "[[ 8 10  3 10]\n",
      " [10 10  4  4]\n",
      " [ 6  1  8 10]\n",
      " [10 10 10 10]]\n"
     ]
    }
   ],
   "source": [
    "#Task 2\n",
    "array = np.random.randint(1, 20, size=(4,4))\n",
    "print(\"Orginal Array:\")\n",
    "print(array)\n",
    "\n",
    "array[array > 10] = 10\n",
    "print(\"Modified Array:\")\n",
    "print(array)\n"
   ]
  },
  {
   "cell_type": "markdown",
   "id": "38813e82",
   "metadata": {},
   "source": [
    "#### Assignment 9: Structured Arrays\n",
    "1. Create a structured array with fields 'name' (string), 'age' (integer), and 'weight' (float). Add some data and sort the array by age.\n",
    "2. Create a structured array with fields 'x' and 'y' (both integers). Add some data and compute the Euclidean distance between each pair of points."
   ]
  },
  {
   "cell_type": "code",
   "execution_count": 56,
   "id": "d74ada74",
   "metadata": {},
   "outputs": [
    {
     "name": "stdout",
     "output_type": "stream",
     "text": [
      "Original array:\n",
      "[('Alice', 25, 55.5) ('Bob', 30, 85.3) ('Charlie', 20, 65.2)]\n",
      "Sorted array by age:\n",
      "[('Charlie', 20, 65.2) ('Alice', 25, 55.5) ('Bob', 30, 85.3)]\n"
     ]
    }
   ],
   "source": [
    "#task 1\n",
    "data_type = [('name', 'U10'), ('age', 'i4'), ('weight', 'f4')]\n",
    "data = np.array([('Alice', 25, 55.5), ('Bob', 30, 85.3), ('Charlie', 20, 65.2)], dtype=data_type)\n",
    "print(\"Original array:\")\n",
    "print(data)\n",
    "\n",
    "sorted_data = np.sort(data, order='age')\n",
    "print(\"Sorted array by age:\")\n",
    "print(sorted_data)"
   ]
  },
  {
   "cell_type": "code",
   "execution_count": 59,
   "id": "f1d03455",
   "metadata": {},
   "outputs": [
    {
     "name": "stdout",
     "output_type": "stream",
     "text": [
      "Original array:\n",
      "[(1, 2) (3, 4) (5, 6)]\n",
      "Euclidean distances:\n",
      "[[0.         2.82842712 5.65685425]\n",
      " [2.82842712 0.         2.82842712]\n",
      " [5.65685425 2.82842712 0.        ]]\n"
     ]
    }
   ],
   "source": [
    "#task 2\n",
    "data_type = [('x', 'i4'), ('y', 'i4')]\n",
    "data = np.array([(1, 2), (3, 4), (5, 6)], dtype=data_type)\n",
    "print(\"Original array:\")\n",
    "print(data)\n",
    "\n",
    "distances = np.sqrt((data['x'][:, np.newaxis] - data['x'])**2 + (data['y'][:, np.newaxis] - data['y'])**2)\n",
    "print(\"Euclidean distances:\")\n",
    "print(distances)"
   ]
  },
  {
   "cell_type": "markdown",
   "id": "d1ab1946",
   "metadata": {},
   "source": [
    "#### Assignment 10: Masked Arrays\n",
    "1. Create a masked array of shape (4, 4) with random integers and mask the elements greater than 10. Compute the sum of the unmasked elements.\n",
    "2. Create a masked array of shape (3, 3) with random integers and mask the diagonal elements. Replace the masked elements with the mean of the unmasked elements."
   ]
  },
  {
   "cell_type": "code",
   "execution_count": 65,
   "id": "634b8923",
   "metadata": {},
   "outputs": [
    {
     "name": "stdout",
     "output_type": "stream",
     "text": [
      "Original array:\n",
      "[[ 2  3 10  3]\n",
      " [20 16 20 12]\n",
      " [18 15 14 13]\n",
      " [18  8 11  1]]\n",
      "Masked array:\n",
      "[[2 3 10 3]\n",
      " [-- -- -- --]\n",
      " [-- -- -- --]\n",
      " [-- 8 -- 1]]\n",
      "Sum of unmasked elements: 27\n"
     ]
    }
   ],
   "source": [
    "#Task 1\n",
    "import numpy.ma as ma\n",
    "array = np.random.randint(1, 21, size=(4, 4))\n",
    "masked_array = ma.masked_greater(array, 10)\n",
    "print(\"Original array:\")\n",
    "print(array)\n",
    "print(\"Masked array:\")\n",
    "print(masked_array)\n",
    "\n",
    "sum_unmasked = masked_array.sum()\n",
    "print(\"Sum of unmasked elements:\", sum_unmasked)"
   ]
  },
  {
   "cell_type": "code",
   "execution_count": 68,
   "id": "6d6935f7",
   "metadata": {},
   "outputs": [
    {
     "name": "stdout",
     "output_type": "stream",
     "text": [
      "Original array:\n",
      "[[ 6  8 12]\n",
      " [13 13 14]\n",
      " [14  4 18]]\n",
      "Masked array:\n",
      "[[-- 8 12]\n",
      " [13 -- 14]\n",
      " [14 4 --]]\n",
      "Modified masked array:\n",
      "[[10  8 12]\n",
      " [13 10 14]\n",
      " [14  4 10]]\n"
     ]
    }
   ],
   "source": [
    "#Task 2\n",
    "array = np.random.randint(1, 21, size=(3, 3))\n",
    "masked_array = ma.masked_array(array, mask=np.eye(3))\n",
    "print(\"Original array:\")\n",
    "print(array)\n",
    "print(\"Masked array:\")\n",
    "print(masked_array)\n",
    "\n",
    "mean_unmasked = masked_array.mean()\n",
    "masked_array = masked_array.filled(mean_unmasked)\n",
    "print(\"Modified masked array:\")\n",
    "print(masked_array)"
   ]
  }
 ],
 "metadata": {
  "kernelspec": {
   "display_name": "Python 3",
   "language": "python",
   "name": "python3"
  },
  "language_info": {
   "codemirror_mode": {
    "name": "ipython",
    "version": 3
   },
   "file_extension": ".py",
   "mimetype": "text/x-python",
   "name": "python",
   "nbconvert_exporter": "python",
   "pygments_lexer": "ipython3",
   "version": "3.12.8"
  }
 },
 "nbformat": 4,
 "nbformat_minor": 5
}
