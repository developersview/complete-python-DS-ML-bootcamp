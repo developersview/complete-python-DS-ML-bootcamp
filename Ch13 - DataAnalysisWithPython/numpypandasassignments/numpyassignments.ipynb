{
 "cells": [
  {
   "cell_type": "markdown",
   "metadata": {},
   "source": [
    "# Module: NumPy Assignments\n",
    "## Lesson: NumPy\n",
    "### Assignment 1: Array Creation and Manipulation\n",
    "\n",
    "1. Create a NumPy array of shape (5, 5) filled with random integers between 1 and 20. Replace all the elements in the third column with 1.\n",
    "2. Create a NumPy array of shape (4, 4) with values from 1 to 16. Replace the diagonal elements with 0.\n",
    "\n",
    "### Assignment 2: Array Indexing and Slicing\n",
    "\n",
    "1. Create a NumPy array of shape (6, 6) with values from 1 to 36. Extract the sub-array consisting of the 3rd to 5th rows and 2nd to 4th columns.\n",
    "2. Create a NumPy array of shape (5, 5) with random integers. Extract the elements on the border.\n",
    "\n",
    "### Assignment 3: Array Operations\n",
    "\n",
    "1. Create two NumPy arrays of shape (3, 4) filled with random integers. Perform element-wise addition, subtraction, multiplication, and division.\n",
    "2. Create a NumPy array of shape (4, 4) with values from 1 to 16. Compute the row-wise and column-wise sum.\n",
    "\n",
    "### Assignment 4: Statistical Operations\n",
    "\n",
    "1. Create a NumPy array of shape (5, 5) filled with random integers. Compute the mean, median, standard deviation, and variance of the array.\n",
    "2. Create a NumPy array of shape (3, 3) with values from 1 to 9. Normalize the array (i.e., scale the values to have a mean of 0 and a standard deviation of 1).\n",
    "\n",
    "### Assignment 5: Broadcasting\n",
    "\n",
    "1. Create a NumPy array of shape (3, 3) filled with random integers. Add a 1D array of shape (3,) to each row of the 2D array using broadcasting.\n",
    "2. Create a NumPy array of shape (4, 4) filled with random integers. Subtract a 1D array of shape (4,) from each column of the 2D array using broadcasting.\n",
    "\n",
    "### Assignment 6: Linear Algebra\n",
    "\n",
    "1. Create a NumPy array of shape (3, 3) representing a matrix. Compute its determinant, inverse, and eigenvalues.\n",
    "2. Create two NumPy arrays of shape (2, 3) and (3, 2). Perform matrix multiplication on these arrays.\n",
    "\n",
    "### Assignment 7: Advanced Array Manipulation\n",
    "\n",
    "1. Create a NumPy array of shape (3, 3) with values from 1 to 9. Reshape the array to shape (1, 9) and then to shape (9, 1).\n",
    "2. Create a NumPy array of shape (5, 5) filled with random integers. Flatten the array and then reshape it back to (5, 5).\n",
    "\n",
    "### Assignment 8: Fancy Indexing and Boolean Indexing\n",
    "\n",
    "1. Create a NumPy array of shape (5, 5) filled with random integers. Use fancy indexing to extract the elements at the corners of the array.\n",
    "2. Create a NumPy array of shape (4, 4) filled with random integers. Use boolean indexing to set all elements greater than 10 to 10.\n",
    "\n",
    "### Assignment 9: Structured Arrays\n",
    "\n",
    "1. Create a structured array with fields 'name' (string), 'age' (integer), and 'weight' (float). Add some data and sort the array by age.\n",
    "2. Create a structured array with fields 'x' and 'y' (both integers). Add some data and compute the Euclidean distance between each pair of points.\n",
    "\n",
    "### Assignment 10: Masked Arrays\n",
    "\n",
    "1. Create a masked array of shape (4, 4) with random integers and mask the elements greater than 10. Compute the sum of the unmasked elements.\n",
    "2. Create a masked array of shape (3, 3) with random integers and mask the diagonal elements. Replace the masked elements with the mean of the unmasked elements."
   ]
  },
  {
   "cell_type": "markdown",
   "id": "f9af4fb7",
   "metadata": {},
   "source": [
    "---------------------------------------------------------------------"
   ]
  },
  {
   "cell_type": "markdown",
   "id": "f9590686",
   "metadata": {},
   "source": [
    "\n",
    "#### Assignment 1: Array Creation and Manipulation\n",
    "1. Create a NumPy array of shape (5, 5) filled with random integers between 1 and 20. Replace all the elements in the third column with 1.\n",
    "2. Create a NumPy array of shape (4, 4) with values from 1 to 16. Replace the diagonal elements with 0.\n"
   ]
  },
  {
   "cell_type": "code",
   "execution_count": null,
   "id": "e771693a",
   "metadata": {},
   "outputs": [
    {
     "name": "stdout",
     "output_type": "stream",
     "text": [
      "Orginal Array:\n",
      "[[ 6  4  6 12  3]\n",
      " [14 18 13  9 15]\n",
      " [14  4  5  9 10]\n",
      " [18 15  9 15 16]\n",
      " [20  1  2 14  7]]\n",
      "Modified Array:\n",
      "[[ 6  4  1 12  3]\n",
      " [14 18  1  9 15]\n",
      " [14  4  1  9 10]\n",
      " [18 15  1 15 16]\n",
      " [20  1  1 14  7]]\n"
     ]
    }
   ],
   "source": [
    "import numpy as np\n",
    "\n",
    "#task-1\n",
    "array = np.random.randint(1, 21, size=(5, 5))\n",
    "print(\"Orginal Array:\")\n",
    "print(array)\n",
    "\n",
    "array[:,2] = 1\n",
    "print(\"Modified Array:\")\n",
    "print(array)"
   ]
  },
  {
   "cell_type": "code",
   "execution_count": 25,
   "id": "a88c3d41",
   "metadata": {},
   "outputs": [
    {
     "name": "stdout",
     "output_type": "stream",
     "text": [
      "Orginal Array:\n",
      "[[ 1  2  3  4]\n",
      " [ 5  6  7  8]\n",
      " [ 9 10 11 12]\n",
      " [13 14 15 16]]\n",
      "Modified Array:\n",
      "[[ 0  2  3  4]\n",
      " [ 5  0  7  8]\n",
      " [ 9 10  0 12]\n",
      " [13 14 15  0]]\n"
     ]
    }
   ],
   "source": [
    "#task - 2\n",
    "array = np.arange(1,17).reshape(4,4)\n",
    "print(\"Orginal Array:\")\n",
    "print(array)\n",
    "\n",
    "np.fill_diagonal(array, 0)\n",
    "print(\"Modified Array:\")\n",
    "print(array)"
   ]
  },
  {
   "cell_type": "markdown",
   "id": "8bc238f7",
   "metadata": {},
   "source": [
    "#### Assignment 2: Array Indexing and Slicing\n",
    "1. Create a NumPy array of shape (6, 6) with values from 1 to 36. Extract the sub-array consisting of the 3rd to 5th rows and 2nd to 4th columns.\n",
    "2. Create a NumPy array of shape (5, 5) with random integers. Extract the elements on the border.\n"
   ]
  },
  {
   "cell_type": "code",
   "execution_count": 27,
   "id": "ec234d1d",
   "metadata": {},
   "outputs": [
    {
     "name": "stdout",
     "output_type": "stream",
     "text": [
      "Orginal Array:\n",
      "[[ 1  2  3  4  5  6]\n",
      " [ 7  8  9 10 11 12]\n",
      " [13 14 15 16 17 18]\n",
      " [19 20 21 22 23 24]\n",
      " [25 26 27 28 29 30]\n",
      " [31 32 33 34 35 36]]\n",
      "Sub-array:\n",
      "[[14 15 16]\n",
      " [20 21 22]\n",
      " [26 27 28]]\n"
     ]
    }
   ],
   "source": [
    "#Task 1\n",
    "array = np.arange(1,37).reshape(6,6)\n",
    "print(\"Orginal Array:\")\n",
    "print(array)\n",
    "\n",
    "sub_array = array[2:5, 1:4]\n",
    "print(\"Sub-array:\")\n",
    "print(sub_array)"
   ]
  },
  {
   "cell_type": "code",
   "execution_count": 28,
   "id": "acc47ff0",
   "metadata": {},
   "outputs": [
    {
     "name": "stdout",
     "output_type": "stream",
     "text": [
      "Orginal Array:\n",
      "[[56 13 31 67 22]\n",
      " [99 32 34 43 91]\n",
      " [91 30 82 39 77]\n",
      " [89 60 46 21 15]\n",
      " [71 70 67  6 29]]\n",
      "Border_elements:\n",
      "[56 13 31 67 22 71 70 67  6 29 99 91 89 91 77 15]\n"
     ]
    }
   ],
   "source": [
    "#Task 2\n",
    "array = np.random.randint(1, 100, size=(5,5))\n",
    "print(\"Orginal Array:\")\n",
    "print(array)\n",
    "\n",
    "border_elements = np.concatenate(\n",
    "    (array[0, :], array[-1, :], array[1:-1, 0], array[1:-1, -1])\n",
    ")\n",
    "print(\"Border_elements:\")\n",
    "print(border_elements)"
   ]
  },
  {
   "cell_type": "markdown",
   "id": "38264a25",
   "metadata": {},
   "source": [
    "\n",
    "#### Assignment 3: Array Operations\n",
    "1. Create two NumPy arrays of shape (3, 4) filled with random integers. Perform element-wise addition, subtraction, multiplication, and division.\n",
    "2. Create a NumPy array of shape (4, 4) with values from 1 to 16. Compute the row-wise and column-wise sum."
   ]
  },
  {
   "cell_type": "code",
   "execution_count": 34,
   "id": "e4d6b13b",
   "metadata": {},
   "outputs": [
    {
     "name": "stdout",
     "output_type": "stream",
     "text": [
      "Array 1:\n",
      "[[3 5 3 4]\n",
      " [1 1 5 4]\n",
      " [2 4 6 2]]\n",
      "Array 1:\n",
      "[[1 5 4 1]\n",
      " [8 7 1 7]\n",
      " [7 4 4 4]]\n",
      "Element wise addition:\n",
      "[[ 4 10  7  5]\n",
      " [ 9  8  6 11]\n",
      " [ 9  8 10  6]]\n",
      "Element wise subtraction:\n",
      "[[ 2  0 -1  3]\n",
      " [-7 -6  4 -3]\n",
      " [-5  0  2 -2]]\n",
      "Element wise multiplication:\n",
      "[[ 3 25 12  4]\n",
      " [ 8  7  5 28]\n",
      " [14 16 24  8]]\n",
      "Element wise division:\n",
      "[[3.         1.         0.75       4.        ]\n",
      " [0.125      0.14285714 5.         0.57142857]\n",
      " [0.28571429 1.         1.5        0.5       ]]\n"
     ]
    }
   ],
   "source": [
    "#Task 1\n",
    "array1 = np.random.randint(1, 9, size=(3,4))\n",
    "array2 = np.random.randint(1, 9, size=(3,4))\n",
    "print(\"Array 1:\")\n",
    "print(array1)\n",
    "print(\"Array 1:\")\n",
    "print(array2)\n",
    "\n",
    "addition = array1 + array2\n",
    "subtraction = array1 - array2\n",
    "multiplication = array1 * array2\n",
    "division = array1 / array2\n",
    "\n",
    "print(\"Element wise addition:\")\n",
    "print(addition)\n",
    "print(\"Element wise subtraction:\")\n",
    "print(subtraction)\n",
    "print(\"Element wise multiplication:\")\n",
    "print(multiplication)\n",
    "print(\"Element wise division:\")\n",
    "print(division)\n"
   ]
  },
  {
   "cell_type": "code",
   "execution_count": 36,
   "id": "d1abae06",
   "metadata": {},
   "outputs": [
    {
     "name": "stdout",
     "output_type": "stream",
     "text": [
      "Orginal Array:\n",
      "[[ 1  2  3  4]\n",
      " [ 5  6  7  8]\n",
      " [ 9 10 11 12]\n",
      " [13 14 15 16]]\n",
      "Row wise sum: [10 26 42 58]\n",
      "Column wise sum: [28 32 36 40]\n"
     ]
    }
   ],
   "source": [
    "#task 2\n",
    "array = np.arange(1, 17).reshape(4, 4)\n",
    "print(\"Orginal Array:\")\n",
    "print(array)\n",
    "\n",
    "row_sum = np.sum(array, axis=1)\n",
    "col_sum = np.sum(array, axis=0)\n",
    "\n",
    "print(f\"Row wise sum: {row_sum}\")\n",
    "print(f\"Column wise sum: {col_sum}\")"
   ]
  },
  {
   "cell_type": "code",
   "execution_count": null,
   "id": "ce9c2229",
   "metadata": {},
   "outputs": [],
   "source": []
  }
 ],
 "metadata": {
  "kernelspec": {
   "display_name": "Python 3",
   "language": "python",
   "name": "python3"
  },
  "language_info": {
   "codemirror_mode": {
    "name": "ipython",
    "version": 3
   },
   "file_extension": ".py",
   "mimetype": "text/x-python",
   "name": "python",
   "nbconvert_exporter": "python",
   "pygments_lexer": "ipython3",
   "version": "3.12.8"
  }
 },
 "nbformat": 4,
 "nbformat_minor": 5
}
