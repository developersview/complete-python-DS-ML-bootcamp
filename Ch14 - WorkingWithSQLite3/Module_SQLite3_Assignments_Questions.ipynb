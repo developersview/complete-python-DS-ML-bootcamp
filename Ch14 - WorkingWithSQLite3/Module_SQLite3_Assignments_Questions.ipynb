{
 "cells": [
  {
   "cell_type": "markdown",
   "id": "964cf61d",
   "metadata": {},
   "source": [
    "# Module: SQLite3 Assignments\n",
    "## Lesson: SQLite3\n",
    "### Assignment 1: Creating and Connecting to a Database\n",
    "\n",
    "1. Write a Python function to create a new SQLite3 database named `test.db`.\n",
    "2. Write a Python function to create a table named `employees` with columns `id` (integer), `name` (text), `age` (integer), and `department` (text) in the `test.db` database.\n",
    "\n",
    "### Assignment 2: Inserting Data\n",
    "\n",
    "1. Write a Python function to insert a new employee into the `employees` table.\n",
    "2. Insert at least 5 different employees into the `employees` table.\n",
    "\n",
    "### Assignment 3: Querying Data\n",
    "\n",
    "1. Write a Python function to fetch and display all records from the `employees` table.\n",
    "2. Write a Python function to fetch and display all employees from a specific department.\n",
    "\n",
    "### Assignment 4: Updating Data\n",
    "\n",
    "1. Write a Python function to update the department of an employee based on their `id`.\n",
    "2. Update the department of at least 2 employees and display the updated records.\n",
    "\n",
    "### Assignment 5: Deleting Data\n",
    "\n",
    "1. Write a Python function to delete an employee from the `employees` table based on their `id`.\n",
    "2. Delete at least 1 employee and display the remaining records.\n",
    "\n",
    "### Assignment 6: Advanced Queries\n",
    "\n",
    "1. Write a Python function to fetch and display employees older than a certain age.\n",
    "2. Write a Python function to fetch and display employees whose names start with a specific letter.\n",
    "\n",
    "### Assignment 7: Handling Transactions\n",
    "\n",
    "1. Write a Python function to insert multiple employees into the `employees` table in a single transaction. Ensure that if any insertion fails, none of the insertions are committed.\n",
    "2. Write a Python function to update the age of multiple employees in a single transaction. Ensure that if any update fails, none of the updates are committed.\n",
    "\n",
    "### Assignment 8: Creating Relationships\n",
    "\n",
    "1. Create a new table named `departments` with columns `id` (integer) and `name` (text).\n",
    "2. Modify the `employees` table to include a foreign key referencing the `id` column in the `departments` table.\n",
    "3. Write a Python function to insert data into both the `departments` and `employees` tables, ensuring referential integrity.\n",
    "\n",
    "### Assignment 9: Indexing and Optimization\n",
    "\n",
    "1. Create an index on the `name` column of the `employees` table.\n",
    "2. Write a Python function to fetch and display all employees whose names start with a specific letter. Compare the performance with and without the index.\n",
    "\n",
    "### Assignment 10: Backing Up and Restoring Data\n",
    "\n",
    "1. Write a Python function to back up the `test.db` database to a file named `backup.db`.\n",
    "2. Write a Python function to restore the `test.db` database from the `backup.db` file."
   ]
  },
  {
   "cell_type": "markdown",
   "id": "07de1c44",
   "metadata": {},
   "source": [
    "---------------------------------------------------------------------"
   ]
  },
  {
   "cell_type": "code",
   "execution_count": 1,
   "id": "ebc3c1b1",
   "metadata": {},
   "outputs": [],
   "source": [
    "import sqlite3"
   ]
  },
  {
   "cell_type": "markdown",
   "id": "d2c3e35d",
   "metadata": {},
   "source": [
    "#### Assignment 1: Creating and Connecting to a Database\n",
    "\n",
    "1. Write a Python function to create a new SQLite3 database named `test.db`.\n",
    "2. Write a Python function to create a table named `employees` with columns `id` (integer), `name` (text), `age` (integer), and `department` (text) in the `test.db` database."
   ]
  },
  {
   "cell_type": "code",
   "execution_count": 2,
   "id": "20ea16c2",
   "metadata": {},
   "outputs": [
    {
     "name": "stdout",
     "output_type": "stream",
     "text": [
      "Database has been created and connected successfully\n",
      "Database connection close\n"
     ]
    }
   ],
   "source": [
    "#Task 1\n",
    "def create_connection(conn_name):\n",
    "    conn = sqlite3.connect(conn_name)\n",
    "    print(\"Database has been created and connected successfully\")\n",
    "    conn.close()\n",
    "    print(\"Database connection close\")\n",
    "\n",
    "create_connection('test.db')"
   ]
  },
  {
   "cell_type": "code",
   "execution_count": 3,
   "id": "8b552598",
   "metadata": {},
   "outputs": [
    {
     "name": "stdout",
     "output_type": "stream",
     "text": [
      "Table 'employees' created successfully.\n",
      "\n"
     ]
    }
   ],
   "source": [
    "#Task 2\n",
    "def create_table():\n",
    "    conn = sqlite3.connect('test.db')\n",
    "    cursor = conn.cursor()\n",
    "    cursor.execute(\n",
    "        '''\n",
    "        CREATE TABLE IF NOT EXISTS employees(\n",
    "            id INTEGER PRIMARY KEY,\n",
    "            name TEXT NOT NULL,\n",
    "            age INTEGER,\n",
    "            department TEXT\n",
    "        )\n",
    "        '''\n",
    "    )\n",
    "    conn.commit()\n",
    "    conn.close()\n",
    "    print(\"Table 'employees' created successfully.\")\n",
    "\n",
    "create_table()"
   ]
  },
  {
   "cell_type": "markdown",
   "id": "e7d2db33",
   "metadata": {},
   "source": [
    "#### Assignment 2: Inserting Data\n",
    "\n",
    "1. Write a Python function to insert a new employee into the `employees` table.\n",
    "2. Insert at least 5 different employees into the `employees` table."
   ]
  },
  {
   "cell_type": "code",
   "execution_count": 4,
   "id": "c03bef7f",
   "metadata": {},
   "outputs": [],
   "source": [
    "#Task 1\n",
    "def insert_employee(id, name, age, department):\n",
    "    conn = sqlite3.connect('test.db')\n",
    "    cursor = conn.cursor()\n",
    "    cursor.execute(\n",
    "        ''' \n",
    "        INSERT INTO employees (id, name, age, department)\n",
    "        VALUES (?, ?, ?, ?)\n",
    "        ''', (id, name, age, department)\n",
    "    )\n",
    "    conn.commit()\n",
    "    conn.close()"
   ]
  },
  {
   "cell_type": "code",
   "execution_count": 5,
   "id": "d804487e",
   "metadata": {},
   "outputs": [
    {
     "name": "stdout",
     "output_type": "stream",
     "text": [
      "Table 'employees' created successfully.\n"
     ]
    }
   ],
   "source": [
    "#Task 2\n",
    "create_table()\n",
    "insert_employee(1, 'Pranoy', 26, 'Data Science')\n",
    "insert_employee(2, 'Bob', 25, 'Engineering')\n",
    "insert_employee(3, 'Charlie', 28, 'Sales')\n",
    "insert_employee(4, 'David', 35, 'Marketing')\n",
    "insert_employee(5, 'Eve', 22, 'HR')"
   ]
  },
  {
   "cell_type": "markdown",
   "id": "0c6a6194",
   "metadata": {},
   "source": [
    "#### Assignment 3: Querying Data\n",
    "\n",
    "1. Write a Python function to fetch and display all records from the `employees` table.\n",
    "2. Write a Python function to fetch and display all employees from a specific department."
   ]
  },
  {
   "cell_type": "code",
   "execution_count": 11,
   "id": "c4b11e2f",
   "metadata": {},
   "outputs": [
    {
     "name": "stdout",
     "output_type": "stream",
     "text": [
      "(1, 'Pranoy Chakraborty', 27, 'Data Science')\n",
      "(2, 'Bob', 25, 'Engineering')\n",
      "(3, 'Charlie', 28, 'Sales')\n",
      "(4, 'David', 35, 'Marketing')\n",
      "(5, 'Eve', 22, 'HR')\n"
     ]
    }
   ],
   "source": [
    "#Task 1\n",
    "def fetch_data():\n",
    "    conn = sqlite3.connect('test.db')\n",
    "    cursor = conn.cursor()\n",
    "    cursor.execute(\n",
    "        '''\n",
    "        SELECT * FROM employees\n",
    "        '''\n",
    "    )\n",
    "    rows = cursor.fetchall()\n",
    "    for row in rows:\n",
    "        print(row)\n",
    "    conn.close()\n",
    "\n",
    "fetch_data()"
   ]
  },
  {
   "cell_type": "code",
   "execution_count": 14,
   "id": "3e9abd92",
   "metadata": {},
   "outputs": [
    {
     "name": "stdout",
     "output_type": "stream",
     "text": [
      "(1, 'Pranoy Chakraborty', 27, 'Data Science')\n"
     ]
    }
   ],
   "source": [
    "#Task 2\n",
    "def fetch_data_by_department(department):\n",
    "    conn = sqlite3.connect('test.db')\n",
    "    cursor = conn.cursor()\n",
    "    cursor.execute(\n",
    "        '''\n",
    "        SELECT * FROM employees\n",
    "        WHERE department = ?\n",
    "        ''', (department,) #passed as a tuple\n",
    "    )\n",
    "    rows = cursor.fetchall()\n",
    "    for row in rows:\n",
    "        print(row)\n",
    "    conn.close()\n",
    "\n",
    "fetch_data_by_department('Data Science')"
   ]
  },
  {
   "cell_type": "markdown",
   "id": "a8e4d2d3",
   "metadata": {},
   "source": [
    "#### Assignment 4: Updating Data\n",
    "\n",
    "1. Write a Python function to update the department of an employee based on their `id`.\n",
    "2. Update the department of at least 2 employees and display the updated records.\n"
   ]
  },
  {
   "cell_type": "code",
   "execution_count": null,
   "id": "a920fecb",
   "metadata": {},
   "outputs": [
    {
     "name": "stdout",
     "output_type": "stream",
     "text": [
      "(1, 'Pranoy Chakraborty', 26, 'Data Science')\n",
      "(2, 'Bob', 25, 'Engineering')\n",
      "(3, 'Charlie', 28, 'Sales')\n",
      "(4, 'David', 35, 'Marketing')\n",
      "(5, 'Eve', 22, 'HR')\n"
     ]
    }
   ],
   "source": [
    "#Task 1\n",
    "def update_employee(id, name, age, department):\n",
    "    conn = sqlite3.connect('test.db', timeout=10)  # Added timeout to handle locked database\n",
    "    cursor = conn.cursor()\n",
    "    cursor.execute(\n",
    "        '''\n",
    "        UPDATE employees\n",
    "        SET name = ?, age = ?, department = ?\n",
    "        WHERE id = ?\n",
    "        ''', (name, age, department, id)\n",
    "    )\n",
    "    conn.commit()\n",
    "    conn.close()\n",
    "\n",
    "update_employee(1, 'Pranoy Chakraborty', 26, 'Data Science')\n",
    "fetch_data()"
   ]
  },
  {
   "cell_type": "code",
   "execution_count": 17,
   "id": "832dc824",
   "metadata": {},
   "outputs": [
    {
     "name": "stdout",
     "output_type": "stream",
     "text": [
      "(1, 'Pranoy Chakraborty', 26, 'Data Science')\n",
      "(2, 'Bob Smith', 26, 'Engineering')\n",
      "(3, 'Charlie Brown', 29, 'Design')\n",
      "(4, 'David', 35, 'Marketing')\n",
      "(5, 'Eve', 22, 'HR')\n"
     ]
    }
   ],
   "source": [
    "#Task 2\n",
    "update_employee(2, 'Bob Smith', 26, 'Engineering')\n",
    "update_employee(3, 'Charlie Brown', 29, 'Design')\n",
    "fetch_data()"
   ]
  },
  {
   "cell_type": "code",
   "execution_count": null,
   "id": "98b9f607",
   "metadata": {},
   "outputs": [],
   "source": []
  }
 ],
 "metadata": {
  "kernelspec": {
   "display_name": "Python 3",
   "language": "python",
   "name": "python3"
  },
  "language_info": {
   "codemirror_mode": {
    "name": "ipython",
    "version": 3
   },
   "file_extension": ".py",
   "mimetype": "text/x-python",
   "name": "python",
   "nbconvert_exporter": "python",
   "pygments_lexer": "ipython3",
   "version": "3.12.8"
  }
 },
 "nbformat": 4,
 "nbformat_minor": 5
}
