{
 "cells": [
  {
   "cell_type": "markdown",
   "id": "964cf61d",
   "metadata": {},
   "source": [
    "# Module: SQLite3 Assignments\n",
    "## Lesson: SQLite3\n",
    "### Assignment 1: Creating and Connecting to a Database\n",
    "\n",
    "1. Write a Python function to create a new SQLite3 database named `test.db`.\n",
    "2. Write a Python function to create a table named `employees` with columns `id` (integer), `name` (text), `age` (integer), and `department` (text) in the `test.db` database.\n",
    "\n",
    "### Assignment 2: Inserting Data\n",
    "\n",
    "1. Write a Python function to insert a new employee into the `employees` table.\n",
    "2. Insert at least 5 different employees into the `employees` table.\n",
    "\n",
    "### Assignment 3: Querying Data\n",
    "\n",
    "1. Write a Python function to fetch and display all records from the `employees` table.\n",
    "2. Write a Python function to fetch and display all employees from a specific department.\n",
    "\n",
    "### Assignment 4: Updating Data\n",
    "\n",
    "1. Write a Python function to update the department of an employee based on their `id`.\n",
    "2. Update the department of at least 2 employees and display the updated records.\n",
    "\n",
    "### Assignment 5: Deleting Data\n",
    "\n",
    "1. Write a Python function to delete an employee from the `employees` table based on their `id`.\n",
    "2. Delete at least 1 employee and display the remaining records.\n",
    "\n",
    "### Assignment 6: Advanced Queries\n",
    "\n",
    "1. Write a Python function to fetch and display employees older than a certain age.\n",
    "2. Write a Python function to fetch and display employees whose names start with a specific letter.\n",
    "\n",
    "### Assignment 7: Handling Transactions\n",
    "\n",
    "1. Write a Python function to insert multiple employees into the `employees` table in a single transaction. Ensure that if any insertion fails, none of the insertions are committed.\n",
    "2. Write a Python function to update the age of multiple employees in a single transaction. Ensure that if any update fails, none of the updates are committed.\n",
    "\n",
    "### Assignment 8: Creating Relationships\n",
    "\n",
    "1. Create a new table named `departments` with columns `id` (integer) and `name` (text).\n",
    "2. Modify the `employees` table to include a foreign key referencing the `id` column in the `departments` table.\n",
    "3. Write a Python function to insert data into both the `departments` and `employees` tables, ensuring referential integrity.\n",
    "\n",
    "### Assignment 9: Indexing and Optimization\n",
    "\n",
    "1. Create an index on the `name` column of the `employees` table.\n",
    "2. Write a Python function to fetch and display all employees whose names start with a specific letter. Compare the performance with and without the index.\n",
    "\n",
    "### Assignment 10: Backing Up and Restoring Data\n",
    "\n",
    "1. Write a Python function to back up the `test.db` database to a file named `backup.db`.\n",
    "2. Write a Python function to restore the `test.db` database from the `backup.db` file."
   ]
  },
  {
   "cell_type": "markdown",
   "id": "07de1c44",
   "metadata": {},
   "source": [
    "---------------------------------------------------------------------"
   ]
  },
  {
   "cell_type": "code",
   "execution_count": 1,
   "id": "ebc3c1b1",
   "metadata": {},
   "outputs": [],
   "source": [
    "import sqlite3"
   ]
  },
  {
   "cell_type": "markdown",
   "id": "d2c3e35d",
   "metadata": {},
   "source": [
    "#### Assignment 1: Creating and Connecting to a Database\n",
    "\n",
    "1. Write a Python function to create a new SQLite3 database named `test.db`.\n",
    "2. Write a Python function to create a table named `employees` with columns `id` (integer), `name` (text), `age` (integer), and `department` (text) in the `test.db` database."
   ]
  },
  {
   "cell_type": "code",
   "execution_count": 2,
   "id": "20ea16c2",
   "metadata": {},
   "outputs": [
    {
     "name": "stdout",
     "output_type": "stream",
     "text": [
      "Database has been created and connected successfully\n",
      "Database connection close\n"
     ]
    }
   ],
   "source": [
    "#Task 1\n",
    "def create_connection(conn_name):\n",
    "    conn = sqlite3.connect(conn_name)\n",
    "    print(\"Database has been created and connected successfully\")\n",
    "    conn.close()\n",
    "    print(\"Database connection close\")\n",
    "\n",
    "create_connection('test.db')"
   ]
  },
  {
   "cell_type": "code",
   "execution_count": 3,
   "id": "8b552598",
   "metadata": {},
   "outputs": [
    {
     "name": "stdout",
     "output_type": "stream",
     "text": [
      "Table 'employees' created successfully.\n",
      "\n"
     ]
    }
   ],
   "source": [
    "#Task 2\n",
    "def create_table():\n",
    "    conn = sqlite3.connect('test.db')\n",
    "    cursor = conn.cursor()\n",
    "    cursor.execute(\n",
    "        '''\n",
    "        CREATE TABLE IF NOT EXISTS employees(\n",
    "            id INTEGER PRIMARY KEY,\n",
    "            name TEXT NOT NULL,\n",
    "            age INTEGER,\n",
    "            department TEXT\n",
    "        )\n",
    "        '''\n",
    "    )\n",
    "    conn.commit()\n",
    "    conn.close()\n",
    "    print(\"Table 'employees' created successfully.\")\n",
    "\n",
    "create_table()"
   ]
  },
  {
   "cell_type": "markdown",
   "id": "e7d2db33",
   "metadata": {},
   "source": [
    "#### Assignment 2: Inserting Data\n",
    "\n",
    "1. Write a Python function to insert a new employee into the `employees` table.\n",
    "2. Insert at least 5 different employees into the `employees` table."
   ]
  },
  {
   "cell_type": "code",
   "execution_count": 4,
   "id": "c03bef7f",
   "metadata": {},
   "outputs": [],
   "source": [
    "#Task 1\n",
    "def insert_employee(id, name, age, department):\n",
    "    conn = sqlite3.connect('test.db')\n",
    "    cursor = conn.cursor()\n",
    "    cursor.execute(\n",
    "        ''' \n",
    "        INSERT INTO employees (id, name, age, department)\n",
    "        VALUES (?, ?, ?, ?)\n",
    "        ''', (id, name, age, department)\n",
    "    )\n",
    "    conn.commit()\n",
    "    conn.close()"
   ]
  },
  {
   "cell_type": "code",
   "execution_count": 5,
   "id": "d804487e",
   "metadata": {},
   "outputs": [
    {
     "name": "stdout",
     "output_type": "stream",
     "text": [
      "Table 'employees' created successfully.\n"
     ]
    }
   ],
   "source": [
    "#Task 2\n",
    "create_table()\n",
    "insert_employee(1, 'Pranoy', 26, 'Data Science')\n",
    "insert_employee(2, 'Bob', 25, 'Engineering')\n",
    "insert_employee(3, 'Charlie', 28, 'Sales')\n",
    "insert_employee(4, 'David', 35, 'Marketing')\n",
    "insert_employee(5, 'Eve', 22, 'HR')"
   ]
  },
  {
   "cell_type": "markdown",
   "id": "0c6a6194",
   "metadata": {},
   "source": [
    "#### Assignment 3: Querying Data\n",
    "\n",
    "1. Write a Python function to fetch and display all records from the `employees` table.\n",
    "2. Write a Python function to fetch and display all employees from a specific department."
   ]
  },
  {
   "cell_type": "code",
   "execution_count": 11,
   "id": "c4b11e2f",
   "metadata": {},
   "outputs": [
    {
     "name": "stdout",
     "output_type": "stream",
     "text": [
      "(1, 'Pranoy Chakraborty', 27, 'Data Science')\n",
      "(2, 'Bob', 25, 'Engineering')\n",
      "(3, 'Charlie', 28, 'Sales')\n",
      "(4, 'David', 35, 'Marketing')\n",
      "(5, 'Eve', 22, 'HR')\n"
     ]
    }
   ],
   "source": [
    "#Task 1\n",
    "def fetch_data():\n",
    "    conn = sqlite3.connect('test.db')\n",
    "    cursor = conn.cursor()\n",
    "    cursor.execute(\n",
    "        '''\n",
    "        SELECT * FROM employees\n",
    "        '''\n",
    "    )\n",
    "    rows = cursor.fetchall()\n",
    "    for row in rows:\n",
    "        print(row)\n",
    "    conn.close()\n",
    "\n",
    "fetch_data()"
   ]
  },
  {
   "cell_type": "code",
   "execution_count": 14,
   "id": "3e9abd92",
   "metadata": {},
   "outputs": [
    {
     "name": "stdout",
     "output_type": "stream",
     "text": [
      "(1, 'Pranoy Chakraborty', 27, 'Data Science')\n"
     ]
    }
   ],
   "source": [
    "#Task 2\n",
    "def fetch_data_by_department(department):\n",
    "    conn = sqlite3.connect('test.db')\n",
    "    cursor = conn.cursor()\n",
    "    cursor.execute(\n",
    "        '''\n",
    "        SELECT * FROM employees\n",
    "        WHERE department = ?\n",
    "        ''', (department,) #passed as a tuple\n",
    "    )\n",
    "    rows = cursor.fetchall()\n",
    "    for row in rows:\n",
    "        print(row)\n",
    "    conn.close()\n",
    "\n",
    "fetch_data_by_department('Data Science')"
   ]
  },
  {
   "cell_type": "markdown",
   "id": "a8e4d2d3",
   "metadata": {},
   "source": [
    "#### Assignment 4: Updating Data\n",
    "\n",
    "1. Write a Python function to update the department of an employee based on their `id`.\n",
    "2. Update the department of at least 2 employees and display the updated records.\n"
   ]
  },
  {
   "cell_type": "code",
   "execution_count": null,
   "id": "a920fecb",
   "metadata": {},
   "outputs": [
    {
     "name": "stdout",
     "output_type": "stream",
     "text": [
      "(1, 'Pranoy Chakraborty', 26, 'Data Science')\n",
      "(2, 'Bob', 25, 'Engineering')\n",
      "(3, 'Charlie', 28, 'Sales')\n",
      "(4, 'David', 35, 'Marketing')\n",
      "(5, 'Eve', 22, 'HR')\n"
     ]
    }
   ],
   "source": [
    "#Task 1\n",
    "def update_employee(id, name, age, department):\n",
    "    conn = sqlite3.connect('test.db', timeout=10)  # Added timeout to handle locked database\n",
    "    cursor = conn.cursor()\n",
    "    cursor.execute(\n",
    "        '''\n",
    "        UPDATE employees\n",
    "        SET name = ?, age = ?, department = ?\n",
    "        WHERE id = ?\n",
    "        ''', (name, age, department, id)\n",
    "    )\n",
    "    conn.commit()\n",
    "    conn.close()\n",
    "\n",
    "update_employee(1, 'Pranoy Chakraborty', 26, 'Data Science')\n",
    "fetch_data()"
   ]
  },
  {
   "cell_type": "code",
   "execution_count": 17,
   "id": "832dc824",
   "metadata": {},
   "outputs": [
    {
     "name": "stdout",
     "output_type": "stream",
     "text": [
      "(1, 'Pranoy Chakraborty', 26, 'Data Science')\n",
      "(2, 'Bob Smith', 26, 'Engineering')\n",
      "(3, 'Charlie Brown', 29, 'Design')\n",
      "(4, 'David', 35, 'Marketing')\n",
      "(5, 'Eve', 22, 'HR')\n"
     ]
    }
   ],
   "source": [
    "#Task 2\n",
    "update_employee(2, 'Bob Smith', 26, 'Engineering')\n",
    "update_employee(3, 'Charlie Brown', 29, 'Design')\n",
    "fetch_data()"
   ]
  },
  {
   "cell_type": "markdown",
   "id": "9867d2d2",
   "metadata": {},
   "source": [
    "#### Assignment 5: Deleting Data\n",
    "\n",
    "1. Write a Python function to delete an employee from the `employees` table based on their `id`.\n",
    "2. Delete at least 1 employee and display the remaining records."
   ]
  },
  {
   "cell_type": "code",
   "execution_count": 18,
   "id": "98b9f607",
   "metadata": {},
   "outputs": [],
   "source": [
    "#Task 1\n",
    "def delete_employee(id):\n",
    "    conn = sqlite3.connect('test.db')\n",
    "    cursor = conn.cursor()\n",
    "    cursor.execute(\n",
    "        '''\n",
    "        DELETE FROM employees\n",
    "        WHERE id = ?\n",
    "        ''', (id,)\n",
    "    )\n",
    "    conn.commit()\n",
    "    conn.close()"
   ]
  },
  {
   "cell_type": "code",
   "execution_count": null,
   "id": "a5e29921",
   "metadata": {},
   "outputs": [
    {
     "name": "stdout",
     "output_type": "stream",
     "text": [
      "(1, 'Pranoy Chakraborty', 26, 'Data Science')\n",
      "(2, 'Bob Smith', 26, 'Engineering')\n",
      "(3, 'Charlie Brown', 29, 'Design')\n",
      "(4, 'David', 35, 'Marketing')\n"
     ]
    }
   ],
   "source": [
    "#Task 2\n",
    "delete_employee(5)\n",
    "fetch_data()"
   ]
  },
  {
   "cell_type": "markdown",
   "id": "fa63501c",
   "metadata": {},
   "source": [
    "#### Assignment 6: Advanced Queries\n",
    "\n",
    "1. Write a Python function to fetch and display employees older than a certain age.\n",
    "2. Write a Python function to fetch and display employees whose names start with a specific letter."
   ]
  },
  {
   "cell_type": "code",
   "execution_count": 21,
   "id": "71a0c9d7",
   "metadata": {},
   "outputs": [
    {
     "name": "stdout",
     "output_type": "stream",
     "text": [
      "(3, 'Charlie Brown', 29, 'Design')\n",
      "(4, 'David', 35, 'Marketing')\n"
     ]
    }
   ],
   "source": [
    "#Task 1\n",
    "def fetch_employee_by_age(age):\n",
    "    conn = sqlite3.connect('test.db')\n",
    "    cursor = conn.cursor()\n",
    "    cursor.execute(\n",
    "        '''\n",
    "        SELECT * FROM employees\n",
    "        WHERE age > ?\n",
    "        ''', (age,)\n",
    "    )\n",
    "    rows = cursor.fetchall()\n",
    "    for row in rows:\n",
    "        print(row)\n",
    "    conn.close()\n",
    "\n",
    "fetch_employee_by_age(26)"
   ]
  },
  {
   "cell_type": "code",
   "execution_count": 25,
   "id": "d62af504",
   "metadata": {},
   "outputs": [
    {
     "name": "stdout",
     "output_type": "stream",
     "text": [
      "(1, 'Pranoy Chakraborty', 26, 'Data Science')\n",
      "(4, 'David', 35, 'Marketing')\n"
     ]
    }
   ],
   "source": [
    "#Task 2\n",
    "def fetch_employee_by_starting_letter(letter):\n",
    "    conn = sqlite3.connect('test.db')\n",
    "    cursor = conn.cursor()\n",
    "    cursor.execute(\n",
    "        '''\n",
    "        SELECT * FROM employees\n",
    "        WHERE name LIKE ?\n",
    "        ''', (letter + '%',)  # Using parameterized query to prevent SQL injection\n",
    "    )\n",
    "    rows = cursor.fetchall()\n",
    "    for row in rows:\n",
    "        print(row)\n",
    "    conn.close()\n",
    "\n",
    "fetch_employee_by_starting_letter('P')\n",
    "fetch_employee_by_starting_letter('D')"
   ]
  },
  {
   "cell_type": "markdown",
   "id": "e587234f",
   "metadata": {},
   "source": [
    "#### Assignment 7: Handling Transactions\n",
    "\n",
    "1. Write a Python function to insert multiple employees into the `employees` table in a single transaction. Ensure that if any insertion fails, none of the insertions are committed.\n",
    "2. Write a Python function to update the age of multiple employees in a single transaction. Ensure that if any update fails, none of the updates are committed."
   ]
  },
  {
   "cell_type": "code",
   "execution_count": 26,
   "id": "c8f76705",
   "metadata": {},
   "outputs": [
    {
     "name": "stdout",
     "output_type": "stream",
     "text": [
      "Error occurred, transaction rolled back.\n",
      "UNIQUE constraint failed: employees.id\n"
     ]
    }
   ],
   "source": [
    "#Task 1\n",
    "def insert_multiple_employees(employees):\n",
    "    conn = sqlite3.connect('test.db')\n",
    "    cursor = conn.cursor()\n",
    "    try:\n",
    "        cursor.executemany('''\n",
    "            INSERT INTO employees (id, name, age, department)\n",
    "            VALUES (?, ?, ?, ?)\n",
    "        ''', employees)\n",
    "        conn.commit()\n",
    "        print(\"All employees inserted successfully.\")\n",
    "    except Exception as e:\n",
    "        conn.rollback()\n",
    "        print(\"Error occurred, transaction rolled back.\")\n",
    "        print(e)\n",
    "    finally:\n",
    "        conn.close()\n",
    "\n",
    "# Test the function with valid and invalid data\n",
    "employees = [\n",
    "    (6, 'Frank', 40, 'Finance'),\n",
    "    (7, 'Grace', 29, 'Engineering'),\n",
    "    (8, 'Hannah', 35, 'Marketing'),\n",
    "    (9, 'Ivan', 38, 'Sales'),\n",
    "    (6, 'Jack', 45, 'HR')  # Duplicate ID to cause an error\n",
    "]\n",
    "insert_multiple_employees(employees)"
   ]
  },
  {
   "cell_type": "code",
   "execution_count": 34,
   "id": "3b6b3c04",
   "metadata": {},
   "outputs": [
    {
     "name": "stdout",
     "output_type": "stream",
     "text": [
      "Error occurred, transaction rolled back.\n",
      "Transaction failed: Incorrect number of bindings supplied. The current statement uses 2, and there are 4 supplied.\n"
     ]
    }
   ],
   "source": [
    "def update_multiple_ages(updates):\n",
    "    \"\"\"\n",
    "    Updates the age of multiple employees in a single transaction.\n",
    "    If any update fails, the transaction is rolled back.\n",
    "\n",
    "    :param updates: List of tuples, where each tuple contains (id, new_age).\n",
    "    \"\"\"\n",
    "    conn = sqlite3.connect('test.db')\n",
    "    try:\n",
    "        cursor = conn.cursor()\n",
    "        for emp_id, new_age in updates:\n",
    "            cursor.execute(\n",
    "                '''\n",
    "                UPDATE employees\n",
    "                SET age = ?\n",
    "                WHERE id = ?\n",
    "                ''', updates\n",
    "            )\n",
    "        conn.commit()  # Commit the transaction if all updates succeed\n",
    "        print(\"All updates committed successfully.\")\n",
    "    except Exception as e:\n",
    "        conn.rollback()  # Rollback the transaction if any update fails\n",
    "        print(\"Error occurred, transaction rolled back.\")\n",
    "        print(f\"Transaction failed: {e}\")\n",
    "    finally:\n",
    "        conn.close()\n",
    "\n",
    "# Example usage\n",
    "update_multiple_ages([(1, 30), (2, 35), (3, 40), (10, 45)])"
   ]
  },
  {
   "cell_type": "markdown",
   "id": "2665c9e7",
   "metadata": {},
   "source": [
    "#### Assignment 8: Creating Relationships\n",
    "\n",
    "1. Create a new table named `departments` with columns `id` (integer) and `name` (text).\n",
    "2. Modify the `employees` table to include a foreign key referencing the `id` column in the `departments` table.\n",
    "3. Write a Python function to insert data into both the `departments` and `employees` tables, ensuring referential integrity."
   ]
  },
  {
   "cell_type": "code",
   "execution_count": null,
   "id": "59aa930d",
   "metadata": {},
   "outputs": [
    {
     "name": "stdout",
     "output_type": "stream",
     "text": [
      "Table departments created successfully.\n"
     ]
    }
   ],
   "source": [
    "#Task 1\n",
    "def create_dept_table():\n",
    "    conn = sqlite3.connect('test.db')\n",
    "    cursor = conn.cursor()\n",
    "    cursor.execute(\n",
    "        '''\n",
    "        CREATE TABLE IF NOT EXISTS departments (\n",
    "            id INTEGER PRIMARY KEY,\n",
    "            dept_name TEXT NOT NULL\n",
    "        )\n",
    "        '''\n",
    "    )\n",
    "    conn.commit()\n",
    "    conn.close()\n",
    "    print(f\"Table departments created successfully.\")\n",
    "\n",
    "create_dept_table()"
   ]
  },
  {
   "cell_type": "code",
   "execution_count": 48,
   "id": "4cb483e9",
   "metadata": {},
   "outputs": [
    {
     "name": "stdout",
     "output_type": "stream",
     "text": [
      "Table 'employees' modified successfully.\n"
     ]
    }
   ],
   "source": [
    "import sqlite3\n",
    "\n",
    "def add_department_foreign_key():\n",
    "    conn = sqlite3.connect('test.db')\n",
    "    cursor = conn.cursor()\n",
    "\n",
    "    cursor.executescript('''\n",
    "        PRAGMA foreign_keys=off;\n",
    "\n",
    "        BEGIN TRANSACTION;\n",
    "                         \n",
    "        DROP TABLE IF EXISTS old_employees;\n",
    "\n",
    "        ALTER TABLE employees RENAME TO old_employees;\n",
    "\n",
    "        CREATE TABLE employees (\n",
    "            id INTEGER PRIMARY KEY,\n",
    "            name TEXT NOT NULL,\n",
    "            age INTEGER,\n",
    "            department TEXT,\n",
    "            department_id INTEGER,\n",
    "            FOREIGN KEY(department_id) REFERENCES departments(id)\n",
    "        );\n",
    "\n",
    "        INSERT INTO employees (id, name, age, department)\n",
    "        SELECT id, name, age, department FROM old_employees;\n",
    "\n",
    "        DROP TABLE old_employees;\n",
    "\n",
    "        COMMIT;\n",
    "\n",
    "        PRAGMA foreign_keys=on;\n",
    "    ''')\n",
    "\n",
    "    conn.commit()\n",
    "    conn.close()\n",
    "    print(\"Table 'employees' modified successfully.\")\n",
    "\n",
    "# Test the function\n",
    "add_department_foreign_key()\n"
   ]
  },
  {
   "cell_type": "code",
   "execution_count": 50,
   "id": "eb8ad7d7",
   "metadata": {},
   "outputs": [
    {
     "name": "stdout",
     "output_type": "stream",
     "text": [
      "Department and employee inserted successfully.\n"
     ]
    }
   ],
   "source": [
    "#Task 3\n",
    "def insert_department_and_employee(department_id, department_name, employee_id, name, age, department):\n",
    "    conn = sqlite3.connect('test.db')\n",
    "    cursor = conn.cursor()\n",
    "    try:\n",
    "        cursor.execute('''\n",
    "            INSERT INTO departments (id, dept_name)\n",
    "            VALUES (?, ?)\n",
    "        ''', (department_id, department_name))\n",
    "        cursor.execute('''\n",
    "            INSERT INTO employees (id, name, age, department, department_id)\n",
    "            VALUES (?, ?, ?, ?, ?)\n",
    "        ''', (employee_id, name, age, department, department_id))\n",
    "        conn.commit()\n",
    "        print(\"Department and employee inserted successfully.\")\n",
    "    except Exception as e:\n",
    "        conn.rollback()\n",
    "        print(\"Error occurred, transaction rolled back.\")\n",
    "        print(e)\n",
    "    finally:\n",
    "        conn.close()\n",
    "\n",
    "# Test the function\n",
    "insert_department_and_employee(1, 'Finance', 10, 'Zara', 28, 'Finance')"
   ]
  },
  {
   "cell_type": "code",
   "execution_count": null,
   "id": "ea15cc69",
   "metadata": {},
   "outputs": [],
   "source": []
  }
 ],
 "metadata": {
  "kernelspec": {
   "display_name": "Python 3",
   "language": "python",
   "name": "python3"
  },
  "language_info": {
   "codemirror_mode": {
    "name": "ipython",
    "version": 3
   },
   "file_extension": ".py",
   "mimetype": "text/x-python",
   "name": "python",
   "nbconvert_exporter": "python",
   "pygments_lexer": "ipython3",
   "version": "3.12.8"
  }
 },
 "nbformat": 4,
 "nbformat_minor": 5
}
