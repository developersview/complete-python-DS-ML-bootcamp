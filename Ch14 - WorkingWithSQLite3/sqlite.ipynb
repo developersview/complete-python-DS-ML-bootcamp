{
 "cells": [
  {
   "cell_type": "markdown",
   "id": "849e5ee8",
   "metadata": {},
   "source": [
    "## SQL And SQLite\n",
    "SQL (Structured Query Language) is a standard language for managing and manipulating relational databases. SQLite is a self-contained, serverless, and zero-configuration database engine that is widely used for embedded database systems. In this lesson, we will cover the basics of SQL and SQLite, including creating databases, tables, and performing various SQL operations."
   ]
  },
  {
   "cell_type": "code",
   "execution_count": 1,
   "id": "35999b66",
   "metadata": {},
   "outputs": [],
   "source": [
    "import sqlite3"
   ]
  },
  {
   "cell_type": "code",
   "execution_count": 3,
   "id": "3802b380",
   "metadata": {},
   "outputs": [
    {
     "data": {
      "text/plain": [
       "<sqlite3.Connection at 0x1d77419a980>"
      ]
     },
     "execution_count": 3,
     "metadata": {},
     "output_type": "execute_result"
    }
   ],
   "source": [
    "#connect to sqlite3 database\n",
    "connection = sqlite3.connect('example.db')\n",
    "connection"
   ]
  },
  {
   "cell_type": "code",
   "execution_count": 4,
   "id": "1bd03917",
   "metadata": {},
   "outputs": [
    {
     "data": {
      "text/plain": [
       "<sqlite3.Cursor at 0x1d7744235c0>"
      ]
     },
     "execution_count": 4,
     "metadata": {},
     "output_type": "execute_result"
    }
   ],
   "source": [
    "#create cursor object\n",
    "cursor = connection.cursor()\n",
    "cursor"
   ]
  },
  {
   "cell_type": "code",
   "execution_count": 5,
   "id": "15343918",
   "metadata": {},
   "outputs": [],
   "source": [
    "#Create a table\n",
    "cursor.execute(\n",
    "    ''' \n",
    "    CREATE TABLE IF NOT EXISTS Employees(\n",
    "        id INTEGER PRIMARY KEY,\n",
    "        name TEXT NOT NULL,\n",
    "        age INTEGER,\n",
    "        department TEXT\n",
    "    )\n",
    "    '''\n",
    ")\n",
    "connection.commit()"
   ]
  },
  {
   "cell_type": "code",
   "execution_count": 6,
   "id": "4e96de84",
   "metadata": {},
   "outputs": [],
   "source": [
    "#Insert data in sqlite table\n",
    "cursor.execute(\n",
    "    ''' \n",
    "    INSERT INTO Employees(name, age, department)\n",
    "    VALUES ('Pranoy', 25, 'Data Science'), ('Charlie', 25, 'Data Analytics'), ('Wanda', 32, 'Finance'), ('Bob', 35, 'Project Management')\n",
    "    '''\n",
    ")\n",
    "\n",
    "connection.commit()"
   ]
  },
  {
   "cell_type": "code",
   "execution_count": 9,
   "id": "faedbf3a",
   "metadata": {},
   "outputs": [
    {
     "name": "stdout",
     "output_type": "stream",
     "text": [
      "(1, 'Pranoy', 25, 'Data Science')\n",
      "(2, 'Charlie', 25, 'Data Analytics')\n",
      "(3, 'Wanda', 32, 'Finance')\n",
      "(4, 'Bob', 35, 'Project Management')\n"
     ]
    }
   ],
   "source": [
    "cursor.execute(\n",
    "    ''' \n",
    "    SELECT * FROM Employees\n",
    "    '''\n",
    ")\n",
    "rows = cursor.fetchall()\n",
    "for row in rows:\n",
    "    print(row)"
   ]
  },
  {
   "cell_type": "code",
   "execution_count": null,
   "id": "8d902c88",
   "metadata": {},
   "outputs": [],
   "source": []
  }
 ],
 "metadata": {
  "kernelspec": {
   "display_name": "Python 3",
   "language": "python",
   "name": "python3"
  },
  "language_info": {
   "codemirror_mode": {
    "name": "ipython",
    "version": 3
   },
   "file_extension": ".py",
   "mimetype": "text/x-python",
   "name": "python",
   "nbconvert_exporter": "python",
   "pygments_lexer": "ipython3",
   "version": "3.12.8"
  }
 },
 "nbformat": 4,
 "nbformat_minor": 5
}
