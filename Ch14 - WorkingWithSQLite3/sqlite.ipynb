{
 "cells": [
  {
   "cell_type": "markdown",
   "id": "849e5ee8",
   "metadata": {},
   "source": [
    "## SQL And SQLite\n",
    "SQL (Structured Query Language) is a standard language for managing and manipulating relational databases. SQLite is a self-contained, serverless, and zero-configuration database engine that is widely used for embedded database systems. In this lesson, we will cover the basics of SQL and SQLite, including creating databases, tables, and performing various SQL operations."
   ]
  },
  {
   "cell_type": "code",
   "execution_count": 1,
   "id": "35999b66",
   "metadata": {},
   "outputs": [],
   "source": [
    "import sqlite3"
   ]
  },
  {
   "cell_type": "code",
   "execution_count": 2,
   "id": "3802b380",
   "metadata": {},
   "outputs": [
    {
     "data": {
      "text/plain": [
       "<sqlite3.Connection at 0x185dec4a7a0>"
      ]
     },
     "execution_count": 2,
     "metadata": {},
     "output_type": "execute_result"
    }
   ],
   "source": [
    "#connect to sqlite3 database\n",
    "connection = sqlite3.connect('example.db')\n",
    "connection"
   ]
  },
  {
   "cell_type": "code",
   "execution_count": 3,
   "id": "1bd03917",
   "metadata": {},
   "outputs": [
    {
     "data": {
      "text/plain": [
       "<sqlite3.Cursor at 0x185dee749c0>"
      ]
     },
     "execution_count": 3,
     "metadata": {},
     "output_type": "execute_result"
    }
   ],
   "source": [
    "#create cursor object\n",
    "cursor = connection.cursor()\n",
    "cursor"
   ]
  },
  {
   "cell_type": "code",
   "execution_count": 11,
   "id": "15343918",
   "metadata": {},
   "outputs": [],
   "source": [
    "#Create a table\n",
    "cursor.execute(\n",
    "    ''' \n",
    "    CREATE TABLE IF NOT EXISTS Employees(\n",
    "        id INTEGER PRIMARY KEY,\n",
    "        name TEXT NOT NULL,\n",
    "        age INTEGER,\n",
    "        department TEXT\n",
    "    )\n",
    "    '''\n",
    ")\n",
    "connection.commit()"
   ]
  },
  {
   "cell_type": "code",
   "execution_count": 17,
   "id": "4e96de84",
   "metadata": {},
   "outputs": [],
   "source": [
    "#Insert data in sqlite table\n",
    "cursor.execute(\n",
    "    ''' \n",
    "    INSERT INTO Employees(name, age, department)\n",
    "    VALUES ('Pranoy', 25, 'Data Science'), ('Charlie', 25, 'Data Analytics'), ('Wanda', 32, 'Finance'), ('Bob', 35, 'Project Management')\n",
    "    '''\n",
    ")\n",
    "\n",
    "connection.commit()"
   ]
  },
  {
   "cell_type": "code",
   "execution_count": 18,
   "id": "faedbf3a",
   "metadata": {},
   "outputs": [
    {
     "name": "stdout",
     "output_type": "stream",
     "text": [
      "(1, 'Pranoy', 25, 'Data Science')\n",
      "(2, 'Charlie', 25, 'Data Analytics')\n",
      "(3, 'Wanda', 32, 'Finance')\n",
      "(4, 'Bob', 35, 'Project Management')\n"
     ]
    }
   ],
   "source": [
    "cursor.execute(\n",
    "    ''' \n",
    "    SELECT * FROM Employees\n",
    "    '''\n",
    ")\n",
    "rows = cursor.fetchall()\n",
    "for row in rows:\n",
    "    print(row)"
   ]
  },
  {
   "cell_type": "code",
   "execution_count": 19,
   "id": "b93f2b64",
   "metadata": {},
   "outputs": [],
   "source": [
    "# Update the data in table\n",
    "cursor.execute(\n",
    "    ''' \n",
    "    UPDATE Employees\n",
    "    SET age = 26\n",
    "    WHERE name = 'Pranoy'\n",
    "    '''\n",
    ")\n",
    "connection.commit()"
   ]
  },
  {
   "cell_type": "code",
   "execution_count": 21,
   "id": "5609e333",
   "metadata": {},
   "outputs": [
    {
     "name": "stdout",
     "output_type": "stream",
     "text": [
      "(1, 'Pranoy', 26, 'Data Science')\n"
     ]
    }
   ],
   "source": [
    "cursor.execute(\n",
    "    ''' \n",
    "    SELECT * FROM Employees\n",
    "    WHERE name = 'Pranoy'\n",
    "    '''\n",
    ")\n",
    "rows = cursor.fetchall()\n",
    "for row in rows:\n",
    "    print(row)"
   ]
  },
  {
   "cell_type": "code",
   "execution_count": 22,
   "id": "4a44c01c",
   "metadata": {},
   "outputs": [],
   "source": [
    "#delete the data\n",
    "cursor.execute(\n",
    "    ''' \n",
    "    DELETE FROM Employees\n",
    "    WHERE name = 'Bob'\n",
    "    '''\n",
    ")\n",
    "connection.commit()"
   ]
  },
  {
   "cell_type": "code",
   "execution_count": 23,
   "id": "7da652ee",
   "metadata": {},
   "outputs": [
    {
     "name": "stdout",
     "output_type": "stream",
     "text": [
      "(1, 'Pranoy', 26, 'Data Science')\n",
      "(2, 'Charlie', 25, 'Data Analytics')\n",
      "(3, 'Wanda', 32, 'Finance')\n"
     ]
    }
   ],
   "source": [
    "cursor.execute(\n",
    "    ''' \n",
    "    SELECT * FROM Employees\n",
    "    '''\n",
    ")\n",
    "rows = cursor.fetchall()\n",
    "for row in rows:\n",
    "    print(row)"
   ]
  },
  {
   "cell_type": "markdown",
   "id": "ee439b77",
   "metadata": {},
   "source": [
    "#### Working Wwith Sales Data"
   ]
  },
  {
   "cell_type": "code",
   "execution_count": 25,
   "id": "8f4a33c4",
   "metadata": {},
   "outputs": [],
   "source": [
    "connection = sqlite3.connect('sales.db')\n",
    "cursor = connection.cursor()"
   ]
  },
  {
   "cell_type": "code",
   "execution_count": 26,
   "id": "18cde84a",
   "metadata": {},
   "outputs": [],
   "source": [
    "#Create the table\n",
    "cursor.execute(\n",
    "    ''' \n",
    "    CREATE TABLE IF NOT EXISTS sales(\n",
    "        id INTEGER PRIMARY KEY,\n",
    "        date TEXT NOT NULL,\n",
    "        product TEXT NOT NULL,\n",
    "        sales INTEGER,\n",
    "        region TEXT\n",
    "    )\n",
    "    '''\n",
    ")\n",
    "\n",
    "#insert data into sales table\n",
    "sales_data = [\n",
    "    ('2023-01-01', 'Product1', 100, 'North'),\n",
    "    ('2023-01-02', 'Product2', 200, 'South'),\n",
    "    ('2023-01-03', 'Product1', 150, 'East'),\n",
    "    ('2023-01-04', 'Product3', 250, 'West'),\n",
    "    ('2023-01-05', 'Product2', 300, 'North')\n",
    "]\n",
    "\n",
    "cursor.executemany(\n",
    "    ''' \n",
    "    INSERT INTO sales(date, product, sales, region)\n",
    "    VALUES(?,?,?,?)\n",
    "    ''', sales_data\n",
    ")\n",
    "\n",
    "connection.commit()"
   ]
  },
  {
   "cell_type": "code",
   "execution_count": 28,
   "id": "99eb15db",
   "metadata": {},
   "outputs": [
    {
     "name": "stdout",
     "output_type": "stream",
     "text": [
      "(1, '2023-01-01', 'Product1', 100, 'North')\n",
      "(2, '2023-01-02', 'Product2', 200, 'South')\n",
      "(3, '2023-01-03', 'Product1', 150, 'East')\n",
      "(4, '2023-01-04', 'Product3', 250, 'West')\n",
      "(5, '2023-01-05', 'Product2', 300, 'North')\n"
     ]
    }
   ],
   "source": [
    "cursor.execute(\n",
    "    ''' \n",
    "    SELECT * FROM sales\n",
    "    '''\n",
    ")\n",
    "rows = cursor.fetchall()\n",
    "for row in rows:\n",
    "    print(row)"
   ]
  },
  {
   "cell_type": "code",
   "execution_count": null,
   "id": "598d294b",
   "metadata": {},
   "outputs": [
    {
     "name": "stdout",
     "output_type": "stream",
     "text": [
      "('North', 400)\n",
      "('West', 250)\n",
      "('South', 200)\n",
      "('East', 150)\n"
     ]
    }
   ],
   "source": [
    "cursor.execute(\n",
    "    ''' \n",
    "    SELECT\n",
    "        region, SUM(sales) AS total_sales\n",
    "    FROM\n",
    "        sales\n",
    "    GROUP BY region\n",
    "    ORDER BY total_sales DESC\n",
    "    '''\n",
    ")\n",
    "rows = cursor.fetchall()\n",
    "for row in rows:\n",
    "    print(row)"
   ]
  },
  {
   "cell_type": "code",
   "execution_count": 33,
   "id": "7d4a0e13",
   "metadata": {},
   "outputs": [],
   "source": [
    "import pandas as pd\n"
   ]
  },
  {
   "cell_type": "code",
   "execution_count": 34,
   "id": "0e6d1f7e",
   "metadata": {},
   "outputs": [
    {
     "data": {
      "text/html": [
       "<div>\n",
       "<style scoped>\n",
       "    .dataframe tbody tr th:only-of-type {\n",
       "        vertical-align: middle;\n",
       "    }\n",
       "\n",
       "    .dataframe tbody tr th {\n",
       "        vertical-align: top;\n",
       "    }\n",
       "\n",
       "    .dataframe thead th {\n",
       "        text-align: right;\n",
       "    }\n",
       "</style>\n",
       "<table border=\"1\" class=\"dataframe\">\n",
       "  <thead>\n",
       "    <tr style=\"text-align: right;\">\n",
       "      <th></th>\n",
       "      <th>0</th>\n",
       "      <th>1</th>\n",
       "    </tr>\n",
       "  </thead>\n",
       "  <tbody>\n",
       "    <tr>\n",
       "      <th>0</th>\n",
       "      <td>North</td>\n",
       "      <td>400</td>\n",
       "    </tr>\n",
       "    <tr>\n",
       "      <th>1</th>\n",
       "      <td>West</td>\n",
       "      <td>250</td>\n",
       "    </tr>\n",
       "    <tr>\n",
       "      <th>2</th>\n",
       "      <td>South</td>\n",
       "      <td>200</td>\n",
       "    </tr>\n",
       "    <tr>\n",
       "      <th>3</th>\n",
       "      <td>East</td>\n",
       "      <td>150</td>\n",
       "    </tr>\n",
       "  </tbody>\n",
       "</table>\n",
       "</div>"
      ],
      "text/plain": [
       "       0    1\n",
       "0  North  400\n",
       "1   West  250\n",
       "2  South  200\n",
       "3   East  150"
      ]
     },
     "execution_count": 34,
     "metadata": {},
     "output_type": "execute_result"
    }
   ],
   "source": [
    "df = pd.DataFrame(rows)\n",
    "df"
   ]
  },
  {
   "cell_type": "code",
   "execution_count": 35,
   "id": "a50e7dc2",
   "metadata": {},
   "outputs": [],
   "source": [
    "#close the connection\n",
    "connection.close()"
   ]
  }
 ],
 "metadata": {
  "kernelspec": {
   "display_name": "Python 3",
   "language": "python",
   "name": "python3"
  },
  "language_info": {
   "codemirror_mode": {
    "name": "ipython",
    "version": 3
   },
   "file_extension": ".py",
   "mimetype": "text/x-python",
   "name": "python",
   "nbconvert_exporter": "python",
   "pygments_lexer": "ipython3",
   "version": "3.12.8"
  }
 },
 "nbformat": 4,
 "nbformat_minor": 5
}
