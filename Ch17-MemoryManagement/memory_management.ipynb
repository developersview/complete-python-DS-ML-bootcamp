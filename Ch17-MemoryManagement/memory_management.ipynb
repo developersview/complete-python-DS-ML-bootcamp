{
 "cells": [
  {
   "cell_type": "markdown",
   "id": "74ccc04d",
   "metadata": {},
   "source": [
    "## Python Memory Management\n",
    "Memory management in Python involves a combination of automatic garbage collection, reference counting, and various internal optimizations to efficiently manage memory allocation and deallocation. Understanding these mechanisms can help developers write more efficient and robust applications.\n",
    "\n",
    "- Key Concepts in Python Memory Management\n",
    "- Memory Allocation and Deallocation\n",
    "- Reference Counting\n",
    "- Garbage Collection\n",
    "- The gc Module\n",
    "- Memory Management Best Practices\n",
    "\n",
    "### Reference Counting\n",
    "Reference counting is the primary method Python uses to manage memory. Each object in Python maintains a count of references pointing to it. When the reference count drops to zero, the memory occupied by the object is deallocated."
   ]
  },
  {
   "cell_type": "code",
   "execution_count": 9,
   "id": "14f289eb",
   "metadata": {},
   "outputs": [
    {
     "name": "stdout",
     "output_type": "stream",
     "text": [
      "2\n"
     ]
    }
   ],
   "source": [
    "import sys\n",
    "\n",
    "a = []\n",
    "\n",
    "print(sys.getrefcount(a))"
   ]
  },
  {
   "cell_type": "code",
   "execution_count": 10,
   "id": "b3a0672e",
   "metadata": {},
   "outputs": [
    {
     "name": "stdout",
     "output_type": "stream",
     "text": [
      "3\n",
      "3\n"
     ]
    }
   ],
   "source": [
    "b = a\n",
    "print(sys.getrefcount(b))\n",
    "print(sys.getrefcount(a))"
   ]
  },
  {
   "cell_type": "code",
   "execution_count": 11,
   "id": "23c0c01a",
   "metadata": {},
   "outputs": [
    {
     "name": "stdout",
     "output_type": "stream",
     "text": [
      "2\n"
     ]
    }
   ],
   "source": [
    "del b\n",
    "print(sys.getrefcount(a))"
   ]
  },
  {
   "cell_type": "markdown",
   "id": "f5faafc0",
   "metadata": {},
   "source": [
    "### Garbage Collection\n",
    "Python includes a cyclic garbage collector to handle reference cycles. Reference cycles occur when objects reference each other, preventing their reference counts from reaching zero."
   ]
  },
  {
   "cell_type": "code",
   "execution_count": 12,
   "id": "7a33a06e",
   "metadata": {},
   "outputs": [],
   "source": [
    "import gc"
   ]
  },
  {
   "cell_type": "code",
   "execution_count": 13,
   "id": "bc151576",
   "metadata": {},
   "outputs": [],
   "source": [
    "gc.enable()"
   ]
  },
  {
   "cell_type": "code",
   "execution_count": 15,
   "id": "9e50a4d1",
   "metadata": {},
   "outputs": [
    {
     "data": {
      "text/plain": [
       "7"
      ]
     },
     "execution_count": 15,
     "metadata": {},
     "output_type": "execute_result"
    }
   ],
   "source": [
    "gc.collect()"
   ]
  },
  {
   "cell_type": "code",
   "execution_count": null,
   "id": "48fe4f5f",
   "metadata": {},
   "outputs": [
    {
     "name": "stdout",
     "output_type": "stream",
     "text": [
      "[{'collections': 273, 'collected': 1381, 'uncollectable': 0}, {'collections': 24, 'collected': 871, 'uncollectable': 0}, {'collections': 3, 'collected': 193, 'uncollectable': 0}]\n"
     ]
    }
   ],
   "source": [
    "# get garbage stats\n",
    "print(gc.get_stats())"
   ]
  },
  {
   "cell_type": "code",
   "execution_count": null,
   "id": "de548187",
   "metadata": {},
   "outputs": [
    {
     "name": "stdout",
     "output_type": "stream",
     "text": [
      "[]\n"
     ]
    }
   ],
   "source": [
    "# get unreachable objects\n",
    "print(gc.garbage)"
   ]
  },
  {
   "cell_type": "code",
   "execution_count": 18,
   "id": "b29452e5",
   "metadata": {},
   "outputs": [],
   "source": [
    "gc.disable()"
   ]
  },
  {
   "cell_type": "markdown",
   "id": "5cbfaa04",
   "metadata": {},
   "source": [
    "### Memory Management Best Practices\n",
    "1. Use Local Variables: Local variables have a shorter lifespan and are freed sooner than global variables.\n",
    "2. Avoid Circular References: Circular references can lead to memory leaks if not properly managed.\n",
    "3. Use Generators: Generators produce items one at a time and only keep one item in memory at a time, making them memory efficient.\n",
    "4. Explicitly Delete Objects: Use the del statement to delete variables and objects explicitly.\n",
    "5. Profile Memory Usage: Use memory profiling tools like tracemalloc and memory_profiler to identify memory leaks and optimize memory usage."
   ]
  },
  {
   "cell_type": "code",
   "execution_count": 28,
   "id": "f85d577d",
   "metadata": {},
   "outputs": [
    {
     "name": "stdout",
     "output_type": "stream",
     "text": [
      "Object obj1 created\n",
      "Object obj2 created\n",
      "Object obj1 deleted\n",
      "Object obj2 deleted\n"
     ]
    },
    {
     "data": {
      "text/plain": [
       "979"
      ]
     },
     "execution_count": 28,
     "metadata": {},
     "output_type": "execute_result"
    }
   ],
   "source": [
    "import gc\n",
    "\n",
    "class MyObject:\n",
    "    def __init__(self, name):\n",
    "        self.name = name\n",
    "        print(f\"Object {self.name} created\")\n",
    "\n",
    "    def __del__(self):\n",
    "        print(f\"Object {self.name} deleted\")\n",
    "\n",
    "\n",
    "# Create a circular reference\n",
    "obj1 = MyObject(\"obj1\")\n",
    "obj2 = MyObject(\"obj2\")\n",
    "obj1.ref = obj2\n",
    "obj2.ref = obj1\n",
    "\n",
    "del obj1\n",
    "del obj2\n",
    "\n",
    "\n",
    "#manually trigger garbage collection\n",
    "gc.collect()"
   ]
  },
  {
   "cell_type": "code",
   "execution_count": 33,
   "id": "bc499bfb",
   "metadata": {},
   "outputs": [
    {
     "name": "stdout",
     "output_type": "stream",
     "text": [
      "0\n",
      "1\n",
      "2\n",
      "3\n",
      "4\n",
      "5\n",
      "6\n",
      "7\n",
      "8\n",
      "9\n",
      "10\n",
      "11\n"
     ]
    }
   ],
   "source": [
    "## Generators For Memory Efficiency\n",
    "#Generators allow you to produce items one at a time, using memory efficiently by only keeping one item in memory at a time.\n",
    "\n",
    "def generate_numbers(n):\n",
    "    for i in range(n):\n",
    "        yield i\n",
    "\n",
    "for number in generate_numbers(10000):\n",
    "    print(number)\n",
    "    if number > 10:\n",
    "        break"
   ]
  },
  {
   "cell_type": "code",
   "execution_count": 36,
   "id": "ad9cc8e4",
   "metadata": {},
   "outputs": [],
   "source": [
    "## Profiling Memory USage with tracemalloc\n",
    "import tracemalloc\n",
    "\n",
    "def create_list():\n",
    "    return [i for i in range(1000000)]\n",
    "\n",
    "def main():\n",
    "    tracemalloc.start()\n",
    "\n",
    "    create_list()\n",
    "\n",
    "    snapshot = tracemalloc.take_snapshot()\n",
    "    top_stats = snapshot.statistics('lineno')\n",
    "\n",
    "    print(\"[ Top 10 Memory Usage ]\")\n",
    "\n",
    "    for stat in top_stats[::]:\n",
    "        print(stat)"
   ]
  },
  {
   "cell_type": "code",
   "execution_count": 37,
   "id": "3d087510",
   "metadata": {},
   "outputs": [
    {
     "name": "stdout",
     "output_type": "stream",
     "text": [
      "[ Top 10 Memory Usage ]\n",
      "d:\\_DA+DS\\03_Python\\complete-python-DS-ML-bootcamp\\venv\\Lib\\selectors.py:314: size=288 KiB, count=6, average=48.0 KiB\n",
      "d:\\_DA+DS\\03_Python\\complete-python-DS-ML-bootcamp\\venv\\Lib\\json\\decoder.py:354: size=2666 B, count=35, average=76 B\n",
      "d:\\_DA+DS\\03_Python\\complete-python-DS-ML-bootcamp\\venv\\Lib\\site-packages\\traitlets\\traitlets.py:731: size=1375 B, count=22, average=62 B\n",
      "d:\\_DA+DS\\03_Python\\complete-python-DS-ML-bootcamp\\venv\\Lib\\codeop.py:126: size=1325 B, count=11, average=120 B\n",
      "d:\\_DA+DS\\03_Python\\complete-python-DS-ML-bootcamp\\venv\\Lib\\site-packages\\zmq\\sugar\\attrsettr.py:45: size=1269 B, count=27, average=47 B\n",
      "d:\\_DA+DS\\03_Python\\complete-python-DS-ML-bootcamp\\venv\\Lib\\site-packages\\IPython\\core\\compilerop.py:174: size=1115 B, count=15, average=74 B\n",
      "d:\\_DA+DS\\03_Python\\complete-python-DS-ML-bootcamp\\venv\\Lib\\site-packages\\traitlets\\traitlets.py:1514: size=1080 B, count=9, average=120 B\n",
      "d:\\_DA+DS\\03_Python\\complete-python-DS-ML-bootcamp\\venv\\Lib\\site-packages\\traitlets\\traitlets.py:1543: size=1073 B, count=18, average=60 B\n",
      "d:\\_DA+DS\\03_Python\\complete-python-DS-ML-bootcamp\\venv\\Lib\\site-packages\\zmq\\sugar\\socket.py:805: size=1056 B, count=6, average=176 B\n",
      "d:\\_DA+DS\\03_Python\\complete-python-DS-ML-bootcamp\\venv\\Lib\\site-packages\\jupyter_client\\session.py:1057: size=823 B, count=6, average=137 B\n",
      "d:\\_DA+DS\\03_Python\\complete-python-DS-ML-bootcamp\\venv\\Lib\\site-packages\\IPython\\core\\compilerop.py:86: size=808 B, count=10, average=81 B\n",
      "d:\\_DA+DS\\03_Python\\complete-python-DS-ML-bootcamp\\venv\\Lib\\threading.py:293: size=760 B, count=2, average=380 B\n",
      "d:\\_DA+DS\\03_Python\\complete-python-DS-ML-bootcamp\\venv\\Lib\\site-packages\\jupyter_client\\jsonutil.py:111: size=750 B, count=15, average=50 B\n",
      "d:\\_DA+DS\\03_Python\\complete-python-DS-ML-bootcamp\\venv\\Lib\\asyncio\\events.py:88: size=576 B, count=5, average=115 B\n",
      "d:\\_DA+DS\\03_Python\\complete-python-DS-ML-bootcamp\\venv\\Lib\\site-packages\\IPython\\core\\interactiveshell.py:3104: size=520 B, count=4, average=130 B\n",
      "d:\\_DA+DS\\03_Python\\complete-python-DS-ML-bootcamp\\venv\\Lib\\site-packages\\IPython\\core\\history.py:782: size=444 B, count=2, average=222 B\n",
      "d:\\_DA+DS\\03_Python\\complete-python-DS-ML-bootcamp\\venv\\Lib\\site-packages\\ipykernel\\kernelbase.py:775: size=424 B, count=2, average=212 B\n",
      "d:\\_DA+DS\\03_Python\\complete-python-DS-ML-bootcamp\\venv\\Lib\\site-packages\\jupyter_client\\jsonutil.py:75: size=416 B, count=2, average=208 B\n",
      "d:\\_DA+DS\\03_Python\\complete-python-DS-ML-bootcamp\\venv\\Lib\\site-packages\\IPython\\core\\interactiveshell.py:3334: size=376 B, count=1, average=376 B\n",
      "d:\\_DA+DS\\03_Python\\complete-python-DS-ML-bootcamp\\venv\\Lib\\site-packages\\ipykernel\\iostream.py:346: size=360 B, count=3, average=120 B\n",
      "d:\\_DA+DS\\03_Python\\complete-python-DS-ML-bootcamp\\venv\\Lib\\site-packages\\ipykernel\\ipkernel.py:362: size=360 B, count=1, average=360 B\n",
      "d:\\_DA+DS\\03_Python\\complete-python-DS-ML-bootcamp\\venv\\Lib\\asyncio\\base_events.py:814: size=312 B, count=3, average=104 B\n",
      "d:\\_DA+DS\\03_Python\\complete-python-DS-ML-bootcamp\\venv\\Lib\\site-packages\\IPython\\core\\interactiveshell.py:3517: size=296 B, count=1, average=296 B\n",
      "d:\\_DA+DS\\03_Python\\complete-python-DS-ML-bootcamp\\venv\\Lib\\site-packages\\tornado\\queues.py:248: size=288 B, count=2, average=144 B\n",
      "d:\\_DA+DS\\03_Python\\complete-python-DS-ML-bootcamp\\venv\\Lib\\asyncio\\base_events.py:448: size=288 B, count=2, average=144 B\n",
      "d:\\_DA+DS\\03_Python\\complete-python-DS-ML-bootcamp\\venv\\Lib\\threading.py:290: size=280 B, count=2, average=140 B\n",
      "d:\\_DA+DS\\03_Python\\complete-python-DS-ML-bootcamp\\venv\\Lib\\site-packages\\ipykernel\\iostream.py:527: size=272 B, count=4, average=68 B\n",
      "d:\\_DA+DS\\03_Python\\complete-python-DS-ML-bootcamp\\venv\\Lib\\site-packages\\ipykernel\\kernelbase.py:534: size=264 B, count=1, average=264 B\n",
      "d:\\_DA+DS\\03_Python\\complete-python-DS-ML-bootcamp\\venv\\Lib\\site-packages\\ipykernel\\kernelbase.py:435: size=248 B, count=1, average=248 B\n",
      "d:\\_DA+DS\\03_Python\\complete-python-DS-ML-bootcamp\\venv\\Lib\\site-packages\\ipykernel\\iostream.py:121: size=248 B, count=1, average=248 B\n",
      "d:\\_DA+DS\\03_Python\\complete-python-DS-ML-bootcamp\\venv\\Lib\\site-packages\\ipykernel\\iostream.py:287: size=240 B, count=2, average=120 B\n",
      "d:\\_DA+DS\\03_Python\\complete-python-DS-ML-bootcamp\\venv\\Lib\\inspect.py:266: size=240 B, count=2, average=120 B\n",
      "d:\\_DA+DS\\03_Python\\complete-python-DS-ML-bootcamp\\venv\\Lib\\logging\\__init__.py:1622: size=240 B, count=1, average=240 B\n",
      "d:\\_DA+DS\\03_Python\\complete-python-DS-ML-bootcamp\\venv\\Lib\\asyncio\\futures.py:396: size=232 B, count=2, average=116 B\n",
      "d:\\_DA+DS\\03_Python\\complete-python-DS-ML-bootcamp\\venv\\Lib\\site-packages\\ipykernel\\kernelbase.py:545: size=232 B, count=1, average=232 B\n",
      "d:\\_DA+DS\\03_Python\\complete-python-DS-ML-bootcamp\\venv\\Lib\\site-packages\\ipykernel\\zmqshell.py:549: size=224 B, count=3, average=75 B\n",
      "d:\\_DA+DS\\03_Python\\complete-python-DS-ML-bootcamp\\venv\\Lib\\site-packages\\IPython\\core\\interactiveshell.py:3223: size=208 B, count=4, average=52 B\n",
      "d:\\_DA+DS\\03_Python\\complete-python-DS-ML-bootcamp\\venv\\Lib\\site-packages\\tornado\\platform\\asyncio.py:235: size=208 B, count=3, average=69 B\n",
      "d:\\_DA+DS\\03_Python\\complete-python-DS-ML-bootcamp\\venv\\Lib\\site-packages\\jupyter_client\\session.py:1085: size=208 B, count=1, average=208 B\n",
      "d:\\_DA+DS\\03_Python\\complete-python-DS-ML-bootcamp\\venv\\Lib\\site-packages\\ipykernel\\kernelbase.py:770: size=208 B, count=1, average=208 B\n",
      "d:\\_DA+DS\\03_Python\\complete-python-DS-ML-bootcamp\\venv\\Lib\\site-packages\\ipykernel\\compiler.py:91: size=207 B, count=2, average=104 B\n",
      "d:\\_DA+DS\\03_Python\\complete-python-DS-ML-bootcamp\\venv\\Lib\\asyncio\\futures.py:420: size=200 B, count=5, average=40 B\n",
      "d:\\_DA+DS\\03_Python\\complete-python-DS-ML-bootcamp\\venv\\Lib\\site-packages\\IPython\\core\\interactiveshell.py:3224: size=192 B, count=4, average=48 B\n",
      "d:\\_DA+DS\\03_Python\\complete-python-DS-ML-bootcamp\\venv\\Lib\\site-packages\\zmq\\sugar\\socket.py:802: size=176 B, count=1, average=176 B\n",
      "d:\\_DA+DS\\03_Python\\complete-python-DS-ML-bootcamp\\venv\\Lib\\site-packages\\IPython\\core\\history.py:836: size=160 B, count=2, average=80 B\n",
      "d:\\_DA+DS\\03_Python\\complete-python-DS-ML-bootcamp\\venv\\Lib\\site-packages\\ipykernel\\kernelbase.py:570: size=160 B, count=1, average=160 B\n",
      "d:\\_DA+DS\\03_Python\\complete-python-DS-ML-bootcamp\\venv\\Lib\\site-packages\\IPython\\core\\interactiveshell.py:3577: size=160 B, count=1, average=160 B\n",
      "d:\\_DA+DS\\03_Python\\complete-python-DS-ML-bootcamp\\venv\\Lib\\site-packages\\IPython\\core\\interactiveshell.py:3493: size=160 B, count=1, average=160 B\n",
      "d:\\_DA+DS\\03_Python\\complete-python-DS-ML-bootcamp\\venv\\Lib\\site-packages\\IPython\\core\\interactiveshell.py:3237: size=160 B, count=1, average=160 B\n",
      "d:\\_DA+DS\\03_Python\\complete-python-DS-ML-bootcamp\\venv\\Lib\\asyncio\\futures.py:389: size=160 B, count=1, average=160 B\n",
      "d:\\_DA+DS\\03_Python\\complete-python-DS-ML-bootcamp\\venv\\Lib\\asyncio\\futures.py:383: size=160 B, count=1, average=160 B\n",
      "C:\\Users\\pcslg\\AppData\\Local\\Temp\\ipykernel_23208\\3845287330.py:7: size=160 B, count=1, average=160 B\n",
      "C:\\Users\\pcslg\\AppData\\Local\\Temp\\ipykernel_23208\\3845287330.py:4: size=160 B, count=1, average=160 B\n",
      "d:\\_DA+DS\\03_Python\\complete-python-DS-ML-bootcamp\\venv\\Lib\\site-packages\\ipykernel\\iostream.py:722: size=144 B, count=2, average=72 B\n",
      "d:\\_DA+DS\\03_Python\\complete-python-DS-ML-bootcamp\\venv\\Lib\\threading.py:348: size=120 B, count=2, average=60 B\n",
      "d:\\_DA+DS\\03_Python\\complete-python-DS-ML-bootcamp\\venv\\Lib\\threading.py:135: size=120 B, count=2, average=60 B\n",
      "d:\\_DA+DS\\03_Python\\complete-python-DS-ML-bootcamp\\venv\\Lib\\site-packages\\ipykernel\\kernelbase.py:318: size=120 B, count=2, average=60 B\n",
      "d:\\_DA+DS\\03_Python\\complete-python-DS-ML-bootcamp\\venv\\Lib\\site-packages\\ipykernel\\iostream.py:276: size=120 B, count=1, average=120 B\n",
      "d:\\_DA+DS\\03_Python\\complete-python-DS-ML-bootcamp\\venv\\Lib\\asyncio\\base_events.py:777: size=120 B, count=1, average=120 B\n",
      "d:\\_DA+DS\\03_Python\\complete-python-DS-ML-bootcamp\\venv\\Lib\\site-packages\\jupyter_client\\session.py:989: size=111 B, count=2, average=56 B\n",
      "d:\\_DA+DS\\03_Python\\complete-python-DS-ML-bootcamp\\venv\\Lib\\site-packages\\dateutil\\parser\\isoparser.py:146: size=96 B, count=2, average=48 B\n",
      "d:\\_DA+DS\\03_Python\\complete-python-DS-ML-bootcamp\\venv\\Lib\\site-packages\\IPython\\core\\interactiveshell.py:3375: size=96 B, count=2, average=48 B\n",
      "d:\\_DA+DS\\03_Python\\complete-python-DS-ML-bootcamp\\venv\\Lib\\site-packages\\IPython\\core\\history.py:805: size=90 B, count=2, average=45 B\n",
      "d:\\_DA+DS\\03_Python\\complete-python-DS-ML-bootcamp\\venv\\Lib\\threading.py:292: size=72 B, count=1, average=72 B\n",
      "d:\\_DA+DS\\03_Python\\complete-python-DS-ML-bootcamp\\venv\\Lib\\threading.py:288: size=72 B, count=1, average=72 B\n",
      "d:\\_DA+DS\\03_Python\\complete-python-DS-ML-bootcamp\\venv\\Lib\\threading.py:283: size=72 B, count=1, average=72 B\n",
      "d:\\_DA+DS\\03_Python\\complete-python-DS-ML-bootcamp\\venv\\Lib\\threading.py:282: size=72 B, count=1, average=72 B\n",
      "d:\\_DA+DS\\03_Python\\complete-python-DS-ML-bootcamp\\venv\\Lib\\site-packages\\tornado\\queues.py:318: size=64 B, count=2, average=32 B\n",
      "d:\\_DA+DS\\03_Python\\complete-python-DS-ML-bootcamp\\venv\\Lib\\site-packages\\IPython\\core\\interactiveshell.py:3509: size=64 B, count=2, average=32 B\n",
      "d:\\_DA+DS\\03_Python\\complete-python-DS-ML-bootcamp\\venv\\Lib\\threading.py:652: size=64 B, count=1, average=64 B\n",
      "d:\\_DA+DS\\03_Python\\complete-python-DS-ML-bootcamp\\venv\\Lib\\site-packages\\zmq\\sugar\\socket.py:806: size=64 B, count=1, average=64 B\n",
      "d:\\_DA+DS\\03_Python\\complete-python-DS-ML-bootcamp\\venv\\Lib\\site-packages\\traitlets\\traitlets.py:1540: size=64 B, count=1, average=64 B\n",
      "d:\\_DA+DS\\03_Python\\complete-python-DS-ML-bootcamp\\venv\\Lib\\site-packages\\ipykernel\\kernelbase.py:721: size=64 B, count=1, average=64 B\n",
      "d:\\_DA+DS\\03_Python\\complete-python-DS-ML-bootcamp\\venv\\Lib\\site-packages\\ipykernel\\ipkernel.py:384: size=64 B, count=1, average=64 B\n",
      "d:\\_DA+DS\\03_Python\\complete-python-DS-ML-bootcamp\\venv\\Lib\\site-packages\\ipykernel\\ipkernel.py:383: size=64 B, count=1, average=64 B\n",
      "d:\\_DA+DS\\03_Python\\complete-python-DS-ML-bootcamp\\venv\\Lib\\site-packages\\ipykernel\\ipkernel.py:294: size=64 B, count=1, average=64 B\n",
      "d:\\_DA+DS\\03_Python\\complete-python-DS-ML-bootcamp\\venv\\Lib\\site-packages\\ipykernel\\ipkernel.py:291: size=64 B, count=1, average=64 B\n",
      "d:\\_DA+DS\\03_Python\\complete-python-DS-ML-bootcamp\\venv\\Lib\\site-packages\\decorator.py:232: size=64 B, count=1, average=64 B\n",
      "d:\\_DA+DS\\03_Python\\complete-python-DS-ML-bootcamp\\venv\\Lib\\site-packages\\IPython\\core\\interactiveshell.py:3566: size=64 B, count=1, average=64 B\n",
      "d:\\_DA+DS\\03_Python\\complete-python-DS-ML-bootcamp\\venv\\Lib\\site-packages\\IPython\\core\\interactiveshell.py:3303: size=64 B, count=1, average=64 B\n",
      "d:\\_DA+DS\\03_Python\\complete-python-DS-ML-bootcamp\\venv\\Lib\\site-packages\\IPython\\core\\interactiveshell.py:3300: size=64 B, count=1, average=64 B\n",
      "d:\\_DA+DS\\03_Python\\complete-python-DS-ML-bootcamp\\venv\\Lib\\selectors.py:323: size=56 B, count=1, average=56 B\n",
      "d:\\_DA+DS\\03_Python\\complete-python-DS-ML-bootcamp\\venv\\Lib\\site-packages\\ipykernel\\iostream.py:684: size=50 B, count=1, average=50 B\n",
      "d:\\_DA+DS\\03_Python\\complete-python-DS-ML-bootcamp\\venv\\Lib\\site-packages\\jupyter_client\\session.py:200: size=48 B, count=1, average=48 B\n",
      "d:\\_DA+DS\\03_Python\\complete-python-DS-ML-bootcamp\\venv\\Lib\\site-packages\\IPython\\core\\interactiveshell.py:3505: size=48 B, count=1, average=48 B\n",
      "d:\\_DA+DS\\03_Python\\complete-python-DS-ML-bootcamp\\venv\\Lib\\concurrent\\futures\\_base.py:330: size=48 B, count=1, average=48 B\n",
      "d:\\_DA+DS\\03_Python\\complete-python-DS-ML-bootcamp\\venv\\Lib\\site-packages\\IPython\\core\\prefilter.py:317: size=47 B, count=1, average=47 B\n",
      "d:\\_DA+DS\\03_Python\\complete-python-DS-ML-bootcamp\\venv\\Lib\\site-packages\\jupyter_client\\session.py:996: size=32 B, count=1, average=32 B\n",
      "d:\\_DA+DS\\03_Python\\complete-python-DS-ML-bootcamp\\venv\\Lib\\site-packages\\jupyter_client\\session.py:603: size=32 B, count=1, average=32 B\n",
      "d:\\_DA+DS\\03_Python\\complete-python-DS-ML-bootcamp\\venv\\Lib\\site-packages\\ipykernel\\iostream.py:637: size=32 B, count=1, average=32 B\n",
      "d:\\_DA+DS\\03_Python\\complete-python-DS-ML-bootcamp\\venv\\Lib\\site-packages\\IPython\\core\\interactiveshell.py:3503: size=32 B, count=1, average=32 B\n",
      "d:\\_DA+DS\\03_Python\\complete-python-DS-ML-bootcamp\\venv\\Lib\\site-packages\\IPython\\core\\compilerop.py:192: size=32 B, count=1, average=32 B\n",
      "d:\\_DA+DS\\03_Python\\complete-python-DS-ML-bootcamp\\venv\\Lib\\queue.py:151: size=32 B, count=1, average=32 B\n",
      "d:\\_DA+DS\\03_Python\\complete-python-DS-ML-bootcamp\\venv\\Lib\\concurrent\\futures\\_base.py:421: size=32 B, count=1, average=32 B\n",
      "d:\\_DA+DS\\03_Python\\complete-python-DS-ML-bootcamp\\venv\\Lib\\asyncio\\base_events.py:1976: size=32 B, count=1, average=32 B\n",
      "d:\\_DA+DS\\03_Python\\complete-python-DS-ML-bootcamp\\venv\\Lib\\asyncio\\base_events.py:780: size=32 B, count=1, average=32 B\n",
      "d:\\_DA+DS\\03_Python\\complete-python-DS-ML-bootcamp\\venv\\Lib\\site-packages\\ipykernel\\kernelbase.py:560: size=28 B, count=1, average=28 B\n",
      "d:\\_DA+DS\\03_Python\\complete-python-DS-ML-bootcamp\\venv\\Lib\\site-packages\\IPython\\core\\compilerop.py:172: size=28 B, count=1, average=28 B\n",
      "d:\\_DA+DS\\03_Python\\complete-python-DS-ML-bootcamp\\venv\\Lib\\site-packages\\IPython\\core\\interactiveshell.py:3485: size=8 B, count=1, average=8 B\n"
     ]
    }
   ],
   "source": [
    "main()"
   ]
  },
  {
   "cell_type": "code",
   "execution_count": null,
   "id": "470a4ec7",
   "metadata": {},
   "outputs": [],
   "source": []
  }
 ],
 "metadata": {
  "kernelspec": {
   "display_name": "Python 3",
   "language": "python",
   "name": "python3"
  },
  "language_info": {
   "codemirror_mode": {
    "name": "ipython",
    "version": 3
   },
   "file_extension": ".py",
   "mimetype": "text/x-python",
   "name": "python",
   "nbconvert_exporter": "python",
   "pygments_lexer": "ipython3",
   "version": "3.12.8"
  }
 },
 "nbformat": 4,
 "nbformat_minor": 5
}
